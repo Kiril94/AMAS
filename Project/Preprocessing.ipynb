{
 "cells": [
  {
   "cell_type": "code",
   "execution_count": 879,
   "id": "geological-submission",
   "metadata": {},
   "outputs": [],
   "source": [
    "import pandas as pd\n",
    "import numpy as np\n",
    "import dtale\n",
    "from scipy import stats\n",
    "import random\n",
    "from sklearn.preprocessing import RobustScaler\n",
    "import matplotlib.pyplot as plt"
   ]
  },
  {
   "cell_type": "markdown",
   "id": "substantial-commerce",
   "metadata": {},
   "source": [
    "* Separate test set\n",
    "* remove nan values\n",
    "* separate val set\n",
    "* replace remaining nan values\n",
    "* reshape\n",
    "* Augment\n",
    "* scale"
   ]
  },
  {
   "cell_type": "code",
   "execution_count": 501,
   "id": "attended-berkeley",
   "metadata": {},
   "outputs": [
    {
     "data": {
      "text/html": [
       "<div>\n",
       "<style scoped>\n",
       "    .dataframe tbody tr th:only-of-type {\n",
       "        vertical-align: middle;\n",
       "    }\n",
       "\n",
       "    .dataframe tbody tr th {\n",
       "        vertical-align: top;\n",
       "    }\n",
       "\n",
       "    .dataframe thead th {\n",
       "        text-align: right;\n",
       "    }\n",
       "</style>\n",
       "<table border=\"1\" class=\"dataframe\">\n",
       "  <thead>\n",
       "    <tr style=\"text-align: right;\">\n",
       "      <th></th>\n",
       "      <th>A3</th>\n",
       "      <th>Year</th>\n",
       "      <th>Control of Corruption: Estimate</th>\n",
       "      <th>Control of Corruption: Standard Error</th>\n",
       "      <th>Government Effectiveness: Estimate</th>\n",
       "      <th>Government Effectiveness: Standard Error</th>\n",
       "      <th>Political Stability and Absence of Violence/Terrorism: Estimate</th>\n",
       "      <th>Political Stability and Absence of Violence/Terrorism: Standard Error</th>\n",
       "      <th>Regulatory Quality: Estimate</th>\n",
       "      <th>Regulatory Quality: Standard Error</th>\n",
       "      <th>Rule of Law: Estimate</th>\n",
       "      <th>Rule of Law: Standard Error</th>\n",
       "      <th>Voice and Accountability: Estimate</th>\n",
       "      <th>Voice and Accountability: Standard Error</th>\n",
       "      <th>Temperature change</th>\n",
       "      <th>HDI</th>\n",
       "      <th>Population</th>\n",
       "      <th>Refugees</th>\n",
       "    </tr>\n",
       "  </thead>\n",
       "  <tbody>\n",
       "    <tr>\n",
       "      <th>0</th>\n",
       "      <td>ABW</td>\n",
       "      <td>1996</td>\n",
       "      <td>NaN</td>\n",
       "      <td>NaN</td>\n",
       "      <td>NaN</td>\n",
       "      <td>NaN</td>\n",
       "      <td>NaN</td>\n",
       "      <td>NaN</td>\n",
       "      <td>NaN</td>\n",
       "      <td>NaN</td>\n",
       "      <td>NaN</td>\n",
       "      <td>NaN</td>\n",
       "      <td>NaN</td>\n",
       "      <td>NaN</td>\n",
       "      <td>0.875</td>\n",
       "      <td>NaN</td>\n",
       "      <td>NaN</td>\n",
       "      <td>NaN</td>\n",
       "    </tr>\n",
       "    <tr>\n",
       "      <th>1</th>\n",
       "      <td>ABW</td>\n",
       "      <td>1997</td>\n",
       "      <td>NaN</td>\n",
       "      <td>NaN</td>\n",
       "      <td>NaN</td>\n",
       "      <td>NaN</td>\n",
       "      <td>NaN</td>\n",
       "      <td>NaN</td>\n",
       "      <td>NaN</td>\n",
       "      <td>NaN</td>\n",
       "      <td>NaN</td>\n",
       "      <td>NaN</td>\n",
       "      <td>NaN</td>\n",
       "      <td>NaN</td>\n",
       "      <td>0.551</td>\n",
       "      <td>NaN</td>\n",
       "      <td>NaN</td>\n",
       "      <td>NaN</td>\n",
       "    </tr>\n",
       "  </tbody>\n",
       "</table>\n",
       "</div>"
      ],
      "text/plain": [
       "    A3  Year  Control of Corruption: Estimate  \\\n",
       "0  ABW  1996                              NaN   \n",
       "1  ABW  1997                              NaN   \n",
       "\n",
       "   Control of Corruption: Standard Error  Government Effectiveness: Estimate  \\\n",
       "0                                    NaN                                 NaN   \n",
       "1                                    NaN                                 NaN   \n",
       "\n",
       "   Government Effectiveness: Standard Error  \\\n",
       "0                                       NaN   \n",
       "1                                       NaN   \n",
       "\n",
       "   Political Stability and Absence of Violence/Terrorism: Estimate  \\\n",
       "0                                                NaN                 \n",
       "1                                                NaN                 \n",
       "\n",
       "   Political Stability and Absence of Violence/Terrorism: Standard Error  \\\n",
       "0                                                NaN                       \n",
       "1                                                NaN                       \n",
       "\n",
       "   Regulatory Quality: Estimate  Regulatory Quality: Standard Error  \\\n",
       "0                           NaN                                 NaN   \n",
       "1                           NaN                                 NaN   \n",
       "\n",
       "   Rule of Law: Estimate  Rule of Law: Standard Error  \\\n",
       "0                    NaN                          NaN   \n",
       "1                    NaN                          NaN   \n",
       "\n",
       "   Voice and Accountability: Estimate  \\\n",
       "0                                 NaN   \n",
       "1                                 NaN   \n",
       "\n",
       "   Voice and Accountability: Standard Error  Temperature change  HDI  \\\n",
       "0                                       NaN               0.875  NaN   \n",
       "1                                       NaN               0.551  NaN   \n",
       "\n",
       "   Population  Refugees  \n",
       "0         NaN       NaN  \n",
       "1         NaN       NaN  "
      ]
     },
     "execution_count": 501,
     "metadata": {},
     "output_type": "execute_result"
    }
   ],
   "source": [
    "Input0 = pd.read_csv('Data/Input.csv')\n",
    "Input0.head(n=2)"
   ]
  },
  {
   "cell_type": "markdown",
   "id": "closed-calgary",
   "metadata": {},
   "source": [
    "# Separate test set"
   ]
  },
  {
   "cell_type": "markdown",
   "id": "organizational-profile",
   "metadata": {},
   "source": [
    "We'll use time windows of length 4 which have a one year intersection"
   ]
  },
  {
   "cell_type": "code",
   "execution_count": 502,
   "id": "offshore-institute",
   "metadata": {},
   "outputs": [
    {
     "data": {
      "text/html": [
       "<div>\n",
       "<style scoped>\n",
       "    .dataframe tbody tr th:only-of-type {\n",
       "        vertical-align: middle;\n",
       "    }\n",
       "\n",
       "    .dataframe tbody tr th {\n",
       "        vertical-align: top;\n",
       "    }\n",
       "\n",
       "    .dataframe thead th {\n",
       "        text-align: right;\n",
       "    }\n",
       "</style>\n",
       "<table border=\"1\" class=\"dataframe\">\n",
       "  <thead>\n",
       "    <tr style=\"text-align: right;\">\n",
       "      <th></th>\n",
       "      <th>A3</th>\n",
       "      <th>Year</th>\n",
       "      <th>Control of Corruption: Estimate</th>\n",
       "      <th>Control of Corruption: Standard Error</th>\n",
       "      <th>Government Effectiveness: Estimate</th>\n",
       "      <th>Government Effectiveness: Standard Error</th>\n",
       "      <th>Political Stability and Absence of Violence/Terrorism: Estimate</th>\n",
       "      <th>Political Stability and Absence of Violence/Terrorism: Standard Error</th>\n",
       "      <th>Regulatory Quality: Estimate</th>\n",
       "      <th>Regulatory Quality: Standard Error</th>\n",
       "      <th>Rule of Law: Estimate</th>\n",
       "      <th>Rule of Law: Standard Error</th>\n",
       "      <th>Voice and Accountability: Estimate</th>\n",
       "      <th>Voice and Accountability: Standard Error</th>\n",
       "      <th>Temperature change</th>\n",
       "      <th>HDI</th>\n",
       "      <th>Population</th>\n",
       "      <th>Refugees</th>\n",
       "    </tr>\n",
       "  </thead>\n",
       "  <tbody>\n",
       "    <tr>\n",
       "      <th>2205</th>\n",
       "      <td>IRQ</td>\n",
       "      <td>2017</td>\n",
       "      <td>-1.372151</td>\n",
       "      <td>0.145303</td>\n",
       "      <td>-1.263284</td>\n",
       "      <td>0.212206</td>\n",
       "      <td>-2.306718</td>\n",
       "      <td>0.224583</td>\n",
       "      <td>-1.203296</td>\n",
       "      <td>0.202883</td>\n",
       "      <td>-1.637448</td>\n",
       "      <td>0.172265</td>\n",
       "      <td>-1.046867</td>\n",
       "      <td>0.132079</td>\n",
       "      <td>1.574</td>\n",
       "      <td>0.667</td>\n",
       "      <td>37552781.0</td>\n",
       "      <td>362536.0</td>\n",
       "    </tr>\n",
       "    <tr>\n",
       "      <th>2206</th>\n",
       "      <td>IRQ</td>\n",
       "      <td>2018</td>\n",
       "      <td>-1.399581</td>\n",
       "      <td>0.151391</td>\n",
       "      <td>-1.320548</td>\n",
       "      <td>0.221914</td>\n",
       "      <td>-2.516502</td>\n",
       "      <td>0.223906</td>\n",
       "      <td>-1.162634</td>\n",
       "      <td>0.203882</td>\n",
       "      <td>-1.758796</td>\n",
       "      <td>0.166371</td>\n",
       "      <td>-0.985460</td>\n",
       "      <td>0.136812</td>\n",
       "      <td>2.511</td>\n",
       "      <td>0.671</td>\n",
       "      <td>38433600.0</td>\n",
       "      <td>372332.0</td>\n",
       "    </tr>\n",
       "  </tbody>\n",
       "</table>\n",
       "</div>"
      ],
      "text/plain": [
       "       A3  Year  Control of Corruption: Estimate  \\\n",
       "2205  IRQ  2017                        -1.372151   \n",
       "2206  IRQ  2018                        -1.399581   \n",
       "\n",
       "      Control of Corruption: Standard Error  \\\n",
       "2205                               0.145303   \n",
       "2206                               0.151391   \n",
       "\n",
       "      Government Effectiveness: Estimate  \\\n",
       "2205                           -1.263284   \n",
       "2206                           -1.320548   \n",
       "\n",
       "      Government Effectiveness: Standard Error  \\\n",
       "2205                                  0.212206   \n",
       "2206                                  0.221914   \n",
       "\n",
       "      Political Stability and Absence of Violence/Terrorism: Estimate  \\\n",
       "2205                                          -2.306718                 \n",
       "2206                                          -2.516502                 \n",
       "\n",
       "      Political Stability and Absence of Violence/Terrorism: Standard Error  \\\n",
       "2205                                           0.224583                       \n",
       "2206                                           0.223906                       \n",
       "\n",
       "      Regulatory Quality: Estimate  Regulatory Quality: Standard Error  \\\n",
       "2205                     -1.203296                            0.202883   \n",
       "2206                     -1.162634                            0.203882   \n",
       "\n",
       "      Rule of Law: Estimate  Rule of Law: Standard Error  \\\n",
       "2205              -1.637448                     0.172265   \n",
       "2206              -1.758796                     0.166371   \n",
       "\n",
       "      Voice and Accountability: Estimate  \\\n",
       "2205                           -1.046867   \n",
       "2206                           -0.985460   \n",
       "\n",
       "      Voice and Accountability: Standard Error  Temperature change    HDI  \\\n",
       "2205                                  0.132079               1.574  0.667   \n",
       "2206                                  0.136812               2.511  0.671   \n",
       "\n",
       "      Population  Refugees  \n",
       "2205  37552781.0  362536.0  \n",
       "2206  38433600.0  372332.0  "
      ]
     },
     "execution_count": 502,
     "metadata": {},
     "output_type": "execute_result"
    }
   ],
   "source": [
    "Test_country_list = ['IRQ', 'SYR', 'LBY', 'LBN','JOR', 'SAU', 'TUN', 'THA', 'UKR']\n",
    "Test_mask = Input0['A3'].isin(Test_country_list)\n",
    "Test = Input0[Test_mask]\n",
    "Train_val = Input0[~Test_mask]\n",
    "#we are ony interested in the last period 2017-2020\n",
    "Test = Test[(Test['Year']>2016) & (Test['Year']<2021)]\n",
    "Test.head(2)"
   ]
  },
  {
   "cell_type": "markdown",
   "id": "grateful-assembly",
   "metadata": {},
   "source": [
    "# Remove/Replace nans, separate validation set"
   ]
  },
  {
   "cell_type": "code",
   "execution_count": 561,
   "id": "reflected-forty",
   "metadata": {},
   "outputs": [],
   "source": [
    "#Let us first create a lsit for the 8 time periods of length 4:\n",
    "Periods = [list(range(1996,2000)), list(range(1999,2003)),\n",
    "        list(range(2002,2006)), list(range(2005,2009)),\n",
    "        list(range(2008,2012)), list(range(2011,2015)),\n",
    "        list(range(2014,2018)), list(range(2017,2021))]\n",
    "Predict_year = list(range(1999,2021,3))"
   ]
  },
  {
   "cell_type": "markdown",
   "id": "pending-spencer",
   "metadata": {},
   "source": [
    "## Remove whole period for a country if target year is missing "
   ]
  },
  {
   "cell_type": "code",
   "execution_count": 562,
   "id": "floppy-engineer",
   "metadata": {},
   "outputs": [],
   "source": [
    "#lets remove the whole period for a country, if refugee number is not given for the end of the period(prediction year)\n",
    "#first we create a list and separate the periods\n",
    "Input_periods0 = []\n",
    "for i in range(8):\n",
    "    #separate into 8 time windows\n",
    "    Input_periods0.append(Train_val[Train_val['Year'].isin(Periods[i])])"
   ]
  },
  {
   "cell_type": "code",
   "execution_count": 563,
   "id": "interstate-orlando",
   "metadata": {},
   "outputs": [],
   "source": [
    "Input_periods1 = []\n",
    "for i in range(8):\n",
    "    period = Input_periods0[i]\n",
    "    predict_mask = period['Year'] == Predict_year[i]#mask prediciton years\n",
    "    predict_years = period[predict_mask] #select prediction years\n",
    "    missing_pred_mask = predict_years['Refugees'].isnull() #mask nan vals\n",
    "    missing_countries_list = predict_years[missing_pred_mask]['A3']#countries with nans\n",
    "    nan_countries_mask = period['A3'].isin(missing_countries_list)#mask nan countries\n",
    "    period_clean = period[~nan_countries_mask]#drop these countries\n",
    "    Input_periods1.append(period_clean)"
   ]
  },
  {
   "cell_type": "markdown",
   "id": "actual-service",
   "metadata": {},
   "source": [
    "## Remove nans if nan count above threshold"
   ]
  },
  {
   "cell_type": "markdown",
   "id": "operating-society",
   "metadata": {},
   "source": [
    "There are 10 features and the period has a length of 4 \\\n",
    "-this means half the entries is 20, let's set this as a threshold\\\n",
    "    if the overall nan count for a country exceeds 20 let's exclude this country\\\n",
    "-else we use the mean over the present entries, if one feature has no entries at all, lets replace it by the overall mean\n",
    "of this period"
   ]
  },
  {
   "cell_type": "markdown",
   "id": "local-appeal",
   "metadata": {},
   "source": [
    "### Separate std\n",
    "    we separate the std columns to use the later for augmentation, for now they are not important\n",
    "    to not apply all the operations to the std columns, we do an inner merge at the end"
   ]
  },
  {
   "cell_type": "code",
   "execution_count": 564,
   "id": "boring-tribe",
   "metadata": {},
   "outputs": [],
   "source": [
    "Std_periods = []\n",
    "Input_periods2 = []\n",
    "std_columns = [c for c in Input_periods1[0].columns if c[-5:]=='Error']\n",
    "for i in range(8):\n",
    "    columns = ['A3', 'Year']+std_columns\n",
    "    Std_periods.append(Train_periods1[i][columns])\n",
    "    Input_periods2.append(Train_periods1[i].drop(columns = std_columns))"
   ]
  },
  {
   "cell_type": "markdown",
   "id": "charitable-addition",
   "metadata": {
    "heading_collapsed": true
   },
   "source": [
    "### Remove nans"
   ]
  },
  {
   "cell_type": "code",
   "execution_count": 577,
   "id": "duplicate-ranch",
   "metadata": {
    "hidden": true
   },
   "outputs": [],
   "source": [
    "Input_periods3 = []\n",
    "for i in range(8):\n",
    "    # except ref num no other features are needed in the target year 2020\n",
    "    # so before counting nans, lets exclude it\n",
    "    target_mask = Input_periods2[i]['Year'] == Predict_year[-1]#mask 2020\n",
    "    Input_no_target = Input_periods2[i][~target_mask]#exclude 2020\n",
    "    \n",
    "    nan_count_df = Input_no_target.drop('A3', 1).isna().groupby(Input_no_target.A3, sort=False).sum().reset_index()\n",
    "    nan_count_total = nan_count_df.sum(axis = 1)\n",
    "    nan_count_mask = nan_count_total<=20#total nan countr threshold\n",
    "    #we include only these countries, so now let's apply the mask\n",
    "    include_countries = nan_count_df[nan_count_mask]\n",
    "    include_countries_mask = Input_periods2[i].A3.isin(include_countries['A3'])\n",
    "    Input_periods3.append(Input_periods2[i][include_countries_mask])"
   ]
  },
  {
   "cell_type": "markdown",
   "id": "juvenile-fusion",
   "metadata": {},
   "source": [
    "## Remove country if a column has only nans for a country in a period"
   ]
  },
  {
   "cell_type": "code",
   "execution_count": 578,
   "id": "informative-racing",
   "metadata": {},
   "outputs": [],
   "source": [
    "Input_periods4 = []\n",
    "for i in range(8):\n",
    "    #again lets first exclude targets\n",
    "    target_mask = Input_periods3[i]['Year']==Predict_year[i]\n",
    "    Input_no_target = Input_periods3[i][~target_mask]#exclude target years\n",
    "    \n",
    "    nan_count_df = Input_no_target.drop('A3', 1).isna().groupby(Input_no_target.A3, sort=False).sum().reset_index()\n",
    "    nan_count_mask = nan_count_df.iloc[:,2:] == 3 #mask where all 3 input years are nan\n",
    "    delete_rows_mask = nan_count_mask.any(axis=1)\n",
    "    delete_rows = nan_count_df[delete_rows_mask]\n",
    "    exclude_countries = delete_rows.A3.unique()\n",
    "    exclude_countries_mask = Input_periods3[i].A3.isin(exclude_countries)\n",
    "    Input_periods4.append(Input_periods3[i][~exclude_countries_mask])"
   ]
  },
  {
   "cell_type": "markdown",
   "id": "hearing-posting",
   "metadata": {},
   "source": [
    "## Validation set"
   ]
  },
  {
   "cell_type": "markdown",
   "id": "injured-version",
   "metadata": {},
   "source": [
    "Since the validation set should resemble real world data, we separate it before replacing any nan values"
   ]
  },
  {
   "cell_type": "code",
   "execution_count": 792,
   "id": "centered-spectrum",
   "metadata": {},
   "outputs": [],
   "source": [
    "Validation_periods = []\n",
    "Train_periods = []\n",
    "for i in range(8):\n",
    "    #again lets first exclude targets\n",
    "    target_mask = Input_periods4[i]['Year']==Predict_year[i]\n",
    "    Input_no_target = Input_periods4[i][~target_mask]\n",
    "    #Lets separate countries that have nan entries\n",
    "    nan_count_df = Input_no_target.drop('A3', 1).isna().groupby(Input_no_target.A3, sort=False).sum().reset_index()\n",
    "    nan_count_total = nan_count_df.sum(axis = 1)#sum over columns\n",
    "    no_nan_mask = nan_count_total == 0 #no nans mask\n",
    "    no_nan_countries = nan_count_df[no_nan_mask]#we include only these countries, so now let's apply the mask\n",
    "    Country_list = no_nan_countries.A3.unique()\n",
    "    #We take 10 percent for validation\n",
    "    random.seed(version=2)\n",
    "    val_countries = random.sample(\n",
    "        list(Country_list), int(len(Country_list)/10))\n",
    "    validation_mask = Input_periods4[i].A3.isin(val_countries)\n",
    "    val = Input_periods4[i][validation_mask]\n",
    "    #Sort by vountry and year before storing it\n",
    "    val = val.sort_values(['A3', 'Year'], ascending=[True, True])\n",
    "    train = Input_periods4[i][~validation_mask]\n",
    "    Train_periods.append(train)\n",
    "    Validation_periods.append(val)"
   ]
  },
  {
   "cell_type": "markdown",
   "id": "progressive-ministry",
   "metadata": {},
   "source": [
    "## Replace all remaining nan values with the mean over the country (within one period)"
   ]
  },
  {
   "cell_type": "code",
   "execution_count": 609,
   "id": "civilian-demographic",
   "metadata": {},
   "outputs": [
    {
     "name": "stderr",
     "output_type": "stream",
     "text": [
      "D:\\Programme\\Anaconda\\envs\\tfCPU\\lib\\site-packages\\pandas\\core\\indexing.py:1717: SettingWithCopyWarning:\n",
      "\n",
      "\n",
      "A value is trying to be set on a copy of a slice from a DataFrame.\n",
      "Try using .loc[row_indexer,col_indexer] = value instead\n",
      "\n",
      "See the caveats in the documentation: https://pandas.pydata.org/pandas-docs/stable/user_guide/indexing.html#returning-a-view-versus-a-copy\n",
      "\n"
     ]
    }
   ],
   "source": [
    "Train_periods1 = []\n",
    "for i in range(8):\n",
    "    #Lets exclude the last target \n",
    "    target_mask = Train_periods[i]['Year']==Predict_year[-1]\n",
    "    Input_no_target = Train_periods[i][~target_mask]\n",
    "    Input_target = Train_periods[i][target_mask]\n",
    "    #select feature columns\n",
    "    feat_columns = Input_no_target.columns[2:]\n",
    "    #Replace missing  values with mean\n",
    "    feat_input = Input_no_target[feat_columns]\n",
    "    Input_no_target.loc[:,feat_columns] = feat_input.fillna(\n",
    "        Input_no_target.groupby('A3')[feat_columns].transform('mean'))\n",
    "    Input = pd.concat([Input_no_target, Input_target])\n",
    "    Train_periods1.append(Input)"
   ]
  },
  {
   "cell_type": "markdown",
   "id": "radio-webcam",
   "metadata": {},
   "source": [
    "There are by now no nan values, except for 2020"
   ]
  },
  {
   "cell_type": "markdown",
   "id": "spanish-compact",
   "metadata": {},
   "source": [
    "# Reshape \n",
    "    [n_samples, timesteps, features]\n",
    "    samples is always one country for a 5 year period"
   ]
  },
  {
   "cell_type": "markdown",
   "id": "minus-cliff",
   "metadata": {},
   "source": [
    "## Merge with Std "
   ]
  },
  {
   "cell_type": "code",
   "execution_count": 626,
   "id": "future-elite",
   "metadata": {
    "scrolled": true
   },
   "outputs": [
    {
     "name": "stdout",
     "output_type": "stream",
     "text": [
      "10\n"
     ]
    },
    {
     "data": {
      "text/plain": [
       "Index(['A3', 'Year', 'Control of Corruption: Estimate',\n",
       "       'Government Effectiveness: Estimate',\n",
       "       'Political Stability and Absence of Violence/Terrorism: Estimate',\n",
       "       'Regulatory Quality: Estimate', 'Rule of Law: Estimate',\n",
       "       'Voice and Accountability: Estimate', 'Temperature change', 'HDI',\n",
       "       'Population', 'Refugees'],\n",
       "      dtype='object')"
      ]
     },
     "execution_count": 626,
     "metadata": {},
     "output_type": "execute_result"
    }
   ],
   "source": [
    "print(len(Train_periods1[0].columns)-2)\n",
    "#Therre are 10 features\n",
    "Train_periods[0].columns"
   ]
  },
  {
   "cell_type": "code",
   "execution_count": 652,
   "id": "choice-discussion",
   "metadata": {},
   "outputs": [],
   "source": [
    "Std_periods1 = []\n",
    "Train_periods2 = []\n",
    "for i in range(8):\n",
    "    #inner merge\n",
    "    std_period = Train_periods1[i].merge(Std_periods[i], how = 'inner')\n",
    "    std_period.sort_values(['A3', 'Year'], ascending=[True, True])#sort\n",
    "    Train_periods2.append(std_period.iloc[:,:12])#split up again\n",
    "    Std_periods1.append(std_period.iloc[:,list(range(2))+list(range(12,18))]) \n",
    "    #now the df are in the same order"
   ]
  },
  {
   "cell_type": "markdown",
   "id": "basic-breast",
   "metadata": {},
   "source": [
    "## Reshape and augment"
   ]
  },
  {
   "cell_type": "markdown",
   "id": "better-worst",
   "metadata": {},
   "source": [
    "### Reshape train set and augment"
   ]
  },
  {
   "cell_type": "code",
   "execution_count": 759,
   "id": "equipped-binary",
   "metadata": {},
   "outputs": [],
   "source": [
    "Train_reshaped_list = []\n",
    "num_augmentations = 10\n",
    "for i in range(8):\n",
    "    std_periods = Std_periods1[0]\n",
    "    train_periods = Train_periods2[0]\n",
    "    \n",
    "    num_samples = int(len(std_periods)/4)\n",
    "    timesteps = 4\n",
    "    features_std = len(std_periods.columns)\n",
    "    features_train = len(train_periods.columns)\n",
    "    #reshape array into tf ready form\n",
    "    std_reshaped = np.array(std_periods).reshape((num_samples, timesteps,features_std)  )\n",
    "    train_reshaped = np.array(train_periods).reshape((num_samples, timesteps,features_train)  )\n",
    "    #copy along last dimension: new_shape = [n_samples, timesteps, n_feat, num_aug]\n",
    "    std_all = np.repeat(std_reshaped[:, :, :,np.newaxis], num_augmentations, axis=3)\n",
    "    train_all = np.repeat(train_reshaped[:, :, :,np.newaxis], num_augmentations, axis=3)\n",
    "    #we only augment features, where std is given\n",
    "    train_all[:,:-1,2:8,:] = stats.norm.rvs(\n",
    "        loc = train_all[:,:-1,2:8,:], scale = std_all[:,:-1,2:8,:]) \n",
    "    split_train_all = np.split(train_all, 10,  axis = -1)\n",
    "    train_all = np.concatenate(split_train_all, axis = 0)\n",
    "    Train_reshaped_list.append(train_all)"
   ]
  },
  {
   "cell_type": "code",
   "execution_count": 763,
   "id": "immune-might",
   "metadata": {},
   "outputs": [],
   "source": [
    "Train_all = np.concatenate(Train_reshaped_list, axis = 0)"
   ]
  },
  {
   "cell_type": "code",
   "execution_count": 834,
   "id": "environmental-hacker",
   "metadata": {},
   "outputs": [],
   "source": [
    "#all samples, up until last year, all feats except year andcountry\n",
    "X_train = Train_all[:,:-1,2:,0]#last dimension is singleton\n",
    "Y_train = Train_all[:,-1,-1,0]#all samples, last year, last feature(ref_num)"
   ]
  },
  {
   "cell_type": "markdown",
   "id": "alleged-fundamental",
   "metadata": {},
   "source": [
    "### Reshape val and test set "
   ]
  },
  {
   "cell_type": "markdown",
   "id": "strong-carbon",
   "metadata": {},
   "source": [
    "### Val "
   ]
  },
  {
   "cell_type": "code",
   "execution_count": 798,
   "id": "continuous-jungle",
   "metadata": {},
   "outputs": [],
   "source": [
    "Val_list = []\n",
    "for i in range(8):\n",
    "    val = Validation_periods[i]\n",
    "    num_samples = int(len(val)/4)\n",
    "    timesteps = 4\n",
    "    features_val = len(val.columns)\n",
    "    #reshape\n",
    "    val_reshaped = np.array(val).reshape((num_samples, timesteps,features_val))\n",
    "    Val_list.append(val_reshaped)\n",
    "#convert list to array\n",
    "Val_all = np.concatenate(Val_list, axis = 0)"
   ]
  },
  {
   "cell_type": "markdown",
   "id": "unknown-device",
   "metadata": {},
   "source": [
    "Separate val in input and output "
   ]
  },
  {
   "cell_type": "code",
   "execution_count": 807,
   "id": "after-feeling",
   "metadata": {},
   "outputs": [],
   "source": [
    "X_val = Val_all[:,:-1,2:]#also drop the year and country 'feature'\n",
    "Y_val = Val_all[:,-1,-1]#the length of Yval is the number of samples, \n",
    "#one has maybe to expand it for training"
   ]
  },
  {
   "cell_type": "markdown",
   "id": "complicated-romantic",
   "metadata": {},
   "source": [
    "### Test "
   ]
  },
  {
   "cell_type": "code",
   "execution_count": 849,
   "id": "revolutionary-shade",
   "metadata": {},
   "outputs": [],
   "source": [
    "#we have to drop Error columns\n",
    "std_columns = [c for c in Test.columns if c[-5:]=='Error']\n",
    "Test = Test.drop(columns = std_columns)\n",
    "#seems to be sorted,just to be sure sort again\n",
    "Test = Test.sort_values(['A3', 'Year'], ascending=[True, True])\n",
    "#Reshape\n",
    "num_samples = int(len(Test)/4)\n",
    "timesteps = 4\n",
    "features_test = len(Test.columns)\n",
    "Test_all = np.array(Test).reshape((num_samples, timesteps,features_test))"
   ]
  },
  {
   "cell_type": "markdown",
   "id": "promotional-cream",
   "metadata": {},
   "source": [
    "Separate"
   ]
  },
  {
   "cell_type": "code",
   "execution_count": 850,
   "id": "alert-conflict",
   "metadata": {},
   "outputs": [],
   "source": [
    "X_test = Test_all[:,:-1,2:]#also drop the year and country 'feature'\n",
    "Y_test = Test_all[:,-1,-1]#the length of Yval is the number of samples, "
   ]
  },
  {
   "cell_type": "markdown",
   "id": "north-frederick",
   "metadata": {},
   "source": [
    "# Scaling"
   ]
  },
  {
   "cell_type": "markdown",
   "id": "reliable-guarantee",
   "metadata": {},
   "source": [
    "Use robust scaler to scale inputs"
   ]
  },
  {
   "cell_type": "code",
   "execution_count": 890,
   "id": "closed-hypothesis",
   "metadata": {},
   "outputs": [
    {
     "name": "stdout",
     "output_type": "stream",
     "text": [
      "[0.0 0.0 0.0]\n",
      "[[[0.0 0.0]\n",
      "  [0.0 0.0]]\n",
      "\n",
      " [[0.0 0.0]\n",
      "  [0.0 0.0]]]\n"
     ]
    }
   ],
   "source": [
    "#scale the training set and use this params to scale test and val\n",
    "#we'll scale a feature across all samples and timesteps \n",
    "#thus we have to reshape to (n_samples*timesteps, features), scale\n",
    "#1. Reshape\n",
    "tr_shape = X_train.shape\n",
    "X_train_temp = np.reshape(\n",
    "    X_train,(tr_shape[0]*tr_shape[1], tr_shape[2]), order = 'F')\n",
    "#test if reshaping works as expected\n",
    "length = tr_shape[0]\n",
    "print(X_train[0,:,0]-X_train_temp[[0, length, 2*length],0])#yes\n",
    "#test if original shape is retained\n",
    "X_train_n = np.reshape(X_train_temp, X_train.shape, order = 'F')#yes\n",
    "print(X_train_n[:2,:2,:2]- X_train[:2,:2,:2])\n",
    "#2. Scale \n",
    "transformer = RobustScaler().fit(X_train_temp)\n",
    "X_train_scaled = transformer.transform(X_train_temp)\n",
    "X_train_final = np.reshape(X_train_scaled, X_train.shape, order = 'F')"
   ]
  },
  {
   "cell_type": "code",
   "execution_count": 889,
   "id": "senior-racing",
   "metadata": {},
   "outputs": [],
   "source": [
    "#use the same transformer to scale train and val"
   ]
  },
  {
   "cell_type": "code",
   "execution_count": 893,
   "id": "wrong-alabama",
   "metadata": {},
   "outputs": [],
   "source": [
    "te_shape = X_test.shape\n",
    "X_test_temp = np.reshape(\n",
    "    X_test,(te_shape[0]*te_shape[1], te_shape[2]), order = 'F')\n",
    "X_test_scaled = transformer.transform(X_test_temp)\n",
    "X_test_final = np.reshape(X_test_scaled, X_test.shape, order = 'F')\n",
    "\n",
    "va_shape = X_val.shape\n",
    "X_val_temp = np.reshape(\n",
    "    X_val,(va_shape[0]*va_shape[1], va_shape[2]), order = 'F')\n",
    "X_val_scaled = transformer.transform(X_val_temp)\n",
    "X_val_final = np.reshape(X_val_scaled, X_val.shape, order = 'F')"
   ]
  },
  {
   "cell_type": "markdown",
   "id": "lightweight-prime",
   "metadata": {},
   "source": [
    "Here is an example of how the distribution changed"
   ]
  },
  {
   "cell_type": "code",
   "execution_count": 887,
   "id": "minute-bottom",
   "metadata": {},
   "outputs": [
    {
     "data": {
      "image/png": "[encoded data removed]",
      "text/plain": [
       "<Figure size 432x288 with 1 Axes>"
      ]
     },
     "metadata": {
      "needs_background": "light"
     },
     "output_type": "display_data"
    }
   ],
   "source": [
    "_ = plt.hist(X_train_scaled[:,2],30)\n",
    "_ = plt.hist(X_train_temp[:,2],30, alpha = .5)"
   ]
  },
  {
   "cell_type": "code",
   "execution_count": 897,
   "id": "appreciated-drink",
   "metadata": {},
   "outputs": [
    {
     "data": {
      "image/png": "[encoded data removed]",
      "text/plain": [
       "<Figure size 432x288 with 1 Axes>"
      ]
     },
     "metadata": {
      "needs_background": "light"
     },
     "output_type": "display_data"
    }
   ],
   "source": [
    "_ = plt.hist(X_val_scaled[:,4],30)\n",
    "_ = plt.hist(X_val_temp[:,4],30, alpha = .5)"
   ]
  },
  {
   "cell_type": "markdown",
   "id": "placed-watch",
   "metadata": {},
   "source": [
    "# Store data"
   ]
  },
  {
   "cell_type": "code",
   "execution_count": 913,
   "id": "raising-publicity",
   "metadata": {},
   "outputs": [
    {
     "data": {
      "text/plain": [
       "-0.3012112850150376"
      ]
     },
     "execution_count": 913,
     "metadata": {},
     "output_type": "execute_result"
    }
   ],
   "source": [
    "Tf_ready_dict = {\n",
    "    'X_train':X_train_final, 'Y_train':Y_train,\n",
    "    'X_val':X_val_final, 'Y_val':Y_val,\n",
    "    'X_test':X_test_final, 'Y_test':Y_test}\n",
    "np.save(\"Data_tf_ready.npy\", Tf_ready_dict)\n",
    "d2=np.load(\"Data_tf_ready.npy\", allow_pickle=True)\n",
    "\n",
    "d2[()]['X_train'][1,1,1]"
   ]
  }
 ],
 "metadata": {
  "kernelspec": {
   "display_name": "Python 3",
   "language": "python",
   "name": "python3"
  },
  "language_info": {
   "codemirror_mode": {
    "name": "ipython",
    "version": 3
   },
   "file_extension": ".py",
   "mimetype": "text/x-python",
   "name": "python",
   "nbconvert_exporter": "python",
   "pygments_lexer": "ipython3",
   "version": "3.6.10"
  },
  "latex_envs": {
   "LaTeX_envs_menu_present": true,
   "autoclose": false,
   "autocomplete": true,
   "bibliofile": "biblio.bib",
   "cite_by": "apalike",
   "current_citInitial": 1,
   "eqLabelWithNumbers": true,
   "eqNumInitial": 1,
   "hotkeys": {
    "equation": "Ctrl-E",
    "itemize": "Ctrl-I"
   },
   "labels_anchors": false,
   "latex_user_defs": false,
   "report_style_numbering": false,
   "user_envs_cfg": false
  },
  "toc": {
   "base_numbering": 1,
   "nav_menu": {},
   "number_sections": true,
   "sideBar": true,
   "skip_h1_title": false,
   "title_cell": "Table of Contents",
   "title_sidebar": "Contents",
   "toc_cell": false,
   "toc_position": {},
   "toc_section_display": true,
   "toc_window_display": true
  },
  "varInspector": {
   "cols": {
    "lenName": 16,
    "lenType": 16,
    "lenVar": 40
   },
   "kernels_config": {
    "python": {
     "delete_cmd_postfix": "",
     "delete_cmd_prefix": "del ",
     "library": "var_list.py",
     "varRefreshCmd": "print(var_dic_list())"
    },
    "r": {
     "delete_cmd_postfix": ") ",
     "delete_cmd_prefix": "rm(",
     "library": "var_list.r",
     "varRefreshCmd": "cat(var_dic_list()) "
    }
   },
   "types_to_exclude": [
    "module",
    "function",
    "builtin_function_or_method",
    "instance",
    "_Feature"
   ],
   "window_display": false
  }
 },
 "nbformat": 4,
 "nbformat_minor": 5
}
