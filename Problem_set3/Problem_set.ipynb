{
 "cells": [
  {
   "cell_type": "code",
   "execution_count": 2,
   "id": "universal-linux",
   "metadata": {},
   "outputs": [],
   "source": [
    "import sys\n",
    "sys.path.insert(1, 'D:\\Master\\Blok3\\AAS') #add path of toolbox"
   ]
  },
  {
   "cell_type": "code",
   "execution_count": 167,
   "id": "curious-group",
   "metadata": {},
   "outputs": [],
   "source": [
    "import numpy as np\n",
    "import pandas as pd\n",
    "import matplotlib.pyplot as plt\n",
    "from scipy import stats, optimize, interpolate\n",
    "from matplotlib.ticker import MaxNLocator\n",
    "#custom modules\n",
    "import importlib as il\n",
    "from toolbox import as_toolbox as ast\n",
    "from toolbox import vis\n",
    "from toolbox import fits\n",
    "from iminuit import Minuit\n",
    "from toolbox.ExternalFunctions import UnbinnedLH\n",
    "import urllib\n",
    "import dtale\n",
    "import seaborn as sns\n",
    "from sklearn.model_selection import train_test_split\n",
    "from sklearn.ensemble import GradientBoostingClassifier\n",
    "#from xgboost import XGBClassifier\n",
    "from sklearn.metrics import accuracy_score"
   ]
  },
  {
   "cell_type": "markdown",
   "id": "binding-armor",
   "metadata": {},
   "source": [
    "## 0 "
   ]
  },
  {
   "cell_type": "code",
   "execution_count": 4,
   "id": "reduced-albert",
   "metadata": {},
   "outputs": [
    {
     "data": {
      "image/png": "[encoded data removed]",
      "text/plain": [
       "<Figure size 720x360 with 1 Axes>"
      ]
     },
     "execution_count": 4,
     "metadata": {},
     "output_type": "execute_result"
    }
   ],
   "source": [
    "mu, sig = -2.7, np.sqrt(0.25)\n",
    "def gauss(x): return stats.norm.pdf(x, mu, sig)\n",
    "x = np.linspace(mu-4*sig,mu+4*sig,200)\n",
    "x_sig1 = np.linspace(mu-sig, mu+sig,100)\n",
    "x_sig2l= np.linspace(mu-2*sig, mu-1*sig,100)\n",
    "x_sig2r= np.linspace(mu+1*sig, mu+2*sig,100)\n",
    "x_sig3l= np.linspace(mu-3*sig, mu-2*sig,100)\n",
    "x_sig3r= np.linspace(mu+2*sig, mu+3*sig,100)\n",
    "\n",
    "color = vis.Color_palette(1)[0]\n",
    "fig, ax = vis.nice_plot(\n",
    "    x, gauss(x), save_plot=False, figname='Gauss.pdf', color='k',\n",
    "    linewidth=1, fill_under_curve=False, fill_color='k', show_plot = False)\n",
    "ax.fill_between(x_sig1, gauss(x_sig1), color = '#8c1c1c')\n",
    "ax.fill_between(x_sig2l, gauss(x_sig2l), color = '#ac5052')\n",
    "ax.fill_between(x_sig2r, gauss(x_sig2r), color = '#ac5052')\n",
    "ax.fill_between(x_sig3r, gauss(x_sig3r), color = '#cc8c8c')\n",
    "ax.fill_between(x_sig3l, gauss(x_sig3l), color = '#cc8c8c')\n",
    "\n",
    "fig.tight_layout()\n",
    "fig.savefig('Gauss.pdf', dpi = 80)\n",
    "fig"
   ]
  },
  {
   "cell_type": "markdown",
   "id": "alternative-journalism",
   "metadata": {},
   "source": [
    "# Income"
   ]
  },
  {
   "cell_type": "markdown",
   "id": "multiple-speaker",
   "metadata": {},
   "source": [
    "* Create classifier to separate low income from high income"
   ]
  },
  {
   "cell_type": "markdown",
   "id": "advanced-qualification",
   "metadata": {},
   "source": [
    "## Load/analyse Data "
   ]
  },
  {
   "cell_type": "code",
   "execution_count": 5,
   "id": "seven-boating",
   "metadata": {},
   "outputs": [
    {
     "data": {
      "text/html": [
       "<div>\n",
       "<style scoped>\n",
       "    .dataframe tbody tr th:only-of-type {\n",
       "        vertical-align: middle;\n",
       "    }\n",
       "\n",
       "    .dataframe tbody tr th {\n",
       "        vertical-align: top;\n",
       "    }\n",
       "\n",
       "    .dataframe thead th {\n",
       "        text-align: right;\n",
       "    }\n",
       "</style>\n",
       "<table border=\"1\" class=\"dataframe\">\n",
       "  <thead>\n",
       "    <tr style=\"text-align: right;\">\n",
       "      <th></th>\n",
       "      <th>age</th>\n",
       "      <th>education</th>\n",
       "      <th>gender</th>\n",
       "      <th>hours-per-week</th>\n",
       "      <th>earning</th>\n",
       "    </tr>\n",
       "  </thead>\n",
       "  <tbody>\n",
       "    <tr>\n",
       "      <th>0</th>\n",
       "      <td>39</td>\n",
       "      <td>13</td>\n",
       "      <td>0</td>\n",
       "      <td>40</td>\n",
       "      <td>&lt;=50K</td>\n",
       "    </tr>\n",
       "    <tr>\n",
       "      <th>1</th>\n",
       "      <td>50</td>\n",
       "      <td>13</td>\n",
       "      <td>0</td>\n",
       "      <td>13</td>\n",
       "      <td>&lt;=50K</td>\n",
       "    </tr>\n",
       "    <tr>\n",
       "      <th>2</th>\n",
       "      <td>38</td>\n",
       "      <td>9</td>\n",
       "      <td>0</td>\n",
       "      <td>40</td>\n",
       "      <td>&lt;=50K</td>\n",
       "    </tr>\n",
       "  </tbody>\n",
       "</table>\n",
       "</div>"
      ],
      "text/plain": [
       "   age  education  gender  hours-per-week earning\n",
       "0   39         13       0              40   <=50K\n",
       "1   50         13       0              13   <=50K\n",
       "2   38          9       0              40   <=50K"
      ]
     },
     "execution_count": 5,
     "metadata": {},
     "output_type": "execute_result"
    }
   ],
   "source": [
    "f = urllib.request.urlopen(\n",
    "    'https://www.nbi.dk/~koskinen/Teaching/data/earning_potential_train_test.txt')\n",
    "Inc_data = pd.read_csv(f)\n",
    "Inc_data.head(3)"
   ]
  },
  {
   "cell_type": "code",
   "execution_count": 6,
   "id": "joint-blink",
   "metadata": {},
   "outputs": [
    {
     "data": {
      "text/plain": [
       "age               False\n",
       "education         False\n",
       "gender            False\n",
       "hours-per-week    False\n",
       "earning           False\n",
       "dtype: bool"
      ]
     },
     "execution_count": 6,
     "metadata": {},
     "output_type": "execute_result"
    }
   ],
   "source": [
    "#Are there any nans\n",
    "Inc_data.isnull().any() #nope"
   ]
  },
  {
   "cell_type": "code",
   "execution_count": 7,
   "id": "small-commerce",
   "metadata": {},
   "outputs": [
    {
     "data": {
      "text/html": [
       "<div>\n",
       "<style scoped>\n",
       "    .dataframe tbody tr th:only-of-type {\n",
       "        vertical-align: middle;\n",
       "    }\n",
       "\n",
       "    .dataframe tbody tr th {\n",
       "        vertical-align: top;\n",
       "    }\n",
       "\n",
       "    .dataframe thead th {\n",
       "        text-align: right;\n",
       "    }\n",
       "</style>\n",
       "<table border=\"1\" class=\"dataframe\">\n",
       "  <thead>\n",
       "    <tr style=\"text-align: right;\">\n",
       "      <th></th>\n",
       "      <th>age</th>\n",
       "      <th>education</th>\n",
       "      <th>gender</th>\n",
       "      <th>hours-per-week</th>\n",
       "      <th>earning</th>\n",
       "      <th>target</th>\n",
       "    </tr>\n",
       "  </thead>\n",
       "  <tbody>\n",
       "    <tr>\n",
       "      <th>0</th>\n",
       "      <td>39</td>\n",
       "      <td>13</td>\n",
       "      <td>0</td>\n",
       "      <td>40</td>\n",
       "      <td>&lt;=50K</td>\n",
       "      <td>0</td>\n",
       "    </tr>\n",
       "    <tr>\n",
       "      <th>1</th>\n",
       "      <td>50</td>\n",
       "      <td>13</td>\n",
       "      <td>0</td>\n",
       "      <td>13</td>\n",
       "      <td>&lt;=50K</td>\n",
       "      <td>0</td>\n",
       "    </tr>\n",
       "    <tr>\n",
       "      <th>2</th>\n",
       "      <td>38</td>\n",
       "      <td>9</td>\n",
       "      <td>0</td>\n",
       "      <td>40</td>\n",
       "      <td>&lt;=50K</td>\n",
       "      <td>0</td>\n",
       "    </tr>\n",
       "    <tr>\n",
       "      <th>3</th>\n",
       "      <td>53</td>\n",
       "      <td>7</td>\n",
       "      <td>0</td>\n",
       "      <td>40</td>\n",
       "      <td>&lt;=50K</td>\n",
       "      <td>0</td>\n",
       "    </tr>\n",
       "    <tr>\n",
       "      <th>4</th>\n",
       "      <td>28</td>\n",
       "      <td>13</td>\n",
       "      <td>1</td>\n",
       "      <td>40</td>\n",
       "      <td>&lt;=50K</td>\n",
       "      <td>0</td>\n",
       "    </tr>\n",
       "    <tr>\n",
       "      <th>5</th>\n",
       "      <td>37</td>\n",
       "      <td>14</td>\n",
       "      <td>1</td>\n",
       "      <td>40</td>\n",
       "      <td>&lt;=50K</td>\n",
       "      <td>0</td>\n",
       "    </tr>\n",
       "    <tr>\n",
       "      <th>6</th>\n",
       "      <td>49</td>\n",
       "      <td>5</td>\n",
       "      <td>1</td>\n",
       "      <td>16</td>\n",
       "      <td>&lt;=50K</td>\n",
       "      <td>0</td>\n",
       "    </tr>\n",
       "    <tr>\n",
       "      <th>7</th>\n",
       "      <td>52</td>\n",
       "      <td>9</td>\n",
       "      <td>0</td>\n",
       "      <td>45</td>\n",
       "      <td>&gt;50K</td>\n",
       "      <td>1</td>\n",
       "    </tr>\n",
       "    <tr>\n",
       "      <th>8</th>\n",
       "      <td>31</td>\n",
       "      <td>14</td>\n",
       "      <td>1</td>\n",
       "      <td>50</td>\n",
       "      <td>&gt;50K</td>\n",
       "      <td>1</td>\n",
       "    </tr>\n",
       "    <tr>\n",
       "      <th>9</th>\n",
       "      <td>42</td>\n",
       "      <td>13</td>\n",
       "      <td>0</td>\n",
       "      <td>40</td>\n",
       "      <td>&gt;50K</td>\n",
       "      <td>1</td>\n",
       "    </tr>\n",
       "  </tbody>\n",
       "</table>\n",
       "</div>"
      ],
      "text/plain": [
       "   age  education  gender  hours-per-week earning  target\n",
       "0   39         13       0              40   <=50K       0\n",
       "1   50         13       0              13   <=50K       0\n",
       "2   38          9       0              40   <=50K       0\n",
       "3   53          7       0              40   <=50K       0\n",
       "4   28         13       1              40   <=50K       0\n",
       "5   37         14       1              40   <=50K       0\n",
       "6   49          5       1              16   <=50K       0\n",
       "7   52          9       0              45    >50K       1\n",
       "8   31         14       1              50    >50K       1\n",
       "9   42         13       0              40    >50K       1"
      ]
     },
     "execution_count": 7,
     "metadata": {},
     "output_type": "execute_result"
    }
   ],
   "source": [
    "#This is a classification problem, so lets turn the earning in a binary variable 'target'\n",
    "#0 is lower income, 1 is higher income\n",
    "income_dict = {' <=50K':0, ' >50K':1}\n",
    "Inc_data['target'] = Inc_data['earning'].map(income_dict)\n",
    "Inc_data.head(10)"
   ]
  },
  {
   "cell_type": "code",
   "execution_count": 8,
   "id": "north-update",
   "metadata": {},
   "outputs": [],
   "source": [
    "#g = sns.PairGrid(Inc_data.iloc[:,:-1], hue=\"earning\")\n",
    "#g.map_diag(sns.histplot)\n",
    "#g.map_offdiag(sns.scatterplot)\n",
    "#g.add_legend()"
   ]
  },
  {
   "cell_type": "code",
   "execution_count": 14,
   "id": "controlled-gender",
   "metadata": {},
   "outputs": [],
   "source": [
    "#sns.pairplot(Inc_data.iloc[:,:-1], hue=\"earning\", height=2.5)"
   ]
  },
  {
   "cell_type": "markdown",
   "id": "australian-array",
   "metadata": {},
   "source": [
    "## 1 a\n",
    "precision of selecting high earners with less than 15% low earners"
   ]
  },
  {
   "cell_type": "markdown",
   "id": "broken-montgomery",
   "metadata": {},
   "source": [
    "### Train and compare classifiers"
   ]
  },
  {
   "cell_type": "markdown",
   "id": "aerial-northeast",
   "metadata": {},
   "source": [
    "No feature scaling is required for decision trees!"
   ]
  },
  {
   "cell_type": "code",
   "execution_count": 100,
   "id": "soviet-migration",
   "metadata": {},
   "outputs": [
    {
     "data": {
      "text/plain": [
       "(1658, 502)"
      ]
     },
     "execution_count": 100,
     "metadata": {},
     "output_type": "execute_result"
    }
   ],
   "source": [
    "#Split data in train and test set\n",
    "X, y = Inc_data.iloc[:,:-2], Inc_data.iloc[:,-1]\n",
    "X_train, X_test, y_train, y_test = train_test_split(\n",
    "    X, y, test_size=.48, random_state=1)\n",
    "#We have to exclude at least 500 entries of each class \n",
    "#from the training set for a later task\n",
    "np.count_nonzero(y_test==0), np.count_nonzero(y_test==1)"
   ]
  },
  {
   "cell_type": "code",
   "execution_count": 121,
   "id": "lightweight-telling",
   "metadata": {},
   "outputs": [
    {
     "data": {
      "text/plain": [
       "<matplotlib.collections.PathCollection at 0x1c7d4a6c2b0>"
      ]
     },
     "execution_count": 121,
     "metadata": {},
     "output_type": "execute_result"
    },
    {
     "data": {
      "image/png": "[encoded data removed]",
      "text/plain": [
       "<Figure size 432x288 with 1 Axes>"
      ]
     },
     "metadata": {},
     "output_type": "display_data"
    }
   ],
   "source": [
    "Test_score, Train_score = [], []\n",
    "# fit model no training data\n",
    "for i in range(1,5):\n",
    "    clf = GradientBoostingClassifier(n_estimators=100, learning_rate=1.0,\n",
    "         max_depth=i, random_state=0).fit(X_train, y_train)\n",
    "    Test_score.append(clf.score(X_test, y_test))\n",
    "    Train_score.append(clf.score(X_train, y_train))\n",
    "plt.scatter(np.arange(1,5), np.array(Test_score))\n",
    "plt.scatter(np.arange(1,5), np.array(Train_score))"
   ]
  },
  {
   "cell_type": "markdown",
   "id": "cooked-mission",
   "metadata": {},
   "source": [
    "As asked in the task, we are interested in the precision on the training set."
   ]
  },
  {
   "cell_type": "markdown",
   "id": "tamil-assignment",
   "metadata": {},
   "source": [
    "### Precision "
   ]
  },
  {
   "cell_type": "code",
   "execution_count": 60,
   "id": "korean-friend",
   "metadata": {},
   "outputs": [],
   "source": [
    "def True_Positive(y_pred, y_true):\n",
    "    \"\"\"Compute the number of true positives. \n",
    "    Where positive is 1.\"\"\"\n",
    "    mask_pred = y_pred==1\n",
    "    mask_true = y_true==1\n",
    "    mask_TP = mask_pred&mask_true\n",
    "    return np.count_nonzero(mask_TP)"
   ]
  },
  {
   "cell_type": "code",
   "execution_count": 123,
   "id": "accompanied-elephant",
   "metadata": {},
   "outputs": [
    {
     "name": "stdout",
     "output_type": "stream",
     "text": [
      "precision on the training set: 0.66\n"
     ]
    }
   ],
   "source": [
    "final_clf = GradientBoostingClassifier(n_estimators=100, learning_rate=1.0,\n",
    "         max_depth=1, random_state=0).fit(X_train, y_train)\n",
    "y_train_pred = final_clf.predict(X_train)\n",
    "TP = True_Positive(y_train_pred, y_train)\n",
    "Tot_pos = np.count_nonzero(y_train_pred)#all predicted as positive\n",
    "Precision = TP/Tot_pos\n",
    "print(f\"precision on the training set: {Precision:3.2f}\")"
   ]
  },
  {
   "cell_type": "markdown",
   "id": "received-diversity",
   "metadata": {},
   "source": [
    "### Decision score hist"
   ]
  },
  {
   "cell_type": "code",
   "execution_count": 124,
   "id": "healthy-swedish",
   "metadata": {},
   "outputs": [
    {
     "data": {
      "text/plain": [
       "(1658, 502)"
      ]
     },
     "execution_count": 124,
     "metadata": {},
     "output_type": "execute_result"
    }
   ],
   "source": [
    "np.count_nonzero(y_test==0), np.count_nonzero(y_test==1)"
   ]
  },
  {
   "cell_type": "code",
   "execution_count": 125,
   "id": "efficient-threshold",
   "metadata": {},
   "outputs": [],
   "source": [
    "X_low = X_test[y_test==0]#low\n",
    "X_high = X_test[y_test==1]#high\n",
    "#we select 500 points from each class randomly\n",
    "_,X_low_500,_,_ = train_test_split(X_low, X_low, test_size = 500, random_state = 1)\n",
    "_,X_high_500,_,_ = train_test_split(X_high, X_high, test_size = 500, random_state = 1)\n",
    "ds_500_low = final_clf.decision_function(X_low_500)\n",
    "ds_500_high = final_clf.decision_function(X_high_500)"
   ]
  },
  {
   "cell_type": "code",
   "execution_count": 137,
   "id": "impaired-leader",
   "metadata": {},
   "outputs": [],
   "source": [
    "vis.nice_histogram?"
   ]
  },
  {
   "cell_type": "code",
   "execution_count": 139,
   "id": "champion-saturn",
   "metadata": {},
   "outputs": [
    {
     "data": {
      "image/png": "[encoded data removed]",
      "text/plain": [
       "<Figure size 864x432 with 1 Axes>"
      ]
     },
     "execution_count": 139,
     "metadata": {},
     "output_type": "execute_result"
    }
   ],
   "source": [
    "x, y, binwidth, fig, ax = vis.nice_histogram(\n",
    "    ds_500_low, 40, color_hist='r', data_label_hist='Low Earners')\n",
    "x, y, binwidth, fig, ax = vis.nice_histogram(\n",
    "    ds_500_high, 40, color_hist='k', figure = fig, axis = ax, plot_legend=True,\n",
    "    data_label_hist='High Earners', xlabel=\"Decision Score\", legend_fs=25, \n",
    "    save = True, figname = \"Histogram1a.pdf\", legend_loc=2 )\n",
    "fig"
   ]
  },
  {
   "cell_type": "markdown",
   "id": "confused-repository",
   "metadata": {},
   "source": [
    "## 1b "
   ]
  },
  {
   "cell_type": "markdown",
   "id": "broadband-extent",
   "metadata": {},
   "source": [
    "### Rank variables by feature importance "
   ]
  },
  {
   "cell_type": "code",
   "execution_count": 134,
   "id": "smaller-concentration",
   "metadata": {},
   "outputs": [
    {
     "data": {
      "text/plain": [
       "(Index(['age', 'education', 'hours-per-week', 'gender'], dtype='object'),\n",
       " array([0.45799421, 0.34254827, 0.13858722, 0.0608703 ]))"
      ]
     },
     "execution_count": 134,
     "metadata": {},
     "output_type": "execute_result"
    }
   ],
   "source": [
    "feature_importance = final_clf.feature_importances_\n",
    "feat_imp_ind = np.argsort(feature_importance)[::-1]\n",
    "X.columns[feat_imp_ind], feature_importance[feat_imp_ind]"
   ]
  },
  {
   "cell_type": "markdown",
   "id": "collected-witch",
   "metadata": {},
   "source": [
    "Age and education have a similar importance, hours-per-week has a 3 times lower importance than age and gender is only half as important as hours per week"
   ]
  },
  {
   "cell_type": "markdown",
   "id": "ordered-storage",
   "metadata": {},
   "source": [
    "### Overtraining "
   ]
  },
  {
   "cell_type": "markdown",
   "id": "mental-reward",
   "metadata": {},
   "source": [
    "Overtraining can be identified by comparing train and validation loss. The validation loss, if representative for the distribution of the real world data, indicates the capacity of the model to generalize to previously unseen data. Starting with a small model and increasing it gradually results in a decreasing training and validation loss. However, above a certain model size the validation loss will start to increase whil the training loss will decrease further. This is known as overtraining or overfitting.\\\\\n",
    "There are many ways to avoid overfitting. Here are just some examples: \n",
    "* Dropout: used in neural networks, during training a fraction of the neurons (10-20 \\%) is randomly switched off\n",
    "* Early Stopping: In early stopping the validation loss is observed during training. If the validation loss does not decrease during a specified number of epochs, training is stopped, and model parameters corresponding to the lowest validation loss are stored\n",
    "* Decreasing the number of parameters\n",
    "* Regularization: This adds an additional term to the loss function which punishes high values of parameters. This prevents the network from learning more complex functions"
   ]
  },
  {
   "cell_type": "markdown",
   "id": "confidential-sunglasses",
   "metadata": {},
   "source": [
    "## 1c"
   ]
  },
  {
   "cell_type": "code",
   "execution_count": 135,
   "id": "directed-tract",
   "metadata": {},
   "outputs": [
    {
     "data": {
      "text/html": [
       "<div>\n",
       "<style scoped>\n",
       "    .dataframe tbody tr th:only-of-type {\n",
       "        vertical-align: middle;\n",
       "    }\n",
       "\n",
       "    .dataframe tbody tr th {\n",
       "        vertical-align: top;\n",
       "    }\n",
       "\n",
       "    .dataframe thead th {\n",
       "        text-align: right;\n",
       "    }\n",
       "</style>\n",
       "<table border=\"1\" class=\"dataframe\">\n",
       "  <thead>\n",
       "    <tr style=\"text-align: right;\">\n",
       "      <th></th>\n",
       "      <th>ID</th>\n",
       "      <th>age</th>\n",
       "      <th>education</th>\n",
       "      <th>gender</th>\n",
       "      <th>hours-per-week</th>\n",
       "    </tr>\n",
       "  </thead>\n",
       "  <tbody>\n",
       "    <tr>\n",
       "      <th>0</th>\n",
       "      <td>0</td>\n",
       "      <td>40</td>\n",
       "      <td>9</td>\n",
       "      <td>1</td>\n",
       "      <td>40</td>\n",
       "    </tr>\n",
       "    <tr>\n",
       "      <th>1</th>\n",
       "      <td>1</td>\n",
       "      <td>28</td>\n",
       "      <td>13</td>\n",
       "      <td>1</td>\n",
       "      <td>48</td>\n",
       "    </tr>\n",
       "    <tr>\n",
       "      <th>2</th>\n",
       "      <td>2</td>\n",
       "      <td>49</td>\n",
       "      <td>10</td>\n",
       "      <td>1</td>\n",
       "      <td>30</td>\n",
       "    </tr>\n",
       "  </tbody>\n",
       "</table>\n",
       "</div>"
      ],
      "text/plain": [
       "   ID  age  education  gender  hours-per-week\n",
       "0   0   40          9       1              40\n",
       "1   1   28         13       1              48\n",
       "2   2   49         10       1              30"
      ]
     },
     "execution_count": 135,
     "metadata": {},
     "output_type": "execute_result"
    }
   ],
   "source": [
    "url_real = \"https://www.nbi.dk/~koskinen/Teaching/data/earning_potential_real.txt\"\n",
    "Real_data = pd.read_csv(urllib.request.urlopen(url_real))\n",
    "Real_data.head(3)"
   ]
  },
  {
   "cell_type": "code",
   "execution_count": 136,
   "id": "threatened-board",
   "metadata": {},
   "outputs": [
    {
     "data": {
      "text/plain": [
       "ID                False\n",
       "age               False\n",
       "education         False\n",
       "gender            False\n",
       "hours-per-week    False\n",
       "dtype: bool"
      ]
     },
     "execution_count": 136,
     "metadata": {},
     "output_type": "execute_result"
    }
   ],
   "source": [
    "#Are there any nans\n",
    "Real_data.isnull().any() #nope"
   ]
  },
  {
   "cell_type": "code",
   "execution_count": 145,
   "id": "generous-harmony",
   "metadata": {},
   "outputs": [
    {
     "data": {
      "text/plain": [
       "(546, 3612)"
      ]
     },
     "execution_count": 145,
     "metadata": {},
     "output_type": "execute_result"
    }
   ],
   "source": [
    "y_real_pred = final_clf.predict(Real_data.iloc[:,1:])\n",
    "np.sum(y_real_pred), len(y_real_pred)"
   ]
  },
  {
   "cell_type": "code",
   "execution_count": 162,
   "id": "gross-arabic",
   "metadata": {},
   "outputs": [],
   "source": [
    "Real_data['earning_prediction'] = y_real_pred #store prediction\n",
    "mask0 = Real_data.earning_prediction==0\n",
    "#separate\n",
    "pred_low = Real_data[mask0]\n",
    "pred_high = Real_data[~mask0]\n",
    "#select IDs\n",
    "ID_low = pred_low.ID\n",
    "ID_high = pred_high.ID\n",
    "#save\n",
    "np.savetxt('kiril_klein.low_ID.txt',ID_low,fmt='%i')\n",
    "np.savetxt('kiril_klein.high_ID.txt',ID_high,fmt='%i')"
   ]
  },
  {
   "cell_type": "markdown",
   "id": "classical-concord",
   "metadata": {},
   "source": [
    "# Problem 2 "
   ]
  },
  {
   "cell_type": "code",
   "execution_count": 164,
   "id": "confident-attribute",
   "metadata": {},
   "outputs": [],
   "source": [
    "Data_crashes = pd.read_excel('cpd-crash-incidents.xlsx', engine='openpyxl')"
   ]
  },
  {
   "cell_type": "code",
   "execution_count": 165,
   "id": "fourth-corporation",
   "metadata": {},
   "outputs": [
    {
     "data": {
      "text/html": [
       "<div>\n",
       "<style scoped>\n",
       "    .dataframe tbody tr th:only-of-type {\n",
       "        vertical-align: middle;\n",
       "    }\n",
       "\n",
       "    .dataframe tbody tr th {\n",
       "        vertical-align: top;\n",
       "    }\n",
       "\n",
       "    .dataframe thead th {\n",
       "        text-align: right;\n",
       "    }\n",
       "</style>\n",
       "<table border=\"1\" class=\"dataframe\">\n",
       "  <thead>\n",
       "    <tr style=\"text-align: right;\">\n",
       "      <th></th>\n",
       "      <th>tamainid</th>\n",
       "      <th>location_description</th>\n",
       "      <th>rdfeature</th>\n",
       "      <th>rdcharacter</th>\n",
       "      <th>rdclass</th>\n",
       "      <th>rdconfigur</th>\n",
       "      <th>rdsurface</th>\n",
       "      <th>rdcondition</th>\n",
       "      <th>lightcond</th>\n",
       "      <th>weather</th>\n",
       "      <th>...</th>\n",
       "      <th>fatalities</th>\n",
       "      <th>injuries</th>\n",
       "      <th>month</th>\n",
       "      <th>contrfact1</th>\n",
       "      <th>contrfact2</th>\n",
       "      <th>contributing_factor</th>\n",
       "      <th>vehicleconcat1</th>\n",
       "      <th>vehicleconcat2</th>\n",
       "      <th>vehicleconcat3</th>\n",
       "      <th>vehicle_type</th>\n",
       "    </tr>\n",
       "  </thead>\n",
       "  <tbody>\n",
       "    <tr>\n",
       "      <th>0</th>\n",
       "      <td>20603</td>\n",
       "      <td>140 FEET FROM PVA (2234 WALNUT ST)</td>\n",
       "      <td>NO SPECIAL FEATURE</td>\n",
       "      <td>STRAIGHT,LEVEL</td>\n",
       "      <td>PUBLIC VEHICULAR AREA</td>\n",
       "      <td>TWO-WAY,NOT DIVIDED</td>\n",
       "      <td>SMOOTH ASPHALT</td>\n",
       "      <td>DRY</td>\n",
       "      <td>DAYLIGHT</td>\n",
       "      <td>CLOUDY</td>\n",
       "      <td>...</td>\n",
       "      <td>No</td>\n",
       "      <td>No</td>\n",
       "      <td>1</td>\n",
       "      <td>NaN</td>\n",
       "      <td>NONE</td>\n",
       "      <td>NONE</td>\n",
       "      <td>PASSENGER CAR,SPORT UTILITY</td>\n",
       "      <td>PASSENGER CAR,SPORT UTILITY</td>\n",
       "      <td>PASSENGER CAR,SPORT UTILITY</td>\n",
       "      <td>PASSENGER CAR,SPORT UTILITY</td>\n",
       "    </tr>\n",
       "    <tr>\n",
       "      <th>1</th>\n",
       "      <td>20606</td>\n",
       "      <td>.10 MILES FROM PVA OF 150 WRENN DR</td>\n",
       "      <td>NO SPECIAL FEATURE</td>\n",
       "      <td>STRAIGHT,LEVEL</td>\n",
       "      <td>PUBLIC VEHICULAR AREA</td>\n",
       "      <td>ONE-WAY,NOT DIVIDED</td>\n",
       "      <td>SMOOTH ASPHALT</td>\n",
       "      <td>DRY</td>\n",
       "      <td>DAYLIGHT</td>\n",
       "      <td>CLEAR</td>\n",
       "      <td>...</td>\n",
       "      <td>No</td>\n",
       "      <td>No</td>\n",
       "      <td>1</td>\n",
       "      <td>NaN</td>\n",
       "      <td>NONE</td>\n",
       "      <td>NONE</td>\n",
       "      <td>SPORT UTILITY,VAN</td>\n",
       "      <td>SPORT UTILITY,VAN</td>\n",
       "      <td>SPORT UTILITY,VAN</td>\n",
       "      <td>SPORT UTILITY,VAN</td>\n",
       "    </tr>\n",
       "    <tr>\n",
       "      <th>2</th>\n",
       "      <td>20607</td>\n",
       "      <td>30 FEET FROM SR1300(KILDAIRE FARM RD)</td>\n",
       "      <td>RELATED TO INTERSECTION</td>\n",
       "      <td>STRAIGHT,LEVEL</td>\n",
       "      <td>STATE SECONDARY ROUTE</td>\n",
       "      <td>TWO-WAY,DIVIDED,UNPROTECTED MEDIAN</td>\n",
       "      <td>SMOOTH ASPHALT</td>\n",
       "      <td>DRY</td>\n",
       "      <td>DAYLIGHT</td>\n",
       "      <td>CLEAR</td>\n",
       "      <td>...</td>\n",
       "      <td>No</td>\n",
       "      <td>No</td>\n",
       "      <td>1</td>\n",
       "      <td>NaN</td>\n",
       "      <td>NONE</td>\n",
       "      <td>NONE</td>\n",
       "      <td>PASSENGER CAR,PASSENGER CAR</td>\n",
       "      <td>PASSENGER CAR,PASSENGER CAR</td>\n",
       "      <td>PASSENGER CAR,PASSENGER CAR</td>\n",
       "      <td>PASSENGER CAR,PASSENGER CAR</td>\n",
       "    </tr>\n",
       "    <tr>\n",
       "      <th>3</th>\n",
       "      <td>20609</td>\n",
       "      <td>35 FEET FROM NC 54 HWY (NW MAYNARD RD)</td>\n",
       "      <td>RELATED TO INTERSECTION</td>\n",
       "      <td>STRAIGHT,LEVEL</td>\n",
       "      <td>NC ROUTE</td>\n",
       "      <td>TWO-WAY,DIVIDED,UNPROTECTED MEDIAN</td>\n",
       "      <td>COARSE ASPHALT</td>\n",
       "      <td>DRY</td>\n",
       "      <td>DAYLIGHT</td>\n",
       "      <td>CLEAR</td>\n",
       "      <td>...</td>\n",
       "      <td>No</td>\n",
       "      <td>No</td>\n",
       "      <td>1</td>\n",
       "      <td>NaN</td>\n",
       "      <td>NONE</td>\n",
       "      <td>NONE</td>\n",
       "      <td>PASSENGER CAR,SPORT UTILITY</td>\n",
       "      <td>PASSENGER CAR,SPORT UTILITY</td>\n",
       "      <td>PASSENGER CAR,SPORT UTILITY</td>\n",
       "      <td>PASSENGER CAR,SPORT UTILITY</td>\n",
       "    </tr>\n",
       "    <tr>\n",
       "      <th>4</th>\n",
       "      <td>20628</td>\n",
       "      <td>300 FEET FROM US 64 HWY</td>\n",
       "      <td>RELATED TO INTERSECTION</td>\n",
       "      <td>STRAIGHT,GRADE</td>\n",
       "      <td>US ROUTE</td>\n",
       "      <td>TWO-WAY,DIVIDED,UNPROTECTED MEDIAN</td>\n",
       "      <td>SMOOTH ASPHALT</td>\n",
       "      <td>DRY</td>\n",
       "      <td>DAYLIGHT</td>\n",
       "      <td>CLOUDY</td>\n",
       "      <td>...</td>\n",
       "      <td>No</td>\n",
       "      <td>No</td>\n",
       "      <td>1</td>\n",
       "      <td>NaN</td>\n",
       "      <td>NONE</td>\n",
       "      <td>NONE</td>\n",
       "      <td>VAN,PASSENGER CAR</td>\n",
       "      <td>VAN,PASSENGER CAR</td>\n",
       "      <td>VAN,PASSENGER CAR</td>\n",
       "      <td>VAN,PASSENGER CAR</td>\n",
       "    </tr>\n",
       "  </tbody>\n",
       "</table>\n",
       "<p>5 rows × 47 columns</p>\n",
       "</div>"
      ],
      "text/plain": [
       "   tamainid                    location_description                rdfeature  \\\n",
       "0     20603      140 FEET FROM PVA (2234 WALNUT ST)       NO SPECIAL FEATURE   \n",
       "1     20606      .10 MILES FROM PVA OF 150 WRENN DR       NO SPECIAL FEATURE   \n",
       "2     20607   30 FEET FROM SR1300(KILDAIRE FARM RD)  RELATED TO INTERSECTION   \n",
       "3     20609  35 FEET FROM NC 54 HWY (NW MAYNARD RD)  RELATED TO INTERSECTION   \n",
       "4     20628                 300 FEET FROM US 64 HWY  RELATED TO INTERSECTION   \n",
       "\n",
       "      rdcharacter                rdclass                          rdconfigur  \\\n",
       "0  STRAIGHT,LEVEL  PUBLIC VEHICULAR AREA                 TWO-WAY,NOT DIVIDED   \n",
       "1  STRAIGHT,LEVEL  PUBLIC VEHICULAR AREA                 ONE-WAY,NOT DIVIDED   \n",
       "2  STRAIGHT,LEVEL  STATE SECONDARY ROUTE  TWO-WAY,DIVIDED,UNPROTECTED MEDIAN   \n",
       "3  STRAIGHT,LEVEL               NC ROUTE  TWO-WAY,DIVIDED,UNPROTECTED MEDIAN   \n",
       "4  STRAIGHT,GRADE               US ROUTE  TWO-WAY,DIVIDED,UNPROTECTED MEDIAN   \n",
       "\n",
       "        rdsurface rdcondition lightcond weather  ... fatalities  injuries  \\\n",
       "0  SMOOTH ASPHALT         DRY  DAYLIGHT  CLOUDY  ...         No        No   \n",
       "1  SMOOTH ASPHALT         DRY  DAYLIGHT   CLEAR  ...         No        No   \n",
       "2  SMOOTH ASPHALT         DRY  DAYLIGHT   CLEAR  ...         No        No   \n",
       "3  COARSE ASPHALT         DRY  DAYLIGHT   CLEAR  ...         No        No   \n",
       "4  SMOOTH ASPHALT         DRY  DAYLIGHT  CLOUDY  ...         No        No   \n",
       "\n",
       "   month  contrfact1  contrfact2 contributing_factor  \\\n",
       "0      1         NaN        NONE                NONE   \n",
       "1      1         NaN        NONE                NONE   \n",
       "2      1         NaN        NONE                NONE   \n",
       "3      1         NaN        NONE                NONE   \n",
       "4      1         NaN        NONE                NONE   \n",
       "\n",
       "                vehicleconcat1               vehicleconcat2  \\\n",
       "0  PASSENGER CAR,SPORT UTILITY  PASSENGER CAR,SPORT UTILITY   \n",
       "1            SPORT UTILITY,VAN            SPORT UTILITY,VAN   \n",
       "2  PASSENGER CAR,PASSENGER CAR  PASSENGER CAR,PASSENGER CAR   \n",
       "3  PASSENGER CAR,SPORT UTILITY  PASSENGER CAR,SPORT UTILITY   \n",
       "4            VAN,PASSENGER CAR            VAN,PASSENGER CAR   \n",
       "\n",
       "                vehicleconcat3                 vehicle_type  \n",
       "0  PASSENGER CAR,SPORT UTILITY  PASSENGER CAR,SPORT UTILITY  \n",
       "1            SPORT UTILITY,VAN            SPORT UTILITY,VAN  \n",
       "2  PASSENGER CAR,PASSENGER CAR  PASSENGER CAR,PASSENGER CAR  \n",
       "3  PASSENGER CAR,SPORT UTILITY  PASSENGER CAR,SPORT UTILITY  \n",
       "4            VAN,PASSENGER CAR            VAN,PASSENGER CAR  \n",
       "\n",
       "[5 rows x 47 columns]"
      ]
     },
     "execution_count": 165,
     "metadata": {},
     "output_type": "execute_result"
    }
   ],
   "source": [
    "Data_crashes.head()"
   ]
  },
  {
   "cell_type": "code",
   "execution_count": 168,
   "id": "descending-crisis",
   "metadata": {},
   "outputs": [
    {
     "data": {
      "text/html": [
       "\n",
       "        <iframe\n",
       "            width=\"100%\"\n",
       "            height=\"475\"\n",
       "            src=\"http://LAPTOP-4I507RTT:40000/dtale/iframe/1\"\n",
       "            frameborder=\"0\"\n",
       "            allowfullscreen\n",
       "        ></iframe>\n",
       "        "
      ],
      "text/plain": [
       "<IPython.lib.display.IFrame at 0x1c7d8a8bcf8>"
      ]
     },
     "metadata": {},
     "output_type": "display_data"
    },
    {
     "data": {
      "text/plain": []
     },
     "execution_count": 168,
     "metadata": {},
     "output_type": "execute_result"
    }
   ],
   "source": [
    "dtale.show(Data_crashes)"
   ]
  }
 ],
 "metadata": {
  "kernelspec": {
   "display_name": "Python 3",
   "language": "python",
   "name": "python3"
  },
  "language_info": {
   "codemirror_mode": {
    "name": "ipython",
    "version": 3
   },
   "file_extension": ".py",
   "mimetype": "text/x-python",
   "name": "python",
   "nbconvert_exporter": "python",
   "pygments_lexer": "ipython3",
   "version": "3.6.10"
  },
  "latex_envs": {
   "LaTeX_envs_menu_present": true,
   "autoclose": false,
   "autocomplete": true,
   "bibliofile": "biblio.bib",
   "cite_by": "apalike",
   "current_citInitial": 1,
   "eqLabelWithNumbers": true,
   "eqNumInitial": 1,
   "hotkeys": {
    "equation": "Ctrl-E",
    "itemize": "Ctrl-I"
   },
   "labels_anchors": false,
   "latex_user_defs": false,
   "report_style_numbering": false,
   "user_envs_cfg": false
  },
  "toc": {
   "base_numbering": 1,
   "nav_menu": {},
   "number_sections": true,
   "sideBar": true,
   "skip_h1_title": false,
   "title_cell": "Table of Contents",
   "title_sidebar": "Contents",
   "toc_cell": false,
   "toc_position": {},
   "toc_section_display": true,
   "toc_window_display": false
  },
  "varInspector": {
   "cols": {
    "lenName": 16,
    "lenType": 16,
    "lenVar": 40
   },
   "kernels_config": {
    "python": {
     "delete_cmd_postfix": "",
     "delete_cmd_prefix": "del ",
     "library": "var_list.py",
     "varRefreshCmd": "print(var_dic_list())"
    },
    "r": {
     "delete_cmd_postfix": ") ",
     "delete_cmd_prefix": "rm(",
     "library": "var_list.r",
     "varRefreshCmd": "cat(var_dic_list()) "
    }
   },
   "types_to_exclude": [
    "module",
    "function",
    "builtin_function_or_method",
    "instance",
    "_Feature"
   ],
   "window_display": false
  }
 },
 "nbformat": 4,
 "nbformat_minor": 5
}
