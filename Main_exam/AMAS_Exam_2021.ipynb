{
 "cells": [
  {
   "cell_type": "markdown",
   "id": "eastern-employee",
   "metadata": {},
   "source": [
    "# Author: Kiril Klein {-}"
   ]
  },
  {
   "cell_type": "code",
   "execution_count": 1,
   "id": "coordinate-messaging",
   "metadata": {},
   "outputs": [],
   "source": [
    "import sys\n",
    "sys.path.append('../')"
   ]
  },
  {
   "cell_type": "code",
   "execution_count": 6,
   "id": "heated-bracket",
   "metadata": {},
   "outputs": [],
   "source": [
    "#import warnings\n",
    "#warnings.filterwarnings(\"ignore\")\n",
    "#%config Completer.use_jedi = False"
   ]
  },
  {
   "cell_type": "code",
   "execution_count": 3,
   "id": "light-affiliation",
   "metadata": {},
   "outputs": [],
   "source": [
    "import numpy as np\n",
    "import pandas as pd\n",
    "import seaborn as sns\n",
    "import matplotlib.pyplot as plt\n",
    "import toolbox as tb\n",
    "from toolbox import fits, vis\n",
    "from toolbox import as_toolbox as ast\n",
    "from toolbox.vis import Color_palette as Color_p\n",
    "import urllib\n",
    "from scipy import stats\n",
    "from toolbox.ExternalFunctions import NLLH\n",
    "import importlib\n",
    "#from mayavi import mlab\n",
    "#import nestle\n",
    "#import corner\n",
    "#from mpl_toolkits.axes_grid1 import make_axes_locatable\n",
    "#import dtale"
   ]
  },
  {
   "cell_type": "code",
   "execution_count": 4,
   "id": "generous-little",
   "metadata": {},
   "outputs": [],
   "source": [
    "import importlib\n",
    "_=importlib.reload(vis)"
   ]
  },
  {
   "cell_type": "markdown",
   "id": "sharp-intelligence",
   "metadata": {},
   "source": [
    "# Problem 1 {-}"
   ]
  },
  {
   "cell_type": "code",
   "execution_count": 5,
   "id": "vocational-hawaii",
   "metadata": {},
   "outputs": [],
   "source": [
    "url = \"\"\n",
    "#Data1 = pd.read_csv(url, sep=r\"\\s*\", header = 0, engine='python')"
   ]
  },
  {
   "cell_type": "markdown",
   "id": "temporal-monitoring",
   "metadata": {},
   "source": [
    "# Problem 2 {-} "
   ]
  },
  {
   "cell_type": "markdown",
   "id": "entire-police",
   "metadata": {},
   "source": [
    "# Problem 3 {-} "
   ]
  },
  {
   "cell_type": "markdown",
   "id": "representative-craps",
   "metadata": {},
   "source": [
    "# Problem 4 {-} "
   ]
  },
  {
   "cell_type": "markdown",
   "id": "marine-dairy",
   "metadata": {},
   "source": [
    "# Problem 5 {-}"
   ]
  }
 ],
 "metadata": {
  "kernelspec": {
   "display_name": "Python 3",
   "language": "python",
   "name": "python3"
  },
  "language_info": {
   "codemirror_mode": {
    "name": "ipython",
    "version": 3
   },
   "file_extension": ".py",
   "mimetype": "text/x-python",
   "name": "python",
   "nbconvert_exporter": "python",
   "pygments_lexer": "ipython3",
   "version": "3.6.10"
  },
  "latex_envs": {
   "LaTeX_envs_menu_present": true,
   "autoclose": false,
   "autocomplete": true,
   "bibliofile": "biblio.bib",
   "cite_by": "apalike",
   "current_citInitial": 1,
   "eqLabelWithNumbers": true,
   "eqNumInitial": 1,
   "hotkeys": {
    "equation": "Ctrl-E",
    "itemize": "Ctrl-I"
   },
   "labels_anchors": false,
   "latex_user_defs": false,
   "report_style_numbering": false,
   "user_envs_cfg": false
  },
  "toc": {
   "base_numbering": 1,
   "nav_menu": {},
   "number_sections": true,
   "sideBar": true,
   "skip_h1_title": false,
   "title_cell": "Table of Contents",
   "title_sidebar": "Contents",
   "toc_cell": false,
   "toc_position": {},
   "toc_section_display": true,
   "toc_window_display": false
  },
  "toc-autonumbering": false,
  "toc-showcode": false,
  "toc-showmarkdowntxt": false,
  "toc-showtags": false,
  "varInspector": {
   "cols": {
    "lenName": 16,
    "lenType": 16,
    "lenVar": 40
   },
   "kernels_config": {
    "python": {
     "delete_cmd_postfix": "",
     "delete_cmd_prefix": "del ",
     "library": "var_list.py",
     "varRefreshCmd": "print(var_dic_list())"
    },
    "r": {
     "delete_cmd_postfix": ") ",
     "delete_cmd_prefix": "rm(",
     "library": "var_list.r",
     "varRefreshCmd": "cat(var_dic_list()) "
    }
   },
   "types_to_exclude": [
    "module",
    "function",
    "builtin_function_or_method",
    "instance",
    "_Feature"
   ],
   "window_display": false
  }
 },
 "nbformat": 4,
 "nbformat_minor": 5
}
