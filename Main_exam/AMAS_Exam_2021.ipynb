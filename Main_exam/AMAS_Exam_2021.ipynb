{
 "cells": [
  {
   "cell_type": "markdown",
   "id": "happy-protocol",
   "metadata": {},
   "source": [
    "# Author: Kiril Klein (UCPH-ID: fjn197) {-}\n",
    "I, Kiril Klein expressly vow to uphold my scientific, academic, and moral integrity by working individually on this exam and soliciting no direct external help or assistance."
   ]
  },
  {
   "cell_type": "code",
   "execution_count": 4,
   "id": "numeric-nancy",
   "metadata": {},
   "outputs": [],
   "source": [
    "import sys\n",
    "sys.path.append('../')"
   ]
  },
  {
   "cell_type": "code",
   "execution_count": null,
   "id": "instant-puppy",
   "metadata": {},
   "outputs": [],
   "source": [
    "#import warnings\n",
    "#warnings.filterwarnings(\"ignore\")\n",
    "#%config Completer.use_jedi = False"
   ]
  },
  {
   "cell_type": "code",
   "execution_count": 6,
   "id": "needed-standing",
   "metadata": {
    "code_folding": []
   },
   "outputs": [],
   "source": [
    "import numpy as np\n",
    "import pandas as pd\n",
    "import seaborn as sns\n",
    "import matplotlib.pyplot as plt\n",
    "import toolbox as tb\n",
    "from toolbox import fits, vis\n",
    "from toolbox import as_toolbox as ast\n",
    "from toolbox.vis import Color_palette as Color_p\n",
    "import urllib\n",
    "from scipy import stats\n",
    "from toolbox.ExternalFunctions import NLLH\n",
    "import importlib\n",
    "#from numba import jit\n",
    "#from mayavi import mlab\n",
    "#import nestle\n",
    "#import corner\n",
    "#from mpl_toolkits.axes_grid1 import make_axes_locatable\n",
    "#import dtale"
   ]
  },
  {
   "cell_type": "markdown",
   "id": "enormous-probability",
   "metadata": {},
   "source": [
    "# Problem 1 {-}"
   ]
  },
  {
   "cell_type": "markdown",
   "id": "efficient-royal",
   "metadata": {},
   "source": [
    "A maximum likelihood fit was performed to estimate best-fit parameters. The data was then binned using 50 bins from the minimal to the maximal value of the range. Binned data was used to compute a $\\chi^2$ value and to detemine the correpsonding p-value. A function is rejected if the p-value is below 0.05."
   ]
  },
  {
   "cell_type": "code",
   "execution_count": null,
   "id": "improved-stroke",
   "metadata": {},
   "outputs": [],
   "source": [
    "url = \"https://www.nbi.dk/~koskinen/Teaching/AdvancedMethodsInAppliedStatistics2021/data/Exam_2021_Prob1.txt\"\n",
    "D1 = pd.read_csv(url, sep=r\" \", header = None, engine='python')\n",
    "D1"
   ]
  },
  {
   "cell_type": "code",
   "execution_count": null,
   "id": "union-clock",
   "metadata": {},
   "outputs": [],
   "source": [
    "D1.iloc[:,3]"
   ]
  },
  {
   "cell_type": "code",
   "execution_count": null,
   "id": "unauthorized-darkness",
   "metadata": {},
   "outputs": [],
   "source": [
    "#plt.style.use('seaborn')\n",
    "fig, ax = plt.subplots(1,3, figsize = (12,6))\n",
    "ax = ax.flatten()\n",
    "for i,j in enumerate([0,1,3]):\n",
    "    D1.iloc[:,j].plot.hist(legend=False, bins = 40, ax = ax[i])"
   ]
  },
  {
   "cell_type": "code",
   "execution_count": null,
   "id": "latest-illness",
   "metadata": {},
   "outputs": [],
   "source": [
    "#Test all 3 pdfs for the first column\n",
    "def f0(x, a,b,c):\n",
    "    xmax = 27\n",
    "    xmin = 20\n",
    "    Norm = -1/a*(np.cos(a*xmax)-np.cos(a*xmin)) + 1/b*c*(np.exp(b*xmax)-np.exp(b*xmin)) \n",
    "    return (np.sin(a*x)+c*np.exp(b*x)+1)/Norm\n",
    "\n",
    "def f1(x, a, b): return (1+ a*x + b*x**2)/(2+2/3*b)\n",
    "#For the third column we have poisson, binomial, maybe logarithmic\n",
    "def f3(x, a, b): return stats.norm.pdf(x, loc = a, scale = b)\n",
    "\n",
    "def f_chi2(O, E): return np.sum((O-E)**2/E)"
   ]
  },
  {
   "cell_type": "markdown",
   "id": "coordinate-action",
   "metadata": {},
   "source": [
    "## col 0 "
   ]
  },
  {
   "cell_type": "code",
   "execution_count": null,
   "id": "adaptive-malaysia",
   "metadata": {},
   "outputs": [],
   "source": [
    "x0 = np.linspace(20,27,100)\n",
    "fd0 = vis.nice_histogram(D1.iloc[:,0], 50)\n",
    "p0 = [4.45,-.09,40]\n",
    "fig, ax = vis.nice_plot(x0, f0(x0, *p0)*len(D1)*fd0['binwidth'], figure = fd0['fig'], axis = fd0['ax'])\n",
    "fig"
   ]
  },
  {
   "cell_type": "code",
   "execution_count": null,
   "id": "directed-mileage",
   "metadata": {},
   "outputs": [],
   "source": [
    "#Lets perform likelihood fits for the functions that might be suitable\n",
    "nbins = 50\n",
    "dt0 = fits.hist_fit(\n",
    "    f0, D1.iloc[:,0], p0, fit_type = 'ullh',\n",
    "    observed = True, print_level = 0)\n",
    "a0m, b0m, c0m = dt0['minuit_obj'].values[:]\n",
    "fd0 = vis.nice_histogram(D1.iloc[:,0], 50)\n",
    "p00 = [4.2,-.11,40]\n",
    "fig, ax = vis.nice_plot(\n",
    "    x0, f0(x0, a0m, b0m, c0m)*len(D1)*fd0['binwidth'], \n",
    "    figure = fd0['fig'], axis = fd0['ax'])\n",
    "#Both seem to fit reasonably well\n",
    "LLH0 = dt0['minuit_obj'].fval\n",
    "ax.text(20, 10, f\"NLLH =  {LLH0:2.1f}\", color = Color_p(2)[0],fontsize = 25)\n",
    "fig"
   ]
  },
  {
   "cell_type": "markdown",
   "id": "rental-estate",
   "metadata": {},
   "source": [
    "## Col1 "
   ]
  },
  {
   "cell_type": "code",
   "execution_count": null,
   "id": "toxic-blanket",
   "metadata": {},
   "outputs": [],
   "source": [
    "x1 = np.linspace(-1,1,100)\n",
    "fd1 = vis.nice_histogram(D1.iloc[:,1], 50)\n",
    "p1 = [1,1]\n",
    "fig, ax = vis.nice_plot(x1, f1(x1, *p1)*len(D1)*fd1['binwidth'], figure = fd1['fig'], axis = fd1['ax'])"
   ]
  },
  {
   "cell_type": "code",
   "execution_count": null,
   "id": "intense-daniel",
   "metadata": {},
   "outputs": [],
   "source": [
    "#Lets perform likelihood fits for the functions that might be suitable\n",
    "nbins = 50\n",
    "dt1 = fits.hist_fit(\n",
    "    f1, D1.iloc[:,1], p1, fit_type = 'ullh',\n",
    "    observed = True, print_level = 0)\n",
    "a1m, b1m = dt1['minuit_obj'].values[:]\n",
    "sa1m, sb1m = dt1['minuit_obj'].errors[:]\n",
    "fd1 = vis.nice_histogram(D1.iloc[:,1], 50, data_label_hist='Data')\n",
    "p00 = [4.2,-.11,40]\n",
    "fig, ax = vis.nice_plot(\n",
    "    x1, f1(x1, a1m, b1m)*len(D1)*fd1['binwidth'],  plot_legend=True, label_fs=25,\n",
    "    figure = fd1['fig'], axis = fd1['ax'], data_label = r\"$\\propto 1+ax+bx^2$\")\n",
    "#Both seem to fit reasonably well\n",
    "LLH1 = dt1['minuit_obj'].fval\n",
    "ax.text(0, 210, f\"NLLH =  {LLH1:2.1f}\", color = Color_p(2)[0],fontsize = 25)\n",
    "ax.text(0, 170, r\"$a = 0.47\\pm0.05$\", color = Color_p(2)[0],fontsize = 25)\n",
    "ax.text(0, 150, r\"$b = 2.58\\pm0.16$\", color = Color_p(2)[0],fontsize = 25)\n",
    "#compute chi2 and pvalue using 50 bins\n",
    "chi21 = f_chi2(fd1['y'], f1(fd1['x'],a1m, b1m))\n",
    "pval1 = stats.chi2.sf(chi21, len(D1)-2)\n",
    "ax.text(0, 190, r\"$p = 0.680$\", color = Color_p(2)[0],fontsize = 25)\n",
    "fig"
   ]
  },
  {
   "cell_type": "code",
   "execution_count": null,
   "id": "structured-specialist",
   "metadata": {},
   "outputs": [],
   "source": [
    "pval1"
   ]
  },
  {
   "cell_type": "markdown",
   "id": "prescription-packing",
   "metadata": {},
   "source": [
    "## Col 3"
   ]
  },
  {
   "cell_type": "code",
   "execution_count": null,
   "id": "found-dealer",
   "metadata": {},
   "outputs": [],
   "source": [
    "x3 = np.linspace(0,2.5,100)\n",
    "fd3 = vis.nice_histogram(D1.iloc[:,3], 50)\n",
    "p3 = [1.12,.04]\n",
    "fig, ax = vis.nice_plot(x3, f3(x3, *p3)*len(D1)*fd3['binwidth'], figure = fd3['fig'], axis = fd3['ax'])\n",
    "fig"
   ]
  },
  {
   "cell_type": "code",
   "execution_count": null,
   "id": "frozen-transcription",
   "metadata": {},
   "outputs": [],
   "source": [
    "#Lets perform likelihood fits for the functions that might be suitable\n",
    "nbins = 50\n",
    "dt3 = fits.hist_fit(\n",
    "    f3, D1.iloc[:,3], p3, fit_type = 'ullh',\n",
    "    observed = True, print_level = 0)\n",
    "a3m, b3m = dt3['minuit_obj'].values[:]\n",
    "sa3m, sb3m = dt3['minuit_obj'].errors[:]\n",
    "fd3 = vis.nice_histogram(D1.iloc[:,3], 50, data_label_hist='Data',label_fs=25)\n",
    "fig, ax = vis.nice_plot(\n",
    "    x3, f3(x3, a3m, b3m)*len(D1)*fd3['binwidth'],  plot_legend=True,\n",
    "    figure = fd3['fig'], axis = fd3['ax'], data_label = r\"$\\propto \\exp{( -\\frac{(x-a)^2}{2b^2})  }$\")\n",
    "#Both seem to fit reasonably well\n",
    "LLH3 = dt3['minuit_obj'].fval\n",
    "ax.text(0, 210, f\"NLLH =  {LLH1:2.1f}\", color = Color_p(2)[0],fontsize = 25)\n",
    "ax.text(0, 180, r\"$a = 1.1396\\pm0.0006$\", color = Color_p(2)[0],fontsize = 25)\n",
    "ax.text(0, 150, r\"$b = 0.0396\\pm0.0004$\", color = Color_p(2)[0],fontsize = 25)\n",
    "fig"
   ]
  },
  {
   "cell_type": "markdown",
   "id": "perceived-admission",
   "metadata": {},
   "source": [
    "# Problem 2 {-} "
   ]
  },
  {
   "cell_type": "markdown",
   "id": "special-purchase",
   "metadata": {},
   "source": [
    "## Problem 2a {-}"
   ]
  },
  {
   "cell_type": "markdown",
   "id": "civil-singles",
   "metadata": {},
   "source": [
    "Running 10000 pseudo-experiments in producing isotropic points on a unit sphere will be used to determine a test statistic for the KS-value. This will then be used to determine whether the data follows uniform distribution in $\\varphi$ and $\\cos{(\\theta)}$. "
   ]
  },
  {
   "cell_type": "code",
   "execution_count": null,
   "id": "detected-flood",
   "metadata": {},
   "outputs": [],
   "source": [
    "url = \"https://www.nbi.dk/~koskinen/Teaching/AdvancedMethodsInAppliedStatistics2021/data/Exam_2021_Problem2.txt\"\n",
    "D2 = np.loadtxt(url , skiprows = 2)\n",
    "d_phi = D2[:,0]#azimuth angle from 0 to 2*pi\n",
    "d_theta = D2[:,1]#zenith angle from 0 to pi"
   ]
  },
  {
   "cell_type": "code",
   "execution_count": null,
   "id": "favorite-trace",
   "metadata": {},
   "outputs": [],
   "source": [
    "plt.figure(figsize = (6,6))\n",
    "plt.subplot(projection=\"hammer\")\n",
    "plt.scatter(d_phi-np.pi, d_theta-np.pi/2,  s=10, c='r', zorder=10)\n",
    "plt.grid(True)\n",
    "plt.tight_layout()\n",
    "#Is this uniform? "
   ]
  },
  {
   "cell_type": "code",
   "execution_count": null,
   "id": "catholic-shirt",
   "metadata": {},
   "outputs": [],
   "source": [
    "#Autocorrelation for data\n",
    "Npoints = len(D2)\n",
    "nphi = 50\n",
    "d_3d = ast.create_points3d(d_phi, d_theta)\n",
    "x_phi = np.linspace(0, 2*np.pi,nphi)\n",
    "iso = ast.f_isotropic(x_phi)#isotropic for large number of events\n",
    "CAR_data = ast.cumulative_autocorrelation(d_3d, x_phi)\n",
    "fig, ax = vis.nice_plot(\n",
    "    np.cos(x_phi), CAR_data, drawstyle = 'steps-mid',\n",
    "    xlabel = r\"$\\cos{\\varphi}$\", ylabel = r\"$\\mathcal{C(\\varphi)}$\")"
   ]
  },
  {
   "cell_type": "code",
   "execution_count": null,
   "id": "saving-contact",
   "metadata": {},
   "outputs": [],
   "source": [
    "import importlib\n",
    "_=importlib.reload(ast)"
   ]
  },
  {
   "cell_type": "code",
   "execution_count": null,
   "id": "sexual-oriental",
   "metadata": {},
   "outputs": [],
   "source": [
    "#Produce pseudo experiments\n",
    "Nexp = int(500)\n",
    "#accelerate with numba\n",
    "#@jit(forceobj = True)\n",
    "def simulate_KS(Nexp):\n",
    "    KS_iso = np.empty(Nexp)\n",
    "    for i in range(Nexp):\n",
    "        X_iso = ast.sample_spherical_uniform(Npoints)\n",
    "        KS_iso[i] = np.max(np.abs(ast.cumulative_autocorrelation(X_iso, x_phi)-iso))\n",
    "    return KS_iso"
   ]
  },
  {
   "cell_type": "code",
   "execution_count": null,
   "id": "valid-actress",
   "metadata": {},
   "outputs": [],
   "source": [
    "KS_iso = simulate_KS(Nexp)\n",
    "KS_data = np.max(np.abs(CAR_data-iso))"
   ]
  },
  {
   "cell_type": "code",
   "execution_count": null,
   "id": "alternative-union",
   "metadata": {},
   "outputs": [],
   "source": [
    "fd = vis.nice_histogram(\n",
    "    KS_iso, 100, data_label_hist='isotropic', xlabel = 'KS',\n",
    "    plot_legend=True)\n",
    "fd['ax'].axvline(KS_data, label = 'data')\n",
    "fd['ax'].legend(fontsize = 25)\n",
    "fd['fig']"
   ]
  },
  {
   "cell_type": "code",
   "execution_count": null,
   "id": "chronic-facility",
   "metadata": {},
   "outputs": [],
   "source": [
    "#compute integral\n",
    "KSx, KSy = fd['x'], fd['y']\n",
    "data_mask = KSx>KS_data\n",
    "integral_abs = np.sum(KSy[data_mask])\n",
    "integral_iso = integral_abs/np.sum(KSy)\n",
    "print(integral_iso)"
   ]
  },
  {
   "cell_type": "markdown",
   "id": "hybrid-union",
   "metadata": {},
   "source": [
    "The integral is 0.0044 which corresponds to the p-value. We can reject the isotropic hypothesis for the data."
   ]
  },
  {
   "cell_type": "markdown",
   "id": "inside-construction",
   "metadata": {},
   "source": [
    "## Problem 2b {-} "
   ]
  },
  {
   "cell_type": "code",
   "execution_count": null,
   "id": "iraqi-barrier",
   "metadata": {},
   "outputs": [],
   "source": [
    "Nexp = 10\n",
    "Nuniform = int(Npoints*0.8)\n",
    "Nha = int(Npoints*0.2)\n",
    "aphi = np.random.uniform(size = Nha)*(0.725-0.225)*np.pi + 0.225*np.pi\n",
    "atheta = np.random.uniform(size = Nha)*(1-0.3)*np.pi + 0.3*np.pi\n",
    "#@jit(forceobj = True)\n",
    "def simulate_KS_HA(Nexp):\n",
    "    KS_HA = np.empty(Nexp)\n",
    "    iso = ast.f_isotropic(x_phi)\n",
    "    for i in range(Nexp):\n",
    "        X_HA = ast.create_points3d(aphi, atheta)\n",
    "        X_iso = ast.sample_spherical_uniform(Nuniform)\n",
    "        X_HA = np.concatenate((X_HA, X_iso), axis = 1)\n",
    "        KS_HA[i] = np.max(np.abs(ast.cumulative_autocorrelation(X_HA, x_phi)-iso))\n",
    "    return KS_HA"
   ]
  },
  {
   "cell_type": "code",
   "execution_count": null,
   "id": "mysterious-trauma",
   "metadata": {},
   "outputs": [],
   "source": [
    "%time KS_HA = simulate_KS_HA(100)"
   ]
  },
  {
   "cell_type": "code",
   "execution_count": null,
   "id": "abroad-hello",
   "metadata": {},
   "outputs": [],
   "source": [
    "fdA = vis.nice_histogram(\n",
    "    KS_HA, 100, data_label_hist='Hypotheses A', xlabel = 'KS',\n",
    "    plot_legend=True)\n",
    "fdA['ax'].axvline(KS_data, label = 'data')\n",
    "fdA['ax'].legend(fontsize = 25)\n",
    "fdA['fig']"
   ]
  },
  {
   "cell_type": "code",
   "execution_count": null,
   "id": "intermediate-privacy",
   "metadata": {},
   "outputs": [],
   "source": [
    "#compute integral\n",
    "KSx, KSy = fdA['x'], fdA['y']\n",
    "data_mask = KSx>KS_data\n",
    "integral_abs = np.sum(KSy[data_mask])\n",
    "integral_iso = integral_abs/np.sum(KSy)\n",
    "print(integral_iso)"
   ]
  },
  {
   "cell_type": "code",
   "execution_count": null,
   "id": "improved-proposition",
   "metadata": {},
   "outputs": [],
   "source": [
    "Nexp = 10\n",
    "NuniformB = int(Npoints*0.85)\n",
    "NHB = int(Npoints*0.15)\n",
    "bphi = np.random.uniform(size = NHB)*np.pi \n",
    "btheta = np.random.uniform(size = NHB)*0.5*np.pi + 0.5*np.pi\n",
    "@jit(forceobj = True)\n",
    "def simulate_KS_HB(Nexp):\n",
    "    KS_HB = np.empty(Nexp)\n",
    "    iso = ast.f_isotropic(x_phi)\n",
    "    for i in range(Nexp):\n",
    "        X_HB = ast.create_points3d(bphi, btheta)\n",
    "        X_iso = ast.sample_spherical_uniform(Nuniform)\n",
    "        X_HB = np.concatenate((X_HB, X_iso), axis = 1)\n",
    "        KS_HB[i] = np.max(np.abs(ast.cumulative_autocorrelation(X_HB, x_phi)-iso))\n",
    "    return KS_HB\n",
    "KS_HB = simulate_KS_HB(100)\n",
    "fdB = vis.nice_histogram(\n",
    "    KS_HB, 100, data_label_hist='Hypotheses A', xlabel = 'KS',\n",
    "    plot_legend=True)\n",
    "fdB['ax'].axvline(KS_data, label = 'data')\n",
    "fdB['ax'].legend(fontsize = 25)\n",
    "fdB['fig']"
   ]
  },
  {
   "cell_type": "code",
   "execution_count": null,
   "id": "executed-spider",
   "metadata": {},
   "outputs": [],
   "source": [
    "#compute integral\n",
    "KSx, KSy = fdB['x'], fdB['y']\n",
    "data_mask = KSx>KS_data\n",
    "integral_abs = np.sum(KSy[data_mask])\n",
    "integral_iso = integral_abs/np.sum(KSy)\n",
    "print(integral_iso)"
   ]
  },
  {
   "cell_type": "markdown",
   "id": "korean-shock",
   "metadata": {},
   "source": [
    "# Problem 3 {-} "
   ]
  },
  {
   "cell_type": "markdown",
   "id": "competitive-target",
   "metadata": {},
   "source": [
    "## Problem 3a {-} "
   ]
  },
  {
   "cell_type": "code",
   "execution_count": 9,
   "id": "rational-aquarium",
   "metadata": {},
   "outputs": [],
   "source": [
    "url = \"https://www.nbi.dk/~koskinen/Teaching/AdvancedMethodsInAppliedStatistics2021/data/Exam_2021_Prob3_CrabStartPositions.txt\"\n",
    "X0 = np.loadtxt(url , skiprows = 0)"
   ]
  },
  {
   "cell_type": "code",
   "execution_count": 28,
   "id": "empirical-tours",
   "metadata": {},
   "outputs": [
    {
     "data": {
      "text/plain": [
       "array([[0, 1, 2],\n",
       "       [1, 0, 1],\n",
       "       [2, 1, 0]])"
      ]
     },
     "execution_count": 28,
     "metadata": {},
     "output_type": "execute_result"
    }
   ],
   "source": [
    "a = np.arange(3)\n",
    "b = np.arange(3)\n",
    "aa, bb = np.meshgrid(a,b)\n",
    "np.abs((aa-bb))"
   ]
  },
  {
   "cell_type": "code",
   "execution_count": 22,
   "id": "functioning-terrain",
   "metadata": {},
   "outputs": [
    {
     "data": {
      "text/plain": [
       "(20, 20)"
      ]
     },
     "execution_count": 22,
     "metadata": {},
     "output_type": "execute_result"
    }
   ],
   "source": [
    "measure_dist(X0)[0][0].shape"
   ]
  },
  {
   "cell_type": "code",
   "execution_count": 19,
   "id": "running-activity",
   "metadata": {},
   "outputs": [],
   "source": [
    "#lets measure distances in meters\n",
    "dist = 1\n",
    "R = 5e3\n",
    "def polar_to_cart(r, phi):\n",
    "    x = np.cos(phi)*r\n",
    "    y = np.sin(phi)*r\n",
    "    return x, y\n",
    "def cart_to_polar(x,y):\n",
    "    phi = np.sign(y)*(np.arctan(y/x)+np.pi/2)\n",
    "    r = x**2 + y**2\n",
    "    return r, phi\n",
    "\n",
    "def update_coordinates(X0):\n",
    "    X_step = ast.sample_spherical_uniform(len(X0), 2)\n",
    "    return X0+X_step\n",
    "def measure_dist(X):\n",
    "    x, y = X[:,0],X[:1]\n",
    "    combi_x =np.meshgrid(x, x)\n",
    "    combi_y = np.meshgrid(y,y)\n",
    "    return combi_x, combi_y\n",
    "def update_masses():\n",
    "    pass"
   ]
  },
  {
   "cell_type": "markdown",
   "id": "contrary-ability",
   "metadata": {},
   "source": [
    "# Problem 4 {-} "
   ]
  },
  {
   "cell_type": "markdown",
   "id": "looking-norwegian",
   "metadata": {},
   "source": [
    "# Problem 5 {-}"
   ]
  }
 ],
 "metadata": {
  "kernelspec": {
   "display_name": "Python 3",
   "language": "python",
   "name": "python3"
  },
  "language_info": {
   "codemirror_mode": {
    "name": "ipython",
    "version": 3
   },
   "file_extension": ".py",
   "mimetype": "text/x-python",
   "name": "python",
   "nbconvert_exporter": "python",
   "pygments_lexer": "ipython3",
   "version": "3.6.10"
  },
  "latex_envs": {
   "LaTeX_envs_menu_present": true,
   "autoclose": false,
   "autocomplete": true,
   "bibliofile": "biblio.bib",
   "cite_by": "apalike",
   "current_citInitial": 1,
   "eqLabelWithNumbers": true,
   "eqNumInitial": 1,
   "hotkeys": {
    "equation": "Ctrl-E",
    "itemize": "Ctrl-I"
   },
   "labels_anchors": false,
   "latex_user_defs": false,
   "report_style_numbering": false,
   "user_envs_cfg": false
  },
  "toc": {
   "base_numbering": 1,
   "nav_menu": {},
   "number_sections": true,
   "sideBar": true,
   "skip_h1_title": false,
   "title_cell": "Table of Contents",
   "title_sidebar": "Contents",
   "toc_cell": false,
   "toc_position": {},
   "toc_section_display": true,
   "toc_window_display": false
  },
  "toc-autonumbering": false,
  "toc-showcode": false,
  "toc-showmarkdowntxt": false,
  "toc-showtags": false,
  "varInspector": {
   "cols": {
    "lenName": 16,
    "lenType": 16,
    "lenVar": 40
   },
   "kernels_config": {
    "python": {
     "delete_cmd_postfix": "",
     "delete_cmd_prefix": "del ",
     "library": "var_list.py",
     "varRefreshCmd": "print(var_dic_list())"
    },
    "r": {
     "delete_cmd_postfix": ") ",
     "delete_cmd_prefix": "rm(",
     "library": "var_list.r",
     "varRefreshCmd": "cat(var_dic_list()) "
    }
   },
   "types_to_exclude": [
    "module",
    "function",
    "builtin_function_or_method",
    "instance",
    "_Feature"
   ],
   "window_display": false
  }
 },
 "nbformat": 4,
 "nbformat_minor": 5
}
