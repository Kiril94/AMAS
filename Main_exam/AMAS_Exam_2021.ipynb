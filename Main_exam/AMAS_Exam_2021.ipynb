{
 "cells": [
  {
   "cell_type": "markdown",
   "id": "amino-connection",
   "metadata": {},
   "source": [
    "# Author: Kiril Klein (UCPH-ID: fjn197) {-}\n",
    "I, Kiril Klein expressly vow to uphold my scientific, academic, and moral integrity by working individually on this exam and soliciting no direct external help or assistance."
   ]
  },
  {
   "cell_type": "code",
   "execution_count": 4,
   "id": "accepted-mills",
   "metadata": {},
   "outputs": [],
   "source": [
    "import sys\n",
    "sys.path.append('../')"
   ]
  },
  {
   "cell_type": "code",
   "execution_count": null,
   "id": "civilian-rogers",
   "metadata": {},
   "outputs": [],
   "source": [
    "#import warnings\n",
    "#warnings.filterwarnings(\"ignore\")\n",
    "#%config Completer.use_jedi = False"
   ]
  },
  {
   "cell_type": "code",
   "execution_count": 286,
   "id": "potential-farmer",
   "metadata": {
    "code_folding": []
   },
   "outputs": [],
   "source": [
    "import numpy as np\n",
    "import pandas as pd\n",
    "import seaborn as sns\n",
    "import matplotlib.pyplot as plt\n",
    "import toolbox as tb\n",
    "from toolbox import fits, vis\n",
    "from toolbox import as_toolbox as ast\n",
    "from toolbox.vis import Color_palette as Color_p\n",
    "import urllib\n",
    "from scipy import stats\n",
    "from toolbox.ExternalFunctions import NLLH\n",
    "import importlib\n",
    "from matplotlib.ticker import MaxNLocator\n",
    "import matplotlib.ticker as ticker\n",
    "#from numba import jit\n",
    "#from mayavi import mlab\n",
    "#import nestle\n",
    "#import corner\n",
    "#from mpl_toolkits.axes_grid1 import make_axes_locatable\n",
    "#import dtale"
   ]
  },
  {
   "cell_type": "markdown",
   "id": "following-eight",
   "metadata": {},
   "source": [
    "# Problem 1 {-}"
   ]
  },
  {
   "cell_type": "markdown",
   "id": "treated-advocate",
   "metadata": {},
   "source": [
    "A maximum likelihood fit was performed to estimate best-fit parameters. The data was then binned using 50 bins from the minimal to the maximal value of the range. Binned data was used to compute a $\\chi^2$ value and to detemine the correpsonding p-value. A function is rejected if the p-value is below 0.05."
   ]
  },
  {
   "cell_type": "code",
   "execution_count": null,
   "id": "practical-clause",
   "metadata": {},
   "outputs": [],
   "source": [
    "url = \"https://www.nbi.dk/~koskinen/Teaching/AdvancedMethodsInAppliedStatistics2021/data/Exam_2021_Prob1.txt\"\n",
    "D1 = pd.read_csv(url, sep=r\" \", header = None, engine='python')\n",
    "D1"
   ]
  },
  {
   "cell_type": "code",
   "execution_count": null,
   "id": "stainless-saudi",
   "metadata": {},
   "outputs": [],
   "source": [
    "D1.iloc[:,3]"
   ]
  },
  {
   "cell_type": "code",
   "execution_count": null,
   "id": "integrated-poster",
   "metadata": {},
   "outputs": [],
   "source": [
    "#plt.style.use('seaborn')\n",
    "fig, ax = plt.subplots(1,3, figsize = (12,6))\n",
    "ax = ax.flatten()\n",
    "for i,j in enumerate([0,1,3]):\n",
    "    D1.iloc[:,j].plot.hist(legend=False, bins = 40, ax = ax[i])"
   ]
  },
  {
   "cell_type": "code",
   "execution_count": null,
   "id": "transsexual-offer",
   "metadata": {},
   "outputs": [],
   "source": [
    "#Test all 3 pdfs for the first column\n",
    "def f0(x, a,b,c):\n",
    "    xmax = 27\n",
    "    xmin = 20\n",
    "    Norm = -1/a*(np.cos(a*xmax)-np.cos(a*xmin)) + 1/b*c*(np.exp(b*xmax)-np.exp(b*xmin)) \n",
    "    return (np.sin(a*x)+c*np.exp(b*x)+1)/Norm\n",
    "\n",
    "def f1(x, a, b): return (1+ a*x + b*x**2)/(2+2/3*b)\n",
    "#For the third column we have poisson, binomial, maybe logarithmic\n",
    "def f3(x, a, b): return stats.norm.pdf(x, loc = a, scale = b)\n",
    "\n",
    "def f_chi2(O, E): return np.sum((O-E)**2/E)"
   ]
  },
  {
   "cell_type": "markdown",
   "id": "endangered-belize",
   "metadata": {},
   "source": [
    "## col 0 "
   ]
  },
  {
   "cell_type": "code",
   "execution_count": null,
   "id": "better-dimension",
   "metadata": {},
   "outputs": [],
   "source": [
    "x0 = np.linspace(20,27,100)\n",
    "fd0 = vis.nice_histogram(D1.iloc[:,0], 50)\n",
    "p0 = [4.45,-.09,40]\n",
    "fig, ax = vis.nice_plot(x0, f0(x0, *p0)*len(D1)*fd0['binwidth'], figure = fd0['fig'], axis = fd0['ax'])\n",
    "fig"
   ]
  },
  {
   "cell_type": "code",
   "execution_count": null,
   "id": "expressed-polls",
   "metadata": {},
   "outputs": [],
   "source": [
    "#Lets perform likelihood fits for the functions that might be suitable\n",
    "nbins = 50\n",
    "dt0 = fits.hist_fit(\n",
    "    f0, D1.iloc[:,0], p0, fit_type = 'ullh',\n",
    "    observed = True, print_level = 0)\n",
    "a0m, b0m, c0m = dt0['minuit_obj'].values[:]\n",
    "fd0 = vis.nice_histogram(D1.iloc[:,0], 50)\n",
    "p00 = [4.2,-.11,40]\n",
    "fig, ax = vis.nice_plot(\n",
    "    x0, f0(x0, a0m, b0m, c0m)*len(D1)*fd0['binwidth'], \n",
    "    figure = fd0['fig'], axis = fd0['ax'])\n",
    "#Both seem to fit reasonably well\n",
    "LLH0 = dt0['minuit_obj'].fval\n",
    "ax.text(20, 10, f\"NLLH =  {LLH0:2.1f}\", color = Color_p(2)[0],fontsize = 25)\n",
    "fig"
   ]
  },
  {
   "cell_type": "markdown",
   "id": "positive-campbell",
   "metadata": {},
   "source": [
    "## Col1 "
   ]
  },
  {
   "cell_type": "code",
   "execution_count": null,
   "id": "wrapped-examination",
   "metadata": {},
   "outputs": [],
   "source": [
    "x1 = np.linspace(-1,1,100)\n",
    "fd1 = vis.nice_histogram(D1.iloc[:,1], 50)\n",
    "p1 = [1,1]\n",
    "fig, ax = vis.nice_plot(x1, f1(x1, *p1)*len(D1)*fd1['binwidth'], figure = fd1['fig'], axis = fd1['ax'])"
   ]
  },
  {
   "cell_type": "code",
   "execution_count": null,
   "id": "willing-disclaimer",
   "metadata": {},
   "outputs": [],
   "source": [
    "#Lets perform likelihood fits for the functions that might be suitable\n",
    "nbins = 50\n",
    "dt1 = fits.hist_fit(\n",
    "    f1, D1.iloc[:,1], p1, fit_type = 'ullh',\n",
    "    observed = True, print_level = 0)\n",
    "a1m, b1m = dt1['minuit_obj'].values[:]\n",
    "sa1m, sb1m = dt1['minuit_obj'].errors[:]\n",
    "fd1 = vis.nice_histogram(D1.iloc[:,1], 50, data_label_hist='Data')\n",
    "p00 = [4.2,-.11,40]\n",
    "fig, ax = vis.nice_plot(\n",
    "    x1, f1(x1, a1m, b1m)*len(D1)*fd1['binwidth'],  plot_legend=True, label_fs=25,\n",
    "    figure = fd1['fig'], axis = fd1['ax'], data_label = r\"$\\propto 1+ax+bx^2$\")\n",
    "#Both seem to fit reasonably well\n",
    "LLH1 = dt1['minuit_obj'].fval\n",
    "ax.text(0, 210, f\"NLLH =  {LLH1:2.1f}\", color = Color_p(2)[0],fontsize = 25)\n",
    "ax.text(0, 170, r\"$a = 0.47\\pm0.05$\", color = Color_p(2)[0],fontsize = 25)\n",
    "ax.text(0, 150, r\"$b = 2.58\\pm0.16$\", color = Color_p(2)[0],fontsize = 25)\n",
    "#compute chi2 and pvalue using 50 bins\n",
    "chi21 = f_chi2(fd1['y'], f1(fd1['x'],a1m, b1m))\n",
    "pval1 = stats.chi2.sf(chi21, len(D1)-2)\n",
    "ax.text(0, 190, r\"$p = 0.680$\", color = Color_p(2)[0],fontsize = 25)\n",
    "fig"
   ]
  },
  {
   "cell_type": "code",
   "execution_count": null,
   "id": "normal-rochester",
   "metadata": {},
   "outputs": [],
   "source": [
    "pval1"
   ]
  },
  {
   "cell_type": "markdown",
   "id": "worthy-paraguay",
   "metadata": {},
   "source": [
    "## Col 3"
   ]
  },
  {
   "cell_type": "code",
   "execution_count": null,
   "id": "cosmetic-caribbean",
   "metadata": {},
   "outputs": [],
   "source": [
    "x3 = np.linspace(0,2.5,100)\n",
    "fd3 = vis.nice_histogram(D1.iloc[:,3], 50)\n",
    "p3 = [1.12,.04]\n",
    "fig, ax = vis.nice_plot(x3, f3(x3, *p3)*len(D1)*fd3['binwidth'], figure = fd3['fig'], axis = fd3['ax'])\n",
    "fig"
   ]
  },
  {
   "cell_type": "code",
   "execution_count": null,
   "id": "incoming-individual",
   "metadata": {},
   "outputs": [],
   "source": [
    "#Lets perform likelihood fits for the functions that might be suitable\n",
    "nbins = 50\n",
    "dt3 = fits.hist_fit(\n",
    "    f3, D1.iloc[:,3], p3, fit_type = 'ullh',\n",
    "    observed = True, print_level = 0)\n",
    "a3m, b3m = dt3['minuit_obj'].values[:]\n",
    "sa3m, sb3m = dt3['minuit_obj'].errors[:]\n",
    "fd3 = vis.nice_histogram(D1.iloc[:,3], 50, data_label_hist='Data',label_fs=25)\n",
    "fig, ax = vis.nice_plot(\n",
    "    x3, f3(x3, a3m, b3m)*len(D1)*fd3['binwidth'],  plot_legend=True,\n",
    "    figure = fd3['fig'], axis = fd3['ax'], data_label = r\"$\\propto \\exp{( -\\frac{(x-a)^2}{2b^2})  }$\")\n",
    "#Both seem to fit reasonably well\n",
    "LLH3 = dt3['minuit_obj'].fval\n",
    "ax.text(0, 210, f\"NLLH =  {LLH1:2.1f}\", color = Color_p(2)[0],fontsize = 25)\n",
    "ax.text(0, 180, r\"$a = 1.1396\\pm0.0006$\", color = Color_p(2)[0],fontsize = 25)\n",
    "ax.text(0, 150, r\"$b = 0.0396\\pm0.0004$\", color = Color_p(2)[0],fontsize = 25)\n",
    "fig"
   ]
  },
  {
   "cell_type": "markdown",
   "id": "allied-vatican",
   "metadata": {},
   "source": [
    "# Problem 2 {-} "
   ]
  },
  {
   "cell_type": "markdown",
   "id": "filled-personality",
   "metadata": {},
   "source": [
    "## Problem 2a {-}"
   ]
  },
  {
   "cell_type": "markdown",
   "id": "coated-consortium",
   "metadata": {},
   "source": [
    "Running 10000 pseudo-experiments in producing isotropic points on a unit sphere will be used to determine a test statistic for the KS-value. This will then be used to determine whether the data follows uniform distribution in $\\varphi$ and $\\cos{(\\theta)}$. "
   ]
  },
  {
   "cell_type": "code",
   "execution_count": null,
   "id": "announced-testimony",
   "metadata": {},
   "outputs": [],
   "source": [
    "url = \"https://www.nbi.dk/~koskinen/Teaching/AdvancedMethodsInAppliedStatistics2021/data/Exam_2021_Problem2.txt\"\n",
    "D2 = np.loadtxt(url , skiprows = 2)\n",
    "d_phi = D2[:,0]#azimuth angle from 0 to 2*pi\n",
    "d_theta = D2[:,1]#zenith angle from 0 to pi"
   ]
  },
  {
   "cell_type": "code",
   "execution_count": null,
   "id": "streaming-boards",
   "metadata": {},
   "outputs": [],
   "source": [
    "plt.figure(figsize = (6,6))\n",
    "plt.subplot(projection=\"hammer\")\n",
    "plt.scatter(d_phi-np.pi, d_theta-np.pi/2,  s=10, c='r', zorder=10)\n",
    "plt.grid(True)\n",
    "plt.tight_layout()\n",
    "#Is this uniform? "
   ]
  },
  {
   "cell_type": "code",
   "execution_count": null,
   "id": "relevant-universe",
   "metadata": {},
   "outputs": [],
   "source": [
    "#Autocorrelation for data\n",
    "Npoints = len(D2)\n",
    "nphi = 50\n",
    "d_3d = ast.create_points3d(d_phi, d_theta)\n",
    "x_phi = np.linspace(0, 2*np.pi,nphi)\n",
    "iso = ast.f_isotropic(x_phi)#isotropic for large number of events\n",
    "CAR_data = ast.cumulative_autocorrelation(d_3d, x_phi)\n",
    "fig, ax = vis.nice_plot(\n",
    "    np.cos(x_phi), CAR_data, drawstyle = 'steps-mid',\n",
    "    xlabel = r\"$\\cos{\\varphi}$\", ylabel = r\"$\\mathcal{C(\\varphi)}$\")"
   ]
  },
  {
   "cell_type": "code",
   "execution_count": null,
   "id": "central-consumption",
   "metadata": {},
   "outputs": [],
   "source": [
    "import importlib\n",
    "_=importlib.reload(ast)"
   ]
  },
  {
   "cell_type": "code",
   "execution_count": null,
   "id": "activated-ideal",
   "metadata": {},
   "outputs": [],
   "source": [
    "#Produce pseudo experiments\n",
    "Nexp = int(500)\n",
    "#accelerate with numba\n",
    "#@jit(forceobj = True)\n",
    "def simulate_KS(Nexp):\n",
    "    KS_iso = np.empty(Nexp)\n",
    "    for i in range(Nexp):\n",
    "        X_iso = ast.sample_spherical_uniform(Npoints)\n",
    "        KS_iso[i] = np.max(np.abs(ast.cumulative_autocorrelation(X_iso, x_phi)-iso))\n",
    "    return KS_iso"
   ]
  },
  {
   "cell_type": "code",
   "execution_count": null,
   "id": "undefined-bridal",
   "metadata": {},
   "outputs": [],
   "source": [
    "KS_iso = simulate_KS(Nexp)\n",
    "KS_data = np.max(np.abs(CAR_data-iso))"
   ]
  },
  {
   "cell_type": "code",
   "execution_count": null,
   "id": "polyphonic-berkeley",
   "metadata": {},
   "outputs": [],
   "source": [
    "fd = vis.nice_histogram(\n",
    "    KS_iso, 100, data_label_hist='isotropic', xlabel = 'KS',\n",
    "    plot_legend=True)\n",
    "fd['ax'].axvline(KS_data, label = 'data')\n",
    "fd['ax'].legend(fontsize = 25)\n",
    "fd['fig']"
   ]
  },
  {
   "cell_type": "code",
   "execution_count": null,
   "id": "widespread-pennsylvania",
   "metadata": {},
   "outputs": [],
   "source": [
    "#compute integral\n",
    "KSx, KSy = fd['x'], fd['y']\n",
    "data_mask = KSx>KS_data\n",
    "integral_abs = np.sum(KSy[data_mask])\n",
    "integral_iso = integral_abs/np.sum(KSy)\n",
    "print(integral_iso)"
   ]
  },
  {
   "cell_type": "markdown",
   "id": "stuck-feature",
   "metadata": {},
   "source": [
    "The integral is 0.0044 which corresponds to the p-value. We can reject the isotropic hypothesis for the data."
   ]
  },
  {
   "cell_type": "markdown",
   "id": "varying-surge",
   "metadata": {},
   "source": [
    "## Problem 2b {-} "
   ]
  },
  {
   "cell_type": "code",
   "execution_count": null,
   "id": "welsh-cooperation",
   "metadata": {},
   "outputs": [],
   "source": [
    "Nexp = 10\n",
    "Nuniform = int(Npoints*0.8)\n",
    "Nha = int(Npoints*0.2)\n",
    "aphi = np.random.uniform(size = Nha)*(0.725-0.225)*np.pi + 0.225*np.pi\n",
    "atheta = np.random.uniform(size = Nha)*(1-0.3)*np.pi + 0.3*np.pi\n",
    "#@jit(forceobj = True)\n",
    "def simulate_KS_HA(Nexp):\n",
    "    KS_HA = np.empty(Nexp)\n",
    "    iso = ast.f_isotropic(x_phi)\n",
    "    for i in range(Nexp):\n",
    "        X_HA = ast.create_points3d(aphi, atheta)\n",
    "        X_iso = ast.sample_spherical_uniform(Nuniform)\n",
    "        X_HA = np.concatenate((X_HA, X_iso), axis = 1)\n",
    "        KS_HA[i] = np.max(np.abs(ast.cumulative_autocorrelation(X_HA, x_phi)-iso))\n",
    "    return KS_HA"
   ]
  },
  {
   "cell_type": "code",
   "execution_count": null,
   "id": "overhead-cleveland",
   "metadata": {},
   "outputs": [],
   "source": [
    "%time KS_HA = simulate_KS_HA(100)"
   ]
  },
  {
   "cell_type": "code",
   "execution_count": null,
   "id": "committed-lithuania",
   "metadata": {},
   "outputs": [],
   "source": [
    "fdA = vis.nice_histogram(\n",
    "    KS_HA, 100, data_label_hist='Hypotheses A', xlabel = 'KS',\n",
    "    plot_legend=True)\n",
    "fdA['ax'].axvline(KS_data, label = 'data')\n",
    "fdA['ax'].legend(fontsize = 25)\n",
    "fdA['fig']"
   ]
  },
  {
   "cell_type": "code",
   "execution_count": null,
   "id": "skilled-contents",
   "metadata": {},
   "outputs": [],
   "source": [
    "#compute integral\n",
    "KSx, KSy = fdA['x'], fdA['y']\n",
    "data_mask = KSx>KS_data\n",
    "integral_abs = np.sum(KSy[data_mask])\n",
    "integral_iso = integral_abs/np.sum(KSy)\n",
    "print(integral_iso)"
   ]
  },
  {
   "cell_type": "code",
   "execution_count": null,
   "id": "composed-madrid",
   "metadata": {},
   "outputs": [],
   "source": [
    "Nexp = 10\n",
    "NuniformB = int(Npoints*0.85)\n",
    "NHB = int(Npoints*0.15)\n",
    "bphi = np.random.uniform(size = NHB)*np.pi \n",
    "btheta = np.random.uniform(size = NHB)*0.5*np.pi + 0.5*np.pi\n",
    "@jit(forceobj = True)\n",
    "def simulate_KS_HB(Nexp):\n",
    "    KS_HB = np.empty(Nexp)\n",
    "    iso = ast.f_isotropic(x_phi)\n",
    "    for i in range(Nexp):\n",
    "        X_HB = ast.create_points3d(bphi, btheta)\n",
    "        X_iso = ast.sample_spherical_uniform(Nuniform)\n",
    "        X_HB = np.concatenate((X_HB, X_iso), axis = 1)\n",
    "        KS_HB[i] = np.max(np.abs(ast.cumulative_autocorrelation(X_HB, x_phi)-iso))\n",
    "    return KS_HB\n",
    "KS_HB = simulate_KS_HB(100)\n",
    "fdB = vis.nice_histogram(\n",
    "    KS_HB, 100, data_label_hist='Hypotheses A', xlabel = 'KS',\n",
    "    plot_legend=True)\n",
    "fdB['ax'].axvline(KS_data, label = 'data')\n",
    "fdB['ax'].legend(fontsize = 25)\n",
    "fdB['fig']"
   ]
  },
  {
   "cell_type": "code",
   "execution_count": null,
   "id": "fossil-panic",
   "metadata": {},
   "outputs": [],
   "source": [
    "#compute integral\n",
    "KSx, KSy = fdB['x'], fdB['y']\n",
    "data_mask = KSx>KS_data\n",
    "integral_abs = np.sum(KSy[data_mask])\n",
    "integral_iso = integral_abs/np.sum(KSy)\n",
    "print(integral_iso)"
   ]
  },
  {
   "cell_type": "markdown",
   "id": "nasty-prevention",
   "metadata": {},
   "source": [
    "# Problem 3 {-} "
   ]
  },
  {
   "cell_type": "markdown",
   "id": "latin-wales",
   "metadata": {},
   "source": [
    "## Problem 3a {-} "
   ]
  },
  {
   "cell_type": "code",
   "execution_count": 121,
   "id": "adverse-right",
   "metadata": {},
   "outputs": [],
   "source": [
    "X0test = X0[-4:,:]\n",
    "#lets measure distances in meters\n",
    "dist = 200\n",
    "R = 5e3\n",
    "def polar_to_cart(r, phi):\n",
    "    x = np.cos(phi)*r\n",
    "    y = np.sin(phi)*r\n",
    "    return x, y\n",
    "def cart_to_polar(x,y):\n",
    "    phi = np.sign(y)*(np.arctan(y/x)+np.pi/2)\n",
    "    r = x**2 + y**2\n",
    "    return r, phi\n",
    "\n",
    "def update_coordinates(X0):\n",
    "    \"\"\"samples random unit vector in 2d and adds it to the current vector\"\"\"\n",
    "    X_step = ast.sample_spherical_uniform(len(X0), 2).T\n",
    "    return X0+X_step\n",
    "def measure_dist(X):\n",
    "    \"\"\"Upper triangular contains the distances, \n",
    "    lower triangular and diagonal are set to inf\"\"\"\n",
    "    x, y = X[:,0],X[:,1]\n",
    "    xxa, xxb  = np.meshgrid(x, x)\n",
    "    yya, yyb = np.meshgrid(y,y)\n",
    "    Dist = np.sqrt( (xxa-xxb)**2+(yya-yyb)**2 ) #distance matrix\n",
    "    Dist = np.triu(Dist)#we want the distance only once\n",
    "    mask0 = Dist==0.\n",
    "    Dist[mask0] = np.inf \n",
    "    battle_indices = np.argwhere(Dist<=175)\n",
    "    return battle_indices\n",
    "#def battle(list_of_pairs):\n",
    "    \n",
    "#def ():\n",
    " #   pass"
   ]
  },
  {
   "cell_type": "code",
   "execution_count": 208,
   "id": "massive-poland",
   "metadata": {},
   "outputs": [
    {
     "data": {
      "text/plain": [
       "200.0"
      ]
     },
     "execution_count": 208,
     "metadata": {},
     "output_type": "execute_result"
    }
   ],
   "source": [
    "Start = np.array([3600, -2000])\n",
    "Start_all = np.repeat(Start[:,np.newaxis], Nexp, axis=1).T\n",
    "ast.sample_spherical_uniform(1, 2).T*200"
   ]
  },
  {
   "cell_type": "code",
   "execution_count": 174,
   "id": "continued-guarantee",
   "metadata": {},
   "outputs": [
    {
     "data": {
      "text/plain": [
       "(2, 1)"
      ]
     },
     "execution_count": 174,
     "metadata": {},
     "output_type": "execute_result"
    }
   ],
   "source": [
    "ast.sample_spherical_uniform(1, 2).shape"
   ]
  },
  {
   "cell_type": "code",
   "execution_count": 205,
   "id": "contained-boring",
   "metadata": {},
   "outputs": [
    {
     "data": {
      "text/plain": [
       "array([0, 0])"
      ]
     },
     "execution_count": 205,
     "metadata": {},
     "output_type": "execute_result"
    }
   ],
   "source": [
    "Start_all[0,:]"
   ]
  },
  {
   "cell_type": "code",
   "execution_count": null,
   "id": "independent-attraction",
   "metadata": {},
   "outputs": [],
   "source": [
    "Nexp = 2\n",
    "Start = np.array([3600, -2000])\n",
    "Start_all = np.repeat(Start[:,np.newaxis], Nexp, axis=1).T\n",
    "Distance_travelled = np.zeros(Nexp)\n",
    "Dist_from_origin = np.zeros(Nexp)\n",
    "for i in range(Nexp):\n",
    "    while (Dist_from_origin[i]<R) and (Distance_travelled[i]<10000):\n",
    "        Start_all[i,:] = Start_all[i,:] + ast.sample_spherical_uniform(1, 2).T\n",
    "        Dist_from_origin[i] = np.linalg.norm(Start_all[i,:])\n",
    "        Distance_travelled[i] += 1. "
   ]
  },
  {
   "cell_type": "code",
   "execution_count": 204,
   "id": "statistical-mobile",
   "metadata": {},
   "outputs": [],
   "source": [
    "Nexp = 2\n",
    "Ndays = 200\n",
    "Start = np.array([3600, -2000])\n",
    "Start_all = np.repeat(Start[:,np.newaxis], Nexp, axis=1).T\n",
    "Distance_travelled = np.zeros(Nexp)\n",
    "Dist_from_origin = np.zeros(Nexp) \n",
    "def run_exp(Start_all):\n",
    "    Distance_travelled = np.zeros(Nexp)\n",
    "    X = Start_all\n",
    "    for i in range(Ndays):\n",
    "        X = update_coordinates(X)\n",
    "        Dist_from_origin = np.linalg.norm(X, axis = 1)\n",
    "        mask_edge = Dist_from_origin>=R\n",
    "        Distance_travelled[mask_edge] = float(i)\n",
    "        X[mask_edge,:] = 0\n",
    "    return Distance_travelled, X"
   ]
  },
  {
   "cell_type": "markdown",
   "id": "incredible-empty",
   "metadata": {},
   "source": [
    "## Problem 3b {-} "
   ]
  },
  {
   "cell_type": "code",
   "execution_count": 137,
   "id": "remarkable-graham",
   "metadata": {},
   "outputs": [],
   "source": [
    "url = \"https://www.nbi.dk/~koskinen/Teaching/AdvancedMethodsInAppliedStatistics2021/data/Exam_2021_Prob3_CrabStartPositions.txt\"\n",
    "X0 = np.loadtxt(url , skiprows = 0)*1e3"
   ]
  },
  {
   "cell_type": "markdown",
   "id": "hearing-craft",
   "metadata": {},
   "source": [
    "# Problem 4 {-} "
   ]
  },
  {
   "cell_type": "code",
   "execution_count": 330,
   "id": "oriented-globe",
   "metadata": {},
   "outputs": [],
   "source": [
    "Ndays = 500\n",
    "Asold = 5\n",
    "lam_lost = 23\n",
    "mu_A = 240\n",
    "sig_A = 10\n",
    "Nhours = 10\n",
    "Trading_time = []#np.empty(Ndays)\n",
    "A = np.zeros((Ndays, Nhours))\n",
    "#simulating is one choice, maybe better to look at the pdfs\n",
    "for i in range(Ndays):\n",
    "    A0 = 412\n",
    "    for j in range(Nhours):\n",
    "        A[i,j] = A0\n",
    "        p_exch = stats.norm.pdf(A0, loc = mu_A, scale = sig_A)\n",
    "        if p_exch>np.random.uniform():\n",
    "            Trading_time.append(j)\n",
    "            break\n",
    "        A0 -= (stats.poisson.rvs(lam_lost)+Asold)\n",
    "Trading_time = np.array(Trading_time)"
   ]
  },
  {
   "cell_type": "code",
   "execution_count": 336,
   "id": "seven-piece",
   "metadata": {},
   "outputs": [
    {
     "name": "stderr",
     "output_type": "stream",
     "text": [
      "D:\\Programme\\Anaconda\\envs\\tfCPU\\lib\\site-packages\\ipykernel_launcher.py:6: UserWarning: FixedFormatter should only be used together with FixedLocator\n",
      "  \n"
     ]
    },
    {
     "data": {
      "image/png": "[encoded data removed]",
      "text/plain": [
       "<Figure size 1008x360 with 1 Axes>"
      ]
     },
     "execution_count": 336,
     "metadata": {},
     "output_type": "execute_result"
    }
   ],
   "source": [
    "bins = np.arange(-.5,Trading_time.max()+.5)#shift bins\n",
    "labels = ['8:00','9:00', '10:00', '11:00', '12:00', '13:00', \n",
    "          '14:00', '15:00', '16:00', '17:00','18:00']\n",
    "fd = vis.nice_histogram(np.array(Trading_time), bins, \n",
    "                        xlabel='Time [HH:MM]', figsize = (14,5))\n",
    "fd['ax'].set_xticklabels(labels)\n",
    "fd['ax'].set_xticks(np.arange(0,10))\n",
    "fd['fig']"
   ]
  },
  {
   "cell_type": "markdown",
   "id": "opposed-excerpt",
   "metadata": {},
   "source": [
    "N pseudo-experiments were run, drawing random numbers from the poisson distribution to determine the amount of lost fish and trade with a probability described by the prior."
   ]
  },
  {
   "cell_type": "code",
   "execution_count": 215,
   "id": "greek-abuse",
   "metadata": {},
   "outputs": [
    {
     "data": {
      "image/png": "[encoded data removed]",
      "text/plain": [
       "<Figure size 720x360 with 1 Axes>"
      ]
     },
     "metadata": {},
     "output_type": "display_data"
    },
    {
     "data": {
      "text/plain": [
       "(<Figure size 720x360 with 1 Axes>, <AxesSubplot:xlabel='x'>)"
      ]
     },
     "execution_count": 215,
     "metadata": {},
     "output_type": "execute_result"
    }
   ],
   "source": [
    "A0 = 412\n",
    "lam = 23\n",
    "def A_new(A0): return A0-stats.poisson.rvs(lam)-5\n",
    "def f_likelihood(x,lam = lam): return stats.poisson.pmf(x, lam)\n",
    "xaxis = np.arange(40)\n",
    "vis.nice_plot(xaxis, f_likelihood(xaxis))"
   ]
  },
  {
   "cell_type": "code",
   "execution_count": 377,
   "id": "likely-combining",
   "metadata": {},
   "outputs": [],
   "source": [
    "#The probability for lossing N fish after t hours is given by:\n",
    "def p_loose(N_lost, t): return stats.poisson.pmf(N_lost, t*lam)\n",
    "def flikelihood_left(N_left, t): \n",
    "    N_sold = t*5\n",
    "    N_lost = 412 - N_left - N_sold\n",
    "    return p_loose(N_lost,t)\n",
    "def fprior_exch(N_left):\n",
    "    return stats.norm.pdf(N_left, 240, 10)\n",
    "def fposterior(N_left, t):\n",
    "    return flikelihood_left(N_left,t)*fprior_exch(N_left)"
   ]
  },
  {
   "cell_type": "code",
   "execution_count": 388,
   "id": "verbal-functionality",
   "metadata": {},
   "outputs": [],
   "source": [
    "hours = np.arange(10)\n",
    "fish_arr = np.arange(0,412)\n",
    "Posterior_landscape =[]\n",
    "for i in hours:\n",
    "    Posterior_landscape.append(fposterior(fish_arr, i))\n",
    "Posterior_landscape = np.array(Posterior_landscape)"
   ]
  },
  {
   "cell_type": "code",
   "execution_count": 401,
   "id": "false-specialist",
   "metadata": {},
   "outputs": [
    {
     "data": {
      "text/plain": [
       "Text(0, 0.5, 'Fish Left')"
      ]
     },
     "execution_count": 401,
     "metadata": {},
     "output_type": "execute_result"
    },
    {
     "data": {
      "image/png": "[encoded data removed]",
      "text/plain": [
       "<Figure size 576x432 with 1 Axes>"
      ]
     },
     "metadata": {},
     "output_type": "display_data"
    }
   ],
   "source": [
    "hh, ff = np.meshgrid(hours, fish_arr)\n",
    "fig, ax= plt.subplots(figsize = (8,6))\n",
    "ax.contourf(hh, ff, Posterior_landscape.T)\n",
    "ax.set_xlabel('Hours since 8:00')\n",
    "ax.set_ylabel('Fish Left')\n",
    "fig.tight_layout()\n",
    "fig.savefig('')"
   ]
  },
  {
   "cell_type": "markdown",
   "id": "swiss-edgar",
   "metadata": {},
   "source": [
    "![]()"
   ]
  },
  {
   "cell_type": "code",
   "execution_count": 383,
   "id": "considered-beauty",
   "metadata": {},
   "outputs": [
    {
     "ename": "ValueError",
     "evalue": "operands could not be broadcast together with shapes (200,) (3,) ",
     "output_type": "error",
     "traceback": [
      "\u001b[1;31m---------------------------------------------------------------------------\u001b[0m",
      "\u001b[1;31mValueError\u001b[0m                                Traceback (most recent call last)",
      "\u001b[1;32m<ipython-input-383-ccdaf2c9be4e>\u001b[0m in \u001b[0;36m<module>\u001b[1;34m\u001b[0m\n\u001b[0;32m      1\u001b[0m \u001b[0mxaxis\u001b[0m \u001b[1;33m=\u001b[0m \u001b[0mnp\u001b[0m\u001b[1;33m.\u001b[0m\u001b[0marange\u001b[0m\u001b[1;33m(\u001b[0m\u001b[1;36m100\u001b[0m\u001b[1;33m,\u001b[0m\u001b[1;36m300\u001b[0m\u001b[1;33m)\u001b[0m\u001b[1;33m\u001b[0m\u001b[1;33m\u001b[0m\u001b[0m\n\u001b[1;32m----> 2\u001b[1;33m \u001b[0mvis\u001b[0m\u001b[1;33m.\u001b[0m\u001b[0mnice_plot\u001b[0m\u001b[1;33m(\u001b[0m\u001b[0mxaxis\u001b[0m\u001b[1;33m,\u001b[0m \u001b[0mfposterior\u001b[0m\u001b[1;33m(\u001b[0m\u001b[0mxaxis\u001b[0m\u001b[1;33m,\u001b[0m\u001b[0mnp\u001b[0m\u001b[1;33m.\u001b[0m\u001b[0marange\u001b[0m\u001b[1;33m(\u001b[0m\u001b[1;36m1\u001b[0m\u001b[1;33m,\u001b[0m\u001b[1;36m4\u001b[0m\u001b[1;33m)\u001b[0m\u001b[1;33m)\u001b[0m\u001b[1;33m,\u001b[0m \u001b[0mscatter\u001b[0m\u001b[1;33m=\u001b[0m\u001b[1;32mTrue\u001b[0m\u001b[1;33m)\u001b[0m\u001b[1;33m\u001b[0m\u001b[1;33m\u001b[0m\u001b[0m\n\u001b[0m",
      "\u001b[1;32m<ipython-input-377-d92ce217c726>\u001b[0m in \u001b[0;36mfposterior\u001b[1;34m(N_left, t)\u001b[0m\n\u001b[0;32m      8\u001b[0m     \u001b[1;32mreturn\u001b[0m \u001b[0mstats\u001b[0m\u001b[1;33m.\u001b[0m\u001b[0mnorm\u001b[0m\u001b[1;33m.\u001b[0m\u001b[0mpdf\u001b[0m\u001b[1;33m(\u001b[0m\u001b[0mN_left\u001b[0m\u001b[1;33m,\u001b[0m \u001b[1;36m240\u001b[0m\u001b[1;33m,\u001b[0m \u001b[1;36m10\u001b[0m\u001b[1;33m)\u001b[0m\u001b[1;33m\u001b[0m\u001b[1;33m\u001b[0m\u001b[0m\n\u001b[0;32m      9\u001b[0m \u001b[1;32mdef\u001b[0m \u001b[0mfposterior\u001b[0m\u001b[1;33m(\u001b[0m\u001b[0mN_left\u001b[0m\u001b[1;33m,\u001b[0m \u001b[0mt\u001b[0m\u001b[1;33m)\u001b[0m\u001b[1;33m:\u001b[0m\u001b[1;33m\u001b[0m\u001b[1;33m\u001b[0m\u001b[0m\n\u001b[1;32m---> 10\u001b[1;33m     \u001b[1;32mreturn\u001b[0m \u001b[0mflikelihood_left\u001b[0m\u001b[1;33m(\u001b[0m\u001b[0mN_left\u001b[0m\u001b[1;33m,\u001b[0m\u001b[0mt\u001b[0m\u001b[1;33m)\u001b[0m\u001b[1;33m*\u001b[0m\u001b[0mfprior_exch\u001b[0m\u001b[1;33m(\u001b[0m\u001b[0mN_left\u001b[0m\u001b[1;33m)\u001b[0m\u001b[1;33m\u001b[0m\u001b[1;33m\u001b[0m\u001b[0m\n\u001b[0m",
      "\u001b[1;32m<ipython-input-377-d92ce217c726>\u001b[0m in \u001b[0;36mflikelihood_left\u001b[1;34m(N_left, t)\u001b[0m\n\u001b[0;32m      3\u001b[0m \u001b[1;32mdef\u001b[0m \u001b[0mflikelihood_left\u001b[0m\u001b[1;33m(\u001b[0m\u001b[0mN_left\u001b[0m\u001b[1;33m,\u001b[0m \u001b[0mt\u001b[0m\u001b[1;33m)\u001b[0m\u001b[1;33m:\u001b[0m\u001b[1;33m\u001b[0m\u001b[1;33m\u001b[0m\u001b[0m\n\u001b[0;32m      4\u001b[0m     \u001b[0mN_sold\u001b[0m \u001b[1;33m=\u001b[0m \u001b[0mt\u001b[0m\u001b[1;33m*\u001b[0m\u001b[1;36m5\u001b[0m\u001b[1;33m\u001b[0m\u001b[1;33m\u001b[0m\u001b[0m\n\u001b[1;32m----> 5\u001b[1;33m     \u001b[0mN_lost\u001b[0m \u001b[1;33m=\u001b[0m \u001b[1;36m412\u001b[0m \u001b[1;33m-\u001b[0m \u001b[0mN_left\u001b[0m \u001b[1;33m-\u001b[0m \u001b[0mN_sold\u001b[0m\u001b[1;33m\u001b[0m\u001b[1;33m\u001b[0m\u001b[0m\n\u001b[0m\u001b[0;32m      6\u001b[0m     \u001b[1;32mreturn\u001b[0m \u001b[0mp_loose\u001b[0m\u001b[1;33m(\u001b[0m\u001b[0mN_lost\u001b[0m\u001b[1;33m,\u001b[0m\u001b[0mt\u001b[0m\u001b[1;33m)\u001b[0m\u001b[1;33m\u001b[0m\u001b[1;33m\u001b[0m\u001b[0m\n\u001b[0;32m      7\u001b[0m \u001b[1;32mdef\u001b[0m \u001b[0mfprior_exch\u001b[0m\u001b[1;33m(\u001b[0m\u001b[0mN_left\u001b[0m\u001b[1;33m)\u001b[0m\u001b[1;33m:\u001b[0m\u001b[1;33m\u001b[0m\u001b[1;33m\u001b[0m\u001b[0m\n",
      "\u001b[1;31mValueError\u001b[0m: operands could not be broadcast together with shapes (200,) (3,) "
     ]
    }
   ],
   "source": [
    "xaxis = np.arange(100,300)\n",
    "vis.nice_plot(xaxis, , scatter=True)"
   ]
  },
  {
   "cell_type": "code",
   "execution_count": 355,
   "id": "second-damage",
   "metadata": {},
   "outputs": [
    {
     "data": {
      "text/plain": [
       "0.05199803646987484"
      ]
     },
     "execution_count": 355,
     "metadata": {},
     "output_type": "execute_result"
    }
   ],
   "source": [
    "likelihood_left(389, 1)"
   ]
  },
  {
   "cell_type": "markdown",
   "id": "focal-dayton",
   "metadata": {},
   "source": [
    "# Problem 5 {-}"
   ]
  }
 ],
 "metadata": {
  "kernelspec": {
   "display_name": "Python 3",
   "language": "python",
   "name": "python3"
  },
  "language_info": {
   "codemirror_mode": {
    "name": "ipython",
    "version": 3
   },
   "file_extension": ".py",
   "mimetype": "text/x-python",
   "name": "python",
   "nbconvert_exporter": "python",
   "pygments_lexer": "ipython3",
   "version": "3.6.10"
  },
  "latex_envs": {
   "LaTeX_envs_menu_present": true,
   "autoclose": false,
   "autocomplete": true,
   "bibliofile": "biblio.bib",
   "cite_by": "apalike",
   "current_citInitial": 1,
   "eqLabelWithNumbers": true,
   "eqNumInitial": 1,
   "hotkeys": {
    "equation": "Ctrl-E",
    "itemize": "Ctrl-I"
   },
   "labels_anchors": false,
   "latex_user_defs": false,
   "report_style_numbering": false,
   "user_envs_cfg": false
  },
  "toc": {
   "base_numbering": 1,
   "nav_menu": {},
   "number_sections": true,
   "sideBar": true,
   "skip_h1_title": false,
   "title_cell": "Table of Contents",
   "title_sidebar": "Contents",
   "toc_cell": false,
   "toc_position": {},
   "toc_section_display": true,
   "toc_window_display": false
  },
  "toc-autonumbering": false,
  "toc-showcode": false,
  "toc-showmarkdowntxt": false,
  "toc-showtags": false,
  "varInspector": {
   "cols": {
    "lenName": 16,
    "lenType": 16,
    "lenVar": 40
   },
   "kernels_config": {
    "python": {
     "delete_cmd_postfix": "",
     "delete_cmd_prefix": "del ",
     "library": "var_list.py",
     "varRefreshCmd": "print(var_dic_list())"
    },
    "r": {
     "delete_cmd_postfix": ") ",
     "delete_cmd_prefix": "rm(",
     "library": "var_list.r",
     "varRefreshCmd": "cat(var_dic_list()) "
    }
   },
   "types_to_exclude": [
    "module",
    "function",
    "builtin_function_or_method",
    "instance",
    "_Feature"
   ],
   "window_display": false
  }
 },
 "nbformat": 4,
 "nbformat_minor": 5
}
