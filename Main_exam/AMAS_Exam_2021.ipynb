{
 "cells": [
  {
   "cell_type": "markdown",
   "id": "oriental-tucson",
   "metadata": {},
   "source": [
    "# Course: Advanced Methods in Applied Statistics {-}\n",
    "# Author: Kiril Klein (UCPH-ID: fjn197) {-}\n",
    "I, Kiril Klein expressly vow to uphold my scientific, academic, and moral integrity by working individually on this exam and soliciting no direct external help or assistance."
   ]
  },
  {
   "cell_type": "code",
   "execution_count": 4,
   "id": "floral-remainder",
   "metadata": {},
   "outputs": [],
   "source": [
    "import sys\n",
    "sys.path.append('../')"
   ]
  },
  {
   "cell_type": "code",
   "execution_count": null,
   "id": "younger-target",
   "metadata": {},
   "outputs": [],
   "source": [
    "#import warnings\n",
    "#warnings.filterwarnings(\"ignore\")\n",
    "#%config Completer.use_jedi = False"
   ]
  },
  {
   "cell_type": "code",
   "execution_count": 491,
   "id": "alive-mission",
   "metadata": {
    "code_folding": []
   },
   "outputs": [],
   "source": [
    "import numpy as np\n",
    "import pandas as pd\n",
    "import seaborn as sns\n",
    "import matplotlib.pyplot as plt\n",
    "import toolbox as tb\n",
    "from toolbox import fits, vis\n",
    "from toolbox import as_toolbox as ast\n",
    "from toolbox.vis import Color_palette as Color_p\n",
    "import urllib\n",
    "from scipy import stats\n",
    "from scipy import optimize\n",
    "from toolbox.ExternalFunctions import NLLH\n",
    "import importlib\n",
    "from matplotlib.ticker import MaxNLocator\n",
    "import matplotlib.ticker as ticker\n",
    "from mpl_toolkits.axes_grid1 import make_axes_locatable\n",
    "import nestle\n",
    "#from numba import jit\n",
    "#from mayavi import mlab\n",
    "#import nestle\n",
    "#import corner\n",
    "#from mpl_toolkits.axes_grid1 import make_axes_locatable\n",
    "#import dtale"
   ]
  },
  {
   "cell_type": "markdown",
   "id": "signed-forum",
   "metadata": {},
   "source": [
    "# Problem 1 {-}"
   ]
  },
  {
   "cell_type": "markdown",
   "id": "negative-continuity",
   "metadata": {},
   "source": [
    "A maximum likelihood fit was performed to estimate best-fit parameters. The data was then binned using 50 bins from the minimal to the maximal value of the range. Binned data was used to compute a $\\chi^2$ value and to detemine the correpsonding p-value. A function is rejected if the p-value is below 0.05."
   ]
  },
  {
   "cell_type": "code",
   "execution_count": 422,
   "id": "satisfactory-rover",
   "metadata": {},
   "outputs": [],
   "source": [
    "url = \"https://www.nbi.dk/~koskinen/Teaching/AdvancedMethodsInAppliedStatistics2021/data/Exam_2021_Prob1.txt\"\n",
    "D1 = pd.read_csv(url, sep=r\" \", header = None, engine='python')"
   ]
  },
  {
   "cell_type": "code",
   "execution_count": 424,
   "id": "limited-acceptance",
   "metadata": {},
   "outputs": [
    {
     "data": {
      "image/png": "[encoded data removed]",
      "text/plain": [
       "<Figure size 864x432 with 3 Axes>"
      ]
     },
     "metadata": {},
     "output_type": "display_data"
    }
   ],
   "source": [
    "#plt.style.use('seaborn')\n",
    "fig, ax = plt.subplots(1,3, figsize = (12,6))\n",
    "ax = ax.flatten()\n",
    "for i,j in enumerate([0,1,3]):\n",
    "    D1.iloc[:,j].plot.hist(legend=False, bins = 40, ax = ax[i])"
   ]
  },
  {
   "cell_type": "code",
   "execution_count": 614,
   "id": "optical-flashing",
   "metadata": {},
   "outputs": [],
   "source": [
    "#Test all 3 pdfs for the first column\n",
    "def f0(x, a,b,c):\n",
    "    xmax = 27\n",
    "    xmin = 20\n",
    "    Norm = -1/a*(np.cos(a*xmax)-np.cos(a*xmin)) + c/b*(np.exp(b*xmax)-np.exp(b*xmin)) \n",
    "    return (np.sin(a*x)+c*np.exp(b*x)+1)/Norm\n",
    "\n",
    "def f1(x, a, b): return (1+ a*x + b*x**2)/(2+2/3*b)\n",
    "#For the third column we have poisson, binomial, maybe logarithmic\n",
    "def f3(x, a, b): return stats.norm.pdf(x, loc = a, scale = b)\n",
    "\n",
    "def f_chi2(O, E): return np.sum((O-E)**2/E)"
   ]
  },
  {
   "cell_type": "markdown",
   "id": "million-chart",
   "metadata": {},
   "source": [
    "## col 0 "
   ]
  },
  {
   "cell_type": "code",
   "execution_count": 613,
   "id": "preceding-amendment",
   "metadata": {},
   "outputs": [
    {
     "ename": "TypeError",
     "evalue": "f0() takes 3 positional arguments but 4 were given",
     "output_type": "error",
     "traceback": [
      "\u001b[1;31m---------------------------------------------------------------------------\u001b[0m",
      "\u001b[1;31mTypeError\u001b[0m                                 Traceback (most recent call last)",
      "\u001b[1;32m<ipython-input-613-e693c9fdf146>\u001b[0m in \u001b[0;36m<module>\u001b[1;34m\u001b[0m\n\u001b[0;32m      2\u001b[0m \u001b[0mfd0\u001b[0m \u001b[1;33m=\u001b[0m \u001b[0mvis\u001b[0m\u001b[1;33m.\u001b[0m\u001b[0mnice_histogram\u001b[0m\u001b[1;33m(\u001b[0m\u001b[0mD1\u001b[0m\u001b[1;33m.\u001b[0m\u001b[0miloc\u001b[0m\u001b[1;33m[\u001b[0m\u001b[1;33m:\u001b[0m\u001b[1;33m,\u001b[0m\u001b[1;36m0\u001b[0m\u001b[1;33m]\u001b[0m\u001b[1;33m,\u001b[0m \u001b[1;36m50\u001b[0m\u001b[1;33m)\u001b[0m\u001b[1;33m\u001b[0m\u001b[1;33m\u001b[0m\u001b[0m\n\u001b[0;32m      3\u001b[0m \u001b[0mp0\u001b[0m \u001b[1;33m=\u001b[0m \u001b[1;33m[\u001b[0m\u001b[1;36m4.15\u001b[0m\u001b[1;33m,\u001b[0m\u001b[1;33m-\u001b[0m\u001b[1;36m.3\u001b[0m\u001b[1;33m,\u001b[0m\u001b[1;36m4000\u001b[0m\u001b[1;33m]\u001b[0m\u001b[1;33m\u001b[0m\u001b[1;33m\u001b[0m\u001b[0m\n\u001b[1;32m----> 4\u001b[1;33m \u001b[0mfig\u001b[0m\u001b[1;33m,\u001b[0m \u001b[0max\u001b[0m \u001b[1;33m=\u001b[0m \u001b[0mvis\u001b[0m\u001b[1;33m.\u001b[0m\u001b[0mnice_plot\u001b[0m\u001b[1;33m(\u001b[0m\u001b[0mx0\u001b[0m\u001b[1;33m,\u001b[0m \u001b[0mf0\u001b[0m\u001b[1;33m(\u001b[0m\u001b[0mx0\u001b[0m\u001b[1;33m,\u001b[0m \u001b[1;33m*\u001b[0m\u001b[0mp0\u001b[0m\u001b[1;33m)\u001b[0m\u001b[1;33m*\u001b[0m\u001b[0mlen\u001b[0m\u001b[1;33m(\u001b[0m\u001b[0mD1\u001b[0m\u001b[1;33m)\u001b[0m\u001b[1;33m*\u001b[0m\u001b[0mfd0\u001b[0m\u001b[1;33m[\u001b[0m\u001b[1;34m'binwidth'\u001b[0m\u001b[1;33m]\u001b[0m\u001b[1;33m,\u001b[0m \u001b[0mfigure\u001b[0m \u001b[1;33m=\u001b[0m \u001b[0mfd0\u001b[0m\u001b[1;33m[\u001b[0m\u001b[1;34m'fig'\u001b[0m\u001b[1;33m]\u001b[0m\u001b[1;33m,\u001b[0m \u001b[0maxis\u001b[0m \u001b[1;33m=\u001b[0m \u001b[0mfd0\u001b[0m\u001b[1;33m[\u001b[0m\u001b[1;34m'ax'\u001b[0m\u001b[1;33m]\u001b[0m\u001b[1;33m)\u001b[0m\u001b[1;33m\u001b[0m\u001b[1;33m\u001b[0m\u001b[0m\n\u001b[0m\u001b[0;32m      5\u001b[0m \u001b[0mfig\u001b[0m\u001b[1;33m\u001b[0m\u001b[1;33m\u001b[0m\u001b[0m\n",
      "\u001b[1;31mTypeError\u001b[0m: f0() takes 3 positional arguments but 4 were given"
     ]
    }
   ],
   "source": [
    "x0 = np.linspace(20,27,100)\n",
    "fd0 = vis.nice_histogram(D1.iloc[:,0], 50)\n",
    "p0 = [4.15,-.3,4000]\n",
    "fig, ax = vis.nice_plot(x0, f0(x0, *p0)*len(D1)*fd0['binwidth'], figure = fd0['fig'], axis = fd0['ax'])\n",
    "fig"
   ]
  },
  {
   "cell_type": "code",
   "execution_count": 548,
   "id": "brazilian-passenger",
   "metadata": {},
   "outputs": [
    {
     "data": {
      "text/plain": [
       "22174.57863542423"
      ]
     },
     "execution_count": 548,
     "metadata": {},
     "output_type": "execute_result"
    }
   ],
   "source": [
    "f_nllh(1,1,1)"
   ]
  },
  {
   "cell_type": "code",
   "execution_count": 604,
   "id": "third-phoenix",
   "metadata": {},
   "outputs": [
    {
     "data": {
      "text/plain": [
       "<module 'toolbox.as_toolbox' from '..\\\\toolbox\\\\as_toolbox.py'>"
      ]
     },
     "execution_count": 604,
     "metadata": {},
     "output_type": "execute_result"
    }
   ],
   "source": [
    "importlib.reload(ast)"
   ]
  },
  {
   "cell_type": "code",
   "execution_count": 616,
   "id": "grateful-reception",
   "metadata": {},
   "outputs": [],
   "source": [
    "f_nllh = ast.NLLH(f0, D1.iloc[:,0])\n",
    "\n",
    "def f_llikelihood(T):\n",
    "    t1, t2, t3 = T\n",
    "    nllh = f_nllh(t1,t2)\n",
    "    return -nllh\n",
    "def prior_transform(x):\n",
    "    return np.array([20 * x[0] - 10 , 20 * x[1]-10, 4000*x[2]+4000])"
   ]
  },
  {
   "cell_type": "code",
   "execution_count": 617,
   "id": "occupational-circular",
   "metadata": {},
   "outputs": [
    {
     "ename": "IndexError",
     "evalue": "index 2 is out of bounds for axis 0 with size 2",
     "output_type": "error",
     "traceback": [
      "\u001b[1;31m---------------------------------------------------------------------------\u001b[0m",
      "\u001b[1;31mIndexError\u001b[0m                                Traceback (most recent call last)",
      "\u001b[1;32m<ipython-input-617-092e1d00fadc>\u001b[0m in \u001b[0;36m<module>\u001b[1;34m\u001b[0m\n\u001b[0;32m      1\u001b[0m \u001b[1;31m#for some reason nested sampling is too slow\u001b[0m\u001b[1;33m\u001b[0m\u001b[1;33m\u001b[0m\u001b[1;33m\u001b[0m\u001b[0m\n\u001b[0;32m      2\u001b[0m result = nestle.sample(\n\u001b[1;32m----> 3\u001b[1;33m     f_llikelihood, prior_transform, 2, method = 'multi', npoints = 100)\n\u001b[0m\u001b[0;32m      4\u001b[0m \u001b[0mlogz\u001b[0m \u001b[1;33m=\u001b[0m \u001b[0mresult\u001b[0m\u001b[1;33m.\u001b[0m\u001b[0mlogz\u001b[0m     \u001b[1;31m# log evidence\u001b[0m\u001b[1;33m\u001b[0m\u001b[1;33m\u001b[0m\u001b[0m\n\u001b[0;32m      5\u001b[0m \u001b[0mlogzerr\u001b[0m \u001b[1;33m=\u001b[0m \u001b[0mresult\u001b[0m\u001b[1;33m.\u001b[0m\u001b[0mlogzerr\u001b[0m  \u001b[1;31m# numerical (sampling) error on logz\u001b[0m\u001b[1;33m\u001b[0m\u001b[1;33m\u001b[0m\u001b[0m\n",
      "\u001b[1;32mD:\\Programme\\Anaconda\\envs\\tfCPU\\lib\\site-packages\\nestle.py\u001b[0m in \u001b[0;36msample\u001b[1;34m(loglikelihood, prior_transform, ndim, npoints, method, update_interval, npdim, maxiter, maxcall, dlogz, decline_factor, rstate, callback, **options)\u001b[0m\n\u001b[0;32m    862\u001b[0m     \u001b[0mactive_logl\u001b[0m \u001b[1;33m=\u001b[0m \u001b[0mnp\u001b[0m\u001b[1;33m.\u001b[0m\u001b[0mempty\u001b[0m\u001b[1;33m(\u001b[0m\u001b[0mnpoints\u001b[0m\u001b[1;33m,\u001b[0m \u001b[0mdtype\u001b[0m\u001b[1;33m=\u001b[0m\u001b[0mnp\u001b[0m\u001b[1;33m.\u001b[0m\u001b[0mfloat64\u001b[0m\u001b[1;33m)\u001b[0m  \u001b[1;31m# log likelihood\u001b[0m\u001b[1;33m\u001b[0m\u001b[1;33m\u001b[0m\u001b[0m\n\u001b[0;32m    863\u001b[0m     \u001b[1;32mfor\u001b[0m \u001b[0mi\u001b[0m \u001b[1;32min\u001b[0m \u001b[0mrange\u001b[0m\u001b[1;33m(\u001b[0m\u001b[0mnpoints\u001b[0m\u001b[1;33m)\u001b[0m\u001b[1;33m:\u001b[0m\u001b[1;33m\u001b[0m\u001b[1;33m\u001b[0m\u001b[0m\n\u001b[1;32m--> 864\u001b[1;33m         \u001b[0mactive_v\u001b[0m\u001b[1;33m[\u001b[0m\u001b[0mi\u001b[0m\u001b[1;33m,\u001b[0m \u001b[1;33m:\u001b[0m\u001b[1;33m]\u001b[0m \u001b[1;33m=\u001b[0m \u001b[0mprior_transform\u001b[0m\u001b[1;33m(\u001b[0m\u001b[0mactive_u\u001b[0m\u001b[1;33m[\u001b[0m\u001b[0mi\u001b[0m\u001b[1;33m,\u001b[0m \u001b[1;33m:\u001b[0m\u001b[1;33m]\u001b[0m\u001b[1;33m)\u001b[0m\u001b[1;33m\u001b[0m\u001b[1;33m\u001b[0m\u001b[0m\n\u001b[0m\u001b[0;32m    865\u001b[0m         \u001b[0mactive_logl\u001b[0m\u001b[1;33m[\u001b[0m\u001b[0mi\u001b[0m\u001b[1;33m]\u001b[0m \u001b[1;33m=\u001b[0m \u001b[0mloglikelihood\u001b[0m\u001b[1;33m(\u001b[0m\u001b[0mactive_v\u001b[0m\u001b[1;33m[\u001b[0m\u001b[0mi\u001b[0m\u001b[1;33m,\u001b[0m \u001b[1;33m:\u001b[0m\u001b[1;33m]\u001b[0m\u001b[1;33m)\u001b[0m\u001b[1;33m\u001b[0m\u001b[1;33m\u001b[0m\u001b[0m\n\u001b[0;32m    866\u001b[0m \u001b[1;33m\u001b[0m\u001b[0m\n",
      "\u001b[1;32m<ipython-input-616-ae8c9fbf2c52>\u001b[0m in \u001b[0;36mprior_transform\u001b[1;34m(x)\u001b[0m\n\u001b[0;32m      6\u001b[0m     \u001b[1;32mreturn\u001b[0m \u001b[1;33m-\u001b[0m\u001b[0mnllh\u001b[0m\u001b[1;33m\u001b[0m\u001b[1;33m\u001b[0m\u001b[0m\n\u001b[0;32m      7\u001b[0m \u001b[1;32mdef\u001b[0m \u001b[0mprior_transform\u001b[0m\u001b[1;33m(\u001b[0m\u001b[0mx\u001b[0m\u001b[1;33m)\u001b[0m\u001b[1;33m:\u001b[0m\u001b[1;33m\u001b[0m\u001b[1;33m\u001b[0m\u001b[0m\n\u001b[1;32m----> 8\u001b[1;33m     \u001b[1;32mreturn\u001b[0m \u001b[0mnp\u001b[0m\u001b[1;33m.\u001b[0m\u001b[0marray\u001b[0m\u001b[1;33m(\u001b[0m\u001b[1;33m[\u001b[0m\u001b[1;36m20\u001b[0m \u001b[1;33m*\u001b[0m \u001b[0mx\u001b[0m\u001b[1;33m[\u001b[0m\u001b[1;36m0\u001b[0m\u001b[1;33m]\u001b[0m \u001b[1;33m-\u001b[0m \u001b[1;36m10\u001b[0m \u001b[1;33m,\u001b[0m \u001b[1;36m20\u001b[0m \u001b[1;33m*\u001b[0m \u001b[0mx\u001b[0m\u001b[1;33m[\u001b[0m\u001b[1;36m1\u001b[0m\u001b[1;33m]\u001b[0m\u001b[1;33m-\u001b[0m\u001b[1;36m10\u001b[0m\u001b[1;33m,\u001b[0m \u001b[1;36m4000\u001b[0m\u001b[1;33m*\u001b[0m\u001b[0mx\u001b[0m\u001b[1;33m[\u001b[0m\u001b[1;36m2\u001b[0m\u001b[1;33m]\u001b[0m\u001b[1;33m+\u001b[0m\u001b[1;36m4000\u001b[0m\u001b[1;33m]\u001b[0m\u001b[1;33m)\u001b[0m\u001b[1;33m\u001b[0m\u001b[1;33m\u001b[0m\u001b[0m\n\u001b[0m",
      "\u001b[1;31mIndexError\u001b[0m: index 2 is out of bounds for axis 0 with size 2"
     ]
    }
   ],
   "source": [
    "#for some reason nested sampling is too slow\n",
    "result = nestle.sample(\n",
    "    f_llikelihood, prior_transform, 2, method = 'multi', npoints = 100)\n",
    "logz = result.logz     # log evidence\n",
    "logzerr = result.logzerr  # numerical (sampling) error on logz\n",
    "samples = result.samples  # array of sample parameters\n",
    "weights = result.weights  # array of weights associated with each sample\n",
    "logl = result.logl\n",
    "print(result.summary())"
   ]
  },
  {
   "cell_type": "code",
   "execution_count": 607,
   "id": "smart-stopping",
   "metadata": {},
   "outputs": [
    {
     "ename": "TypeError",
     "evalue": "f0() takes 3 positional arguments but 4 were given",
     "output_type": "error",
     "traceback": [
      "\u001b[1;31m---------------------------------------------------------------------------\u001b[0m",
      "\u001b[1;31mTypeError\u001b[0m                                 Traceback (most recent call last)",
      "\u001b[1;32m<ipython-input-607-345077eb9dde>\u001b[0m in \u001b[0;36m<module>\u001b[1;34m\u001b[0m\n\u001b[0;32m      1\u001b[0m \u001b[1;32mdef\u001b[0m \u001b[0mNeg_llh\u001b[0m\u001b[1;33m(\u001b[0m\u001b[0mx\u001b[0m\u001b[1;33m)\u001b[0m\u001b[1;33m:\u001b[0m \u001b[1;32mreturn\u001b[0m \u001b[0mf_nllh\u001b[0m\u001b[1;33m(\u001b[0m\u001b[0mx\u001b[0m\u001b[1;33m[\u001b[0m\u001b[1;36m0\u001b[0m\u001b[1;33m]\u001b[0m\u001b[1;33m,\u001b[0m\u001b[0mx\u001b[0m\u001b[1;33m[\u001b[0m\u001b[1;36m1\u001b[0m\u001b[1;33m]\u001b[0m\u001b[1;33m,\u001b[0m\u001b[0mx\u001b[0m\u001b[1;33m[\u001b[0m\u001b[1;36m2\u001b[0m\u001b[1;33m]\u001b[0m\u001b[1;33m)\u001b[0m\u001b[1;33m\u001b[0m\u001b[1;33m\u001b[0m\u001b[0m\n\u001b[0;32m      2\u001b[0m ret_dict = optimize.minimize(Neg_llh, x0 = [4,-.32,4500], \n\u001b[1;32m----> 3\u001b[1;33m                                bounds= [(-10,10), (-10,10),(4000,8000)])\n\u001b[0m\u001b[0;32m      4\u001b[0m \u001b[0mret_dict\u001b[0m\u001b[1;33m\u001b[0m\u001b[1;33m\u001b[0m\u001b[0m\n",
      "\u001b[1;32mD:\\Programme\\Anaconda\\envs\\tfCPU\\lib\\site-packages\\scipy\\optimize\\_minimize.py\u001b[0m in \u001b[0;36mminimize\u001b[1;34m(fun, x0, args, method, jac, hess, hessp, bounds, constraints, tol, callback, options)\u001b[0m\n\u001b[0;32m    616\u001b[0m     \u001b[1;32melif\u001b[0m \u001b[0mmeth\u001b[0m \u001b[1;33m==\u001b[0m \u001b[1;34m'l-bfgs-b'\u001b[0m\u001b[1;33m:\u001b[0m\u001b[1;33m\u001b[0m\u001b[1;33m\u001b[0m\u001b[0m\n\u001b[0;32m    617\u001b[0m         return _minimize_lbfgsb(fun, x0, args, jac, bounds,\n\u001b[1;32m--> 618\u001b[1;33m                                 callback=callback, **options)\n\u001b[0m\u001b[0;32m    619\u001b[0m     \u001b[1;32melif\u001b[0m \u001b[0mmeth\u001b[0m \u001b[1;33m==\u001b[0m \u001b[1;34m'tnc'\u001b[0m\u001b[1;33m:\u001b[0m\u001b[1;33m\u001b[0m\u001b[1;33m\u001b[0m\u001b[0m\n\u001b[0;32m    620\u001b[0m         return _minimize_tnc(fun, x0, args, jac, bounds, callback=callback,\n",
      "\u001b[1;32mD:\\Programme\\Anaconda\\envs\\tfCPU\\lib\\site-packages\\scipy\\optimize\\lbfgsb.py\u001b[0m in \u001b[0;36m_minimize_lbfgsb\u001b[1;34m(fun, x0, args, jac, bounds, disp, maxcor, ftol, gtol, eps, maxfun, maxiter, iprint, callback, maxls, finite_diff_rel_step, **unknown_options)\u001b[0m\n\u001b[0;32m    306\u001b[0m     sf = _prepare_scalar_function(fun, x0, jac=jac, args=args, epsilon=eps,\n\u001b[0;32m    307\u001b[0m                                   \u001b[0mbounds\u001b[0m\u001b[1;33m=\u001b[0m\u001b[0mnew_bounds\u001b[0m\u001b[1;33m,\u001b[0m\u001b[1;33m\u001b[0m\u001b[1;33m\u001b[0m\u001b[0m\n\u001b[1;32m--> 308\u001b[1;33m                                   finite_diff_rel_step=finite_diff_rel_step)\n\u001b[0m\u001b[0;32m    309\u001b[0m \u001b[1;33m\u001b[0m\u001b[0m\n\u001b[0;32m    310\u001b[0m     \u001b[0mfunc_and_grad\u001b[0m \u001b[1;33m=\u001b[0m \u001b[0msf\u001b[0m\u001b[1;33m.\u001b[0m\u001b[0mfun_and_grad\u001b[0m\u001b[1;33m\u001b[0m\u001b[1;33m\u001b[0m\u001b[0m\n",
      "\u001b[1;32mD:\\Programme\\Anaconda\\envs\\tfCPU\\lib\\site-packages\\scipy\\optimize\\optimize.py\u001b[0m in \u001b[0;36m_prepare_scalar_function\u001b[1;34m(fun, x0, jac, args, bounds, epsilon, finite_diff_rel_step, hess)\u001b[0m\n\u001b[0;32m    260\u001b[0m     \u001b[1;31m# calculation reduces overall function evaluations.\u001b[0m\u001b[1;33m\u001b[0m\u001b[1;33m\u001b[0m\u001b[1;33m\u001b[0m\u001b[0m\n\u001b[0;32m    261\u001b[0m     sf = ScalarFunction(fun, x0, args, grad, hess,\n\u001b[1;32m--> 262\u001b[1;33m                         finite_diff_rel_step, bounds, epsilon=epsilon)\n\u001b[0m\u001b[0;32m    263\u001b[0m \u001b[1;33m\u001b[0m\u001b[0m\n\u001b[0;32m    264\u001b[0m     \u001b[1;32mreturn\u001b[0m \u001b[0msf\u001b[0m\u001b[1;33m\u001b[0m\u001b[1;33m\u001b[0m\u001b[0m\n",
      "\u001b[1;32mD:\\Programme\\Anaconda\\envs\\tfCPU\\lib\\site-packages\\scipy\\optimize\\_differentiable_functions.py\u001b[0m in \u001b[0;36m__init__\u001b[1;34m(self, fun, x0, args, grad, hess, finite_diff_rel_step, finite_diff_bounds, epsilon)\u001b[0m\n\u001b[0;32m     74\u001b[0m \u001b[1;33m\u001b[0m\u001b[0m\n\u001b[0;32m     75\u001b[0m         \u001b[0mself\u001b[0m\u001b[1;33m.\u001b[0m\u001b[0m_update_fun_impl\u001b[0m \u001b[1;33m=\u001b[0m \u001b[0mupdate_fun\u001b[0m\u001b[1;33m\u001b[0m\u001b[1;33m\u001b[0m\u001b[0m\n\u001b[1;32m---> 76\u001b[1;33m         \u001b[0mself\u001b[0m\u001b[1;33m.\u001b[0m\u001b[0m_update_fun\u001b[0m\u001b[1;33m(\u001b[0m\u001b[1;33m)\u001b[0m\u001b[1;33m\u001b[0m\u001b[1;33m\u001b[0m\u001b[0m\n\u001b[0m\u001b[0;32m     77\u001b[0m \u001b[1;33m\u001b[0m\u001b[0m\n\u001b[0;32m     78\u001b[0m         \u001b[1;31m# Gradient evaluation\u001b[0m\u001b[1;33m\u001b[0m\u001b[1;33m\u001b[0m\u001b[1;33m\u001b[0m\u001b[0m\n",
      "\u001b[1;32mD:\\Programme\\Anaconda\\envs\\tfCPU\\lib\\site-packages\\scipy\\optimize\\_differentiable_functions.py\u001b[0m in \u001b[0;36m_update_fun\u001b[1;34m(self)\u001b[0m\n\u001b[0;32m    164\u001b[0m     \u001b[1;32mdef\u001b[0m \u001b[0m_update_fun\u001b[0m\u001b[1;33m(\u001b[0m\u001b[0mself\u001b[0m\u001b[1;33m)\u001b[0m\u001b[1;33m:\u001b[0m\u001b[1;33m\u001b[0m\u001b[1;33m\u001b[0m\u001b[0m\n\u001b[0;32m    165\u001b[0m         \u001b[1;32mif\u001b[0m \u001b[1;32mnot\u001b[0m \u001b[0mself\u001b[0m\u001b[1;33m.\u001b[0m\u001b[0mf_updated\u001b[0m\u001b[1;33m:\u001b[0m\u001b[1;33m\u001b[0m\u001b[1;33m\u001b[0m\u001b[0m\n\u001b[1;32m--> 166\u001b[1;33m             \u001b[0mself\u001b[0m\u001b[1;33m.\u001b[0m\u001b[0m_update_fun_impl\u001b[0m\u001b[1;33m(\u001b[0m\u001b[1;33m)\u001b[0m\u001b[1;33m\u001b[0m\u001b[1;33m\u001b[0m\u001b[0m\n\u001b[0m\u001b[0;32m    167\u001b[0m             \u001b[0mself\u001b[0m\u001b[1;33m.\u001b[0m\u001b[0mf_updated\u001b[0m \u001b[1;33m=\u001b[0m \u001b[1;32mTrue\u001b[0m\u001b[1;33m\u001b[0m\u001b[1;33m\u001b[0m\u001b[0m\n\u001b[0;32m    168\u001b[0m \u001b[1;33m\u001b[0m\u001b[0m\n",
      "\u001b[1;32mD:\\Programme\\Anaconda\\envs\\tfCPU\\lib\\site-packages\\scipy\\optimize\\_differentiable_functions.py\u001b[0m in \u001b[0;36mupdate_fun\u001b[1;34m()\u001b[0m\n\u001b[0;32m     71\u001b[0m \u001b[1;33m\u001b[0m\u001b[0m\n\u001b[0;32m     72\u001b[0m         \u001b[1;32mdef\u001b[0m \u001b[0mupdate_fun\u001b[0m\u001b[1;33m(\u001b[0m\u001b[1;33m)\u001b[0m\u001b[1;33m:\u001b[0m\u001b[1;33m\u001b[0m\u001b[1;33m\u001b[0m\u001b[0m\n\u001b[1;32m---> 73\u001b[1;33m             \u001b[0mself\u001b[0m\u001b[1;33m.\u001b[0m\u001b[0mf\u001b[0m \u001b[1;33m=\u001b[0m \u001b[0mfun_wrapped\u001b[0m\u001b[1;33m(\u001b[0m\u001b[0mself\u001b[0m\u001b[1;33m.\u001b[0m\u001b[0mx\u001b[0m\u001b[1;33m)\u001b[0m\u001b[1;33m\u001b[0m\u001b[1;33m\u001b[0m\u001b[0m\n\u001b[0m\u001b[0;32m     74\u001b[0m \u001b[1;33m\u001b[0m\u001b[0m\n\u001b[0;32m     75\u001b[0m         \u001b[0mself\u001b[0m\u001b[1;33m.\u001b[0m\u001b[0m_update_fun_impl\u001b[0m \u001b[1;33m=\u001b[0m \u001b[0mupdate_fun\u001b[0m\u001b[1;33m\u001b[0m\u001b[1;33m\u001b[0m\u001b[0m\n",
      "\u001b[1;32mD:\\Programme\\Anaconda\\envs\\tfCPU\\lib\\site-packages\\scipy\\optimize\\_differentiable_functions.py\u001b[0m in \u001b[0;36mfun_wrapped\u001b[1;34m(x)\u001b[0m\n\u001b[0;32m     68\u001b[0m         \u001b[1;32mdef\u001b[0m \u001b[0mfun_wrapped\u001b[0m\u001b[1;33m(\u001b[0m\u001b[0mx\u001b[0m\u001b[1;33m)\u001b[0m\u001b[1;33m:\u001b[0m\u001b[1;33m\u001b[0m\u001b[1;33m\u001b[0m\u001b[0m\n\u001b[0;32m     69\u001b[0m             \u001b[0mself\u001b[0m\u001b[1;33m.\u001b[0m\u001b[0mnfev\u001b[0m \u001b[1;33m+=\u001b[0m \u001b[1;36m1\u001b[0m\u001b[1;33m\u001b[0m\u001b[1;33m\u001b[0m\u001b[0m\n\u001b[1;32m---> 70\u001b[1;33m             \u001b[1;32mreturn\u001b[0m \u001b[0mfun\u001b[0m\u001b[1;33m(\u001b[0m\u001b[0mx\u001b[0m\u001b[1;33m,\u001b[0m \u001b[1;33m*\u001b[0m\u001b[0margs\u001b[0m\u001b[1;33m)\u001b[0m\u001b[1;33m\u001b[0m\u001b[1;33m\u001b[0m\u001b[0m\n\u001b[0m\u001b[0;32m     71\u001b[0m \u001b[1;33m\u001b[0m\u001b[0m\n\u001b[0;32m     72\u001b[0m         \u001b[1;32mdef\u001b[0m \u001b[0mupdate_fun\u001b[0m\u001b[1;33m(\u001b[0m\u001b[1;33m)\u001b[0m\u001b[1;33m:\u001b[0m\u001b[1;33m\u001b[0m\u001b[1;33m\u001b[0m\u001b[0m\n",
      "\u001b[1;32m<ipython-input-607-345077eb9dde>\u001b[0m in \u001b[0;36mNeg_llh\u001b[1;34m(x)\u001b[0m\n\u001b[1;32m----> 1\u001b[1;33m \u001b[1;32mdef\u001b[0m \u001b[0mNeg_llh\u001b[0m\u001b[1;33m(\u001b[0m\u001b[0mx\u001b[0m\u001b[1;33m)\u001b[0m\u001b[1;33m:\u001b[0m \u001b[1;32mreturn\u001b[0m \u001b[0mf_nllh\u001b[0m\u001b[1;33m(\u001b[0m\u001b[0mx\u001b[0m\u001b[1;33m[\u001b[0m\u001b[1;36m0\u001b[0m\u001b[1;33m]\u001b[0m\u001b[1;33m,\u001b[0m\u001b[0mx\u001b[0m\u001b[1;33m[\u001b[0m\u001b[1;36m1\u001b[0m\u001b[1;33m]\u001b[0m\u001b[1;33m,\u001b[0m\u001b[0mx\u001b[0m\u001b[1;33m[\u001b[0m\u001b[1;36m2\u001b[0m\u001b[1;33m]\u001b[0m\u001b[1;33m)\u001b[0m\u001b[1;33m\u001b[0m\u001b[1;33m\u001b[0m\u001b[0m\n\u001b[0m\u001b[0;32m      2\u001b[0m ret_dict = optimize.minimize(Neg_llh, x0 = [4,-.32,4500], \n\u001b[0;32m      3\u001b[0m                                bounds= [(-10,10), (-10,10),(4000,8000)])\n\u001b[0;32m      4\u001b[0m \u001b[0mret_dict\u001b[0m\u001b[1;33m\u001b[0m\u001b[1;33m\u001b[0m\u001b[0m\n",
      "\u001b[1;32mD:\\Master\\Blok3\\AAS\\toolbox\\as_toolbox.py\u001b[0m in \u001b[0;36m__call__\u001b[1;34m(self, *par)\u001b[0m\n\u001b[0;32m    382\u001b[0m         \u001b[0mlogf\u001b[0m \u001b[1;33m=\u001b[0m \u001b[0mnp\u001b[0m\u001b[1;33m.\u001b[0m\u001b[0mzeros_like\u001b[0m\u001b[1;33m(\u001b[0m\u001b[0mself\u001b[0m\u001b[1;33m.\u001b[0m\u001b[0mdata\u001b[0m\u001b[1;33m)\u001b[0m\u001b[1;33m\u001b[0m\u001b[1;33m\u001b[0m\u001b[0m\n\u001b[0;32m    383\u001b[0m         \u001b[1;31m# compute the function value\u001b[0m\u001b[1;33m\u001b[0m\u001b[1;33m\u001b[0m\u001b[1;33m\u001b[0m\u001b[0m\n\u001b[1;32m--> 384\u001b[1;33m         \u001b[0mf\u001b[0m \u001b[1;33m=\u001b[0m \u001b[0mcompute_f\u001b[0m\u001b[1;33m(\u001b[0m\u001b[0mself\u001b[0m\u001b[1;33m.\u001b[0m\u001b[0mf\u001b[0m\u001b[1;33m,\u001b[0m \u001b[0mself\u001b[0m\u001b[1;33m.\u001b[0m\u001b[0mdata\u001b[0m\u001b[1;33m,\u001b[0m \u001b[1;33m*\u001b[0m\u001b[0mpar\u001b[0m\u001b[1;33m)\u001b[0m\u001b[1;33m\u001b[0m\u001b[1;33m\u001b[0m\u001b[0m\n\u001b[0m\u001b[0;32m    385\u001b[0m         \u001b[1;31m# compute the sum of the log values: the LLH\u001b[0m\u001b[1;33m\u001b[0m\u001b[1;33m\u001b[0m\u001b[1;33m\u001b[0m\u001b[0m\n\u001b[0;32m    386\u001b[0m         \u001b[0mpos_mask\u001b[0m \u001b[1;33m=\u001b[0m \u001b[0mf\u001b[0m\u001b[1;33m>\u001b[0m\u001b[1;36m0\u001b[0m\u001b[1;33m\u001b[0m\u001b[1;33m\u001b[0m\u001b[0m\n",
      "\u001b[1;32mD:\\Master\\Blok3\\AAS\\toolbox\\ExternalFunctions.py\u001b[0m in \u001b[0;36mcompute_f\u001b[1;34m(f, x, *par)\u001b[0m\n\u001b[0;32m     87\u001b[0m \u001b[1;33m\u001b[0m\u001b[0m\n\u001b[0;32m     88\u001b[0m     \u001b[1;32mtry\u001b[0m\u001b[1;33m:\u001b[0m\u001b[1;33m\u001b[0m\u001b[1;33m\u001b[0m\u001b[0m\n\u001b[1;32m---> 89\u001b[1;33m         \u001b[1;32mreturn\u001b[0m \u001b[0mf\u001b[0m\u001b[1;33m(\u001b[0m\u001b[0mx\u001b[0m\u001b[1;33m,\u001b[0m \u001b[1;33m*\u001b[0m\u001b[0mpar\u001b[0m\u001b[1;33m)\u001b[0m\u001b[1;33m\u001b[0m\u001b[1;33m\u001b[0m\u001b[0m\n\u001b[0m\u001b[0;32m     90\u001b[0m     \u001b[1;32mexcept\u001b[0m \u001b[0mValueError\u001b[0m\u001b[1;33m:\u001b[0m\u001b[1;33m\u001b[0m\u001b[1;33m\u001b[0m\u001b[0m\n\u001b[0;32m     91\u001b[0m         \u001b[1;32mreturn\u001b[0m \u001b[0mnp\u001b[0m\u001b[1;33m.\u001b[0m\u001b[0marray\u001b[0m\u001b[1;33m(\u001b[0m\u001b[1;33m[\u001b[0m\u001b[0mf\u001b[0m\u001b[1;33m(\u001b[0m\u001b[0mxi\u001b[0m\u001b[1;33m,\u001b[0m \u001b[1;33m*\u001b[0m\u001b[0mpar\u001b[0m\u001b[1;33m)\u001b[0m \u001b[1;32mfor\u001b[0m \u001b[0mxi\u001b[0m \u001b[1;32min\u001b[0m \u001b[0mx\u001b[0m\u001b[1;33m]\u001b[0m\u001b[1;33m)\u001b[0m\u001b[1;33m\u001b[0m\u001b[1;33m\u001b[0m\u001b[0m\n",
      "\u001b[1;31mTypeError\u001b[0m: f0() takes 3 positional arguments but 4 were given"
     ]
    }
   ],
   "source": [
    "def Neg_llh(x): return f_nllh(x[0],x[1],x[2])\n",
    "ret_dict = optimize.minimize(Neg_llh, x0 = [4,-.32,4500], \n",
    "                               bounds= [(-10,10), (-10,10),(4000,8000)])\n",
    "ret_dict"
   ]
  },
  {
   "cell_type": "code",
   "execution_count": 618,
   "id": "running-validation",
   "metadata": {},
   "outputs": [
    {
     "name": "stderr",
     "output_type": "stream",
     "text": [
      "D:\\Programme\\Anaconda\\envs\\tfCPU\\lib\\site-packages\\ipykernel_launcher.py:11: RuntimeWarning: overflow encountered in exp\n",
      "  # This is added back by InteractiveShellApp.init_path()\n",
      "D:\\Programme\\Anaconda\\envs\\tfCPU\\lib\\site-packages\\ipykernel_launcher.py:11: RuntimeWarning: invalid value encountered in double_scalars\n",
      "  # This is added back by InteractiveShellApp.init_path()\n"
     ]
    }
   ],
   "source": [
    "#lets try MCMC\n",
    "f_nllh = ast.NLLH(f0, D1.iloc[:,0])\n",
    "num_iter = 10\n",
    "def loglikelihood(a,b,c): return -f_nllh(a,b,c)\n",
    "def prop(size): return stats.norm.rvs(loc = [0,0,0], scale = [.1,.1,10], size = size)\n",
    "p0 = stats.norm.rvs(loc = [5,-.3,5000], scale = [.5,.5,10], size = 3)\n",
    "P_trace = np.empty((num_iter,3))\n",
    "for i in range(num_iter):\n",
    "        p_prop = p0+prop(size = 3)\n",
    "        rand = np.random.uniform()\n",
    "        if (np.exp(loglikelihood(*p_prop)) / np.exp(loglikelihood(*p0) ))>rand:\n",
    "            p0 = p_prop\n",
    "        else:\n",
    "            pass\n",
    "        P_trace[i,:] = p0"
   ]
  },
  {
   "cell_type": "code",
   "execution_count": 619,
   "id": "limited-namibia",
   "metadata": {},
   "outputs": [
    {
     "data": {
      "text/plain": [
       "<module 'toolbox.as_toolbox' from '..\\\\toolbox\\\\as_toolbox.py'>"
      ]
     },
     "execution_count": 619,
     "metadata": {},
     "output_type": "execute_result"
    }
   ],
   "source": [
    "importlib.reload(ast)"
   ]
  },
  {
   "cell_type": "code",
   "execution_count": 610,
   "id": "declared-mirror",
   "metadata": {},
   "outputs": [
    {
     "name": "stderr",
     "output_type": "stream",
     "text": [
      "..\\toolbox\\as_toolbox.py:424: RuntimeWarning: invalid value encountered in log\n",
      "  logf = np.log(f)\n"
     ]
    },
    {
     "ename": "IndexError",
     "evalue": "too many indices for array: array is 2-dimensional, but 3 were indexed",
     "output_type": "error",
     "traceback": [
      "\u001b[1;31m---------------------------------------------------------------------------\u001b[0m",
      "\u001b[1;31mIndexError\u001b[0m                                Traceback (most recent call last)",
      "\u001b[1;32m<ipython-input-610-2ba3d497135c>\u001b[0m in \u001b[0;36m<module>\u001b[1;34m\u001b[0m\n\u001b[0;32m      1\u001b[0m \u001b[1;31m#fix c at 4000 and perform maximum likelihood scan\u001b[0m\u001b[1;33m\u001b[0m\u001b[1;33m\u001b[0m\u001b[1;33m\u001b[0m\u001b[0m\n\u001b[0;32m      2\u001b[0m \u001b[0mNLLH2d\u001b[0m \u001b[1;33m=\u001b[0m \u001b[0mast\u001b[0m\u001b[1;33m.\u001b[0m\u001b[0mNLLH_scan\u001b[0m\u001b[1;33m(\u001b[0m\u001b[0mf0\u001b[0m\u001b[1;33m,\u001b[0m \u001b[0mD1\u001b[0m\u001b[1;33m.\u001b[0m\u001b[0miloc\u001b[0m\u001b[1;33m[\u001b[0m\u001b[1;33m:\u001b[0m\u001b[1;33m,\u001b[0m\u001b[1;36m0\u001b[0m\u001b[1;33m]\u001b[0m\u001b[1;33m)\u001b[0m\u001b[1;33m\u001b[0m\u001b[1;33m\u001b[0m\u001b[0m\n\u001b[1;32m----> 3\u001b[1;33m \u001b[0mgrid\u001b[0m\u001b[1;33m,\u001b[0m \u001b[0mllh2d\u001b[0m \u001b[1;33m=\u001b[0m \u001b[0mNLLH2d\u001b[0m\u001b[1;33m(\u001b[0m\u001b[0mnp\u001b[0m\u001b[1;33m.\u001b[0m\u001b[0mlinspace\u001b[0m\u001b[1;33m(\u001b[0m\u001b[1;33m-\u001b[0m\u001b[1;36m10\u001b[0m\u001b[1;33m,\u001b[0m\u001b[1;36m10\u001b[0m\u001b[1;33m)\u001b[0m\u001b[1;33m,\u001b[0m\u001b[0mnp\u001b[0m\u001b[1;33m.\u001b[0m\u001b[0mlinspace\u001b[0m\u001b[1;33m(\u001b[0m\u001b[1;33m-\u001b[0m\u001b[1;36m10\u001b[0m\u001b[1;33m,\u001b[0m\u001b[1;36m10\u001b[0m\u001b[1;33m)\u001b[0m\u001b[1;33m)\u001b[0m\u001b[1;33m\u001b[0m\u001b[1;33m\u001b[0m\u001b[0m\n\u001b[0m\u001b[0;32m      4\u001b[0m \u001b[0mfig\u001b[0m\u001b[1;33m,\u001b[0m \u001b[0max\u001b[0m \u001b[1;33m=\u001b[0m \u001b[0mplt\u001b[0m\u001b[1;33m.\u001b[0m\u001b[0msubplots\u001b[0m\u001b[1;33m(\u001b[0m\u001b[1;33m)\u001b[0m\u001b[1;33m\u001b[0m\u001b[1;33m\u001b[0m\u001b[0m\n\u001b[0;32m      5\u001b[0m \u001b[0max\u001b[0m\u001b[1;33m.\u001b[0m\u001b[0mcontourf\u001b[0m\u001b[1;33m(\u001b[0m\u001b[0mgrid\u001b[0m\u001b[1;33m[\u001b[0m\u001b[1;36m0\u001b[0m\u001b[1;33m]\u001b[0m\u001b[1;33m,\u001b[0m \u001b[0mgrid\u001b[0m\u001b[1;33m[\u001b[0m\u001b[1;36m1\u001b[0m\u001b[1;33m]\u001b[0m\u001b[1;33m,\u001b[0m \u001b[0mllh2d\u001b[0m\u001b[1;33m,\u001b[0m \u001b[1;36m100\u001b[0m\u001b[1;33m)\u001b[0m\u001b[1;33m\u001b[0m\u001b[1;33m\u001b[0m\u001b[0m\n",
      "\u001b[1;32mD:\\Master\\Blok3\\AAS\\toolbox\\as_toolbox.py\u001b[0m in \u001b[0;36m__call__\u001b[1;34m(self, *par)\u001b[0m\n\u001b[0;32m    425\u001b[0m         \u001b[0mlogf\u001b[0m\u001b[1;33m[\u001b[0m\u001b[1;33m~\u001b[0m\u001b[0mpos_mask\u001b[0m\u001b[1;33m]\u001b[0m \u001b[1;33m=\u001b[0m \u001b[1;33m-\u001b[0m\u001b[0mnp\u001b[0m\u001b[1;33m.\u001b[0m\u001b[0minf\u001b[0m\u001b[1;33m\u001b[0m\u001b[1;33m\u001b[0m\u001b[0m\n\u001b[0;32m    426\u001b[0m         \u001b[0mllh\u001b[0m \u001b[1;33m=\u001b[0m \u001b[1;33m-\u001b[0m\u001b[0mnp\u001b[0m\u001b[1;33m.\u001b[0m\u001b[0msum\u001b[0m\u001b[1;33m(\u001b[0m\u001b[0mlogf\u001b[0m\u001b[1;33m,\u001b[0m \u001b[0maxis\u001b[0m \u001b[1;33m=\u001b[0m \u001b[0mlen\u001b[0m\u001b[1;33m(\u001b[0m\u001b[0mindex\u001b[0m\u001b[1;33m)\u001b[0m\u001b[1;33m)\u001b[0m\u001b[1;31m#sum over the axis that represents the data points(last axis)\u001b[0m\u001b[1;33m\u001b[0m\u001b[1;33m\u001b[0m\u001b[0m\n\u001b[1;32m--> 427\u001b[1;33m         \u001b[0mllh\u001b[0m\u001b[1;33m[\u001b[0m\u001b[1;33m~\u001b[0m\u001b[0mpos_mask\u001b[0m\u001b[1;33m]\u001b[0m \u001b[1;33m=\u001b[0m \u001b[1;33m-\u001b[0m\u001b[0mnp\u001b[0m\u001b[1;33m.\u001b[0m\u001b[0minf\u001b[0m\u001b[1;33m\u001b[0m\u001b[1;33m\u001b[0m\u001b[0m\n\u001b[0m\u001b[0;32m    428\u001b[0m         \u001b[1;32mreturn\u001b[0m \u001b[0mPar_grid\u001b[0m\u001b[1;33m,\u001b[0m \u001b[0mllh\u001b[0m\u001b[1;33m\u001b[0m\u001b[1;33m\u001b[0m\u001b[0m\n\u001b[0;32m    429\u001b[0m \u001b[1;33m\u001b[0m\u001b[0m\n",
      "\u001b[1;31mIndexError\u001b[0m: too many indices for array: array is 2-dimensional, but 3 were indexed"
     ]
    }
   ],
   "source": [
    "#fix c at 4000 and perform maximum likelihood scan\n",
    "NLLH2d = ast.NLLH_scan(f0, D1.iloc[:,0])\n",
    "grid, llh2d = NLLH2d(np.linspace(-10,10),np.linspace(-10,10))\n",
    "fig, ax = plt.subplots()\n",
    "ax.contourf(grid[0], grid[1], llh2d, 100)"
   ]
  },
  {
   "cell_type": "code",
   "execution_count": 611,
   "id": "charged-sending",
   "metadata": {},
   "outputs": [
    {
     "name": "stderr",
     "output_type": "stream",
     "text": [
      "D:\\Programme\\Anaconda\\envs\\tfCPU\\lib\\site-packages\\ipykernel_launcher.py:14: DeprecationWarning: Using .default_errordef() is deprecated. Use .errordef instead\n",
      "  \n"
     ]
    },
    {
     "data": {
      "image/png": "[encoded data removed]",
      "text/plain": [
       "<Figure size 864x432 with 1 Axes>"
      ]
     },
     "execution_count": 611,
     "metadata": {},
     "output_type": "execute_result"
    }
   ],
   "source": [
    "#Lets perform likelihood fits for the functions that might be suitable\n",
    "def f0(x, a,b):\n",
    "    c = 4000\n",
    "    xmax = 27\n",
    "    xmin = 20\n",
    "    Norm = -1/a*(np.cos(a*xmax)-np.cos(a*xmin)) + c/b*(np.exp(b*xmax)-np.exp(b*xmin)) \n",
    "    return (np.sin(a*x)+c*np.exp(b*x)+1)/Norm\n",
    "\n",
    "p0 = [4.15,-.3]\n",
    "nbins = 50\n",
    "\n",
    "dt0 = fits.hist_fit(\n",
    "    f0, D1.iloc[:,0], p0, fit_type = 'ullh',\n",
    "    observed = True, print_level = 0)\n",
    "a0m, b0m = dt0['minuit_obj'].values[:]\n",
    "fd0 = vis.nice_histogram(D1.iloc[:,0], 50)\n",
    "\n",
    "fig, ax = vis.nice_plot(\n",
    "    x0, f0(x0, a0m, b0m)*len(D1)*fd0['binwidth'], \n",
    "    figure = fd0['fig'], axis = fd0['ax'])\n",
    "#Both seem to fit reasonably well\n",
    "LLH0 = dt0['minuit_obj'].fval\n",
    "ax.text(20, 10, f\"NLLH =  {LLH0:2.1f}\", color = Color_p(2)[0],fontsize = 25)\n",
    "fig"
   ]
  },
  {
   "cell_type": "markdown",
   "id": "surrounded-endorsement",
   "metadata": {},
   "source": [
    "## Col1 "
   ]
  },
  {
   "cell_type": "code",
   "execution_count": null,
   "id": "billion-sector",
   "metadata": {},
   "outputs": [],
   "source": [
    "x1 = np.linspace(-1,1,100)\n",
    "fd1 = vis.nice_histogram(D1.iloc[:,1], 50)\n",
    "p1 = [1,1]\n",
    "fig, ax = vis.nice_plot(x1, f1(x1, *p1)*len(D1)*fd1['binwidth'], figure = fd1['fig'], axis = fd1['ax'])"
   ]
  },
  {
   "cell_type": "code",
   "execution_count": null,
   "id": "indonesian-begin",
   "metadata": {},
   "outputs": [],
   "source": [
    "#Lets perform likelihood fits for the functions that might be suitable\n",
    "nbins = 50\n",
    "dt1 = fits.hist_fit(\n",
    "    f1, D1.iloc[:,1], p1, fit_type = 'ullh',\n",
    "    observed = True, print_level = 0)\n",
    "a1m, b1m = dt1['minuit_obj'].values[:]\n",
    "sa1m, sb1m = dt1['minuit_obj'].errors[:]\n",
    "fd1 = vis.nice_histogram(D1.iloc[:,1], 50, data_label_hist='Data')\n",
    "p00 = [4.2,-.11,40]\n",
    "fig, ax = vis.nice_plot(\n",
    "    x1, f1(x1, a1m, b1m)*len(D1)*fd1['binwidth'],  plot_legend=True, label_fs=25,\n",
    "    figure = fd1['fig'], axis = fd1['ax'], data_label = r\"$\\propto 1+ax+bx^2$\")\n",
    "#Both seem to fit reasonably well\n",
    "LLH1 = dt1['minuit_obj'].fval\n",
    "ax.text(0, 210, f\"NLLH =  {LLH1:2.1f}\", color = Color_p(2)[0],fontsize = 25)\n",
    "ax.text(0, 170, r\"$a = 0.47\\pm0.05$\", color = Color_p(2)[0],fontsize = 25)\n",
    "ax.text(0, 150, r\"$b = 2.58\\pm0.16$\", color = Color_p(2)[0],fontsize = 25)\n",
    "#compute chi2 and pvalue using 50 bins\n",
    "chi21 = f_chi2(fd1['y'], f1(fd1['x'],a1m, b1m))\n",
    "pval1 = stats.chi2.sf(chi21, len(D1)-2)\n",
    "ax.text(0, 190, r\"$p = 0.680$\", color = Color_p(2)[0],fontsize = 25)\n",
    "fig"
   ]
  },
  {
   "cell_type": "code",
   "execution_count": null,
   "id": "conscious-sampling",
   "metadata": {},
   "outputs": [],
   "source": [
    "pval1"
   ]
  },
  {
   "cell_type": "markdown",
   "id": "central-missouri",
   "metadata": {},
   "source": [
    "## Col 3"
   ]
  },
  {
   "cell_type": "code",
   "execution_count": null,
   "id": "starting-complement",
   "metadata": {},
   "outputs": [],
   "source": [
    "x3 = np.linspace(0,2.5,100)\n",
    "fd3 = vis.nice_histogram(D1.iloc[:,3], 50)\n",
    "p3 = [1.12,.04]\n",
    "fig, ax = vis.nice_plot(x3, f3(x3, *p3)*len(D1)*fd3['binwidth'], figure = fd3['fig'], axis = fd3['ax'])\n",
    "fig"
   ]
  },
  {
   "cell_type": "code",
   "execution_count": null,
   "id": "portable-sector",
   "metadata": {},
   "outputs": [],
   "source": [
    "#Lets perform likelihood fits for the functions that might be suitable\n",
    "nbins = 50\n",
    "dt3 = fits.hist_fit(\n",
    "    f3, D1.iloc[:,3], p3, fit_type = 'ullh',\n",
    "    observed = True, print_level = 0)\n",
    "a3m, b3m = dt3['minuit_obj'].values[:]\n",
    "sa3m, sb3m = dt3['minuit_obj'].errors[:]\n",
    "fd3 = vis.nice_histogram(D1.iloc[:,3], 50, data_label_hist='Data',label_fs=25)\n",
    "fig, ax = vis.nice_plot(\n",
    "    x3, f3(x3, a3m, b3m)*len(D1)*fd3['binwidth'],  plot_legend=True,\n",
    "    figure = fd3['fig'], axis = fd3['ax'], data_label = r\"$\\propto \\exp{( -\\frac{(x-a)^2}{2b^2})  }$\")\n",
    "#Both seem to fit reasonably well\n",
    "LLH3 = dt3['minuit_obj'].fval\n",
    "ax.text(0, 210, f\"NLLH =  {LLH1:2.1f}\", color = Color_p(2)[0],fontsize = 25)\n",
    "ax.text(0, 180, r\"$a = 1.1396\\pm0.0006$\", color = Color_p(2)[0],fontsize = 25)\n",
    "ax.text(0, 150, r\"$b = 0.0396\\pm0.0004$\", color = Color_p(2)[0],fontsize = 25)\n",
    "fig"
   ]
  },
  {
   "cell_type": "markdown",
   "id": "racial-consciousness",
   "metadata": {},
   "source": [
    "# Problem 2 {-} "
   ]
  },
  {
   "cell_type": "markdown",
   "id": "delayed-mineral",
   "metadata": {},
   "source": [
    "## Problem 2a {-}"
   ]
  },
  {
   "cell_type": "markdown",
   "id": "portuguese-winner",
   "metadata": {},
   "source": [
    "Running 10000 pseudo-experiments in producing isotropic points on a unit sphere will be used to determine a test statistic for the KS-value. This will then be used to determine whether the data follows uniform distribution in $\\varphi$ and $\\cos{(\\theta)}$. "
   ]
  },
  {
   "cell_type": "code",
   "execution_count": null,
   "id": "aquatic-facility",
   "metadata": {},
   "outputs": [],
   "source": [
    "url = \"https://www.nbi.dk/~koskinen/Teaching/AdvancedMethodsInAppliedStatistics2021/data/Exam_2021_Problem2.txt\"\n",
    "D2 = np.loadtxt(url , skiprows = 2)\n",
    "d_phi = D2[:,0]#azimuth angle from 0 to 2*pi\n",
    "d_theta = D2[:,1]#zenith angle from 0 to pi"
   ]
  },
  {
   "cell_type": "code",
   "execution_count": null,
   "id": "brutal-democrat",
   "metadata": {},
   "outputs": [],
   "source": [
    "plt.figure(figsize = (6,6))\n",
    "plt.subplot(projection=\"hammer\")\n",
    "plt.scatter(d_phi-np.pi, d_theta-np.pi/2,  s=10, c='r', zorder=10)\n",
    "plt.grid(True)\n",
    "plt.tight_layout()\n",
    "#Is this uniform? "
   ]
  },
  {
   "cell_type": "code",
   "execution_count": null,
   "id": "desirable-incidence",
   "metadata": {},
   "outputs": [],
   "source": [
    "#Autocorrelation for data\n",
    "Npoints = len(D2)\n",
    "nphi = 50\n",
    "d_3d = ast.create_points3d(d_phi, d_theta)\n",
    "x_phi = np.linspace(0, 2*np.pi,nphi)\n",
    "iso = ast.f_isotropic(x_phi)#isotropic for large number of events\n",
    "CAR_data = ast.cumulative_autocorrelation(d_3d, x_phi)\n",
    "fig, ax = vis.nice_plot(\n",
    "    np.cos(x_phi), CAR_data, drawstyle = 'steps-mid',\n",
    "    xlabel = r\"$\\cos{\\varphi}$\", ylabel = r\"$\\mathcal{C(\\varphi)}$\")"
   ]
  },
  {
   "cell_type": "code",
   "execution_count": null,
   "id": "specialized-backup",
   "metadata": {},
   "outputs": [],
   "source": [
    "import importlib\n",
    "_=importlib.reload(ast)"
   ]
  },
  {
   "cell_type": "code",
   "execution_count": null,
   "id": "derived-masters",
   "metadata": {},
   "outputs": [],
   "source": [
    "#Produce pseudo experiments\n",
    "Nexp = int(500)\n",
    "#accelerate with numba\n",
    "#@jit(forceobj = True)\n",
    "def simulate_KS(Nexp):\n",
    "    KS_iso = np.empty(Nexp)\n",
    "    for i in range(Nexp):\n",
    "        X_iso = ast.sample_spherical_uniform(Npoints)\n",
    "        KS_iso[i] = np.max(np.abs(ast.cumulative_autocorrelation(X_iso, x_phi)-iso))\n",
    "    return KS_iso"
   ]
  },
  {
   "cell_type": "code",
   "execution_count": null,
   "id": "celtic-atlanta",
   "metadata": {},
   "outputs": [],
   "source": [
    "KS_iso = simulate_KS(Nexp)\n",
    "KS_data = np.max(np.abs(CAR_data-iso))"
   ]
  },
  {
   "cell_type": "code",
   "execution_count": null,
   "id": "informational-humanity",
   "metadata": {},
   "outputs": [],
   "source": [
    "fd = vis.nice_histogram(\n",
    "    KS_iso, 100, data_label_hist='isotropic', xlabel = 'KS',\n",
    "    plot_legend=True)\n",
    "fd['ax'].axvline(KS_data, label = 'data')\n",
    "fd['ax'].legend(fontsize = 25)\n",
    "fd['fig']"
   ]
  },
  {
   "cell_type": "code",
   "execution_count": null,
   "id": "nervous-attention",
   "metadata": {},
   "outputs": [],
   "source": [
    "#compute integral\n",
    "KSx, KSy = fd['x'], fd['y']\n",
    "data_mask = KSx>KS_data\n",
    "integral_abs = np.sum(KSy[data_mask])\n",
    "integral_iso = integral_abs/np.sum(KSy)\n",
    "print(integral_iso)"
   ]
  },
  {
   "cell_type": "markdown",
   "id": "blocked-prescription",
   "metadata": {},
   "source": [
    "The integral is 0.0044 which corresponds to the p-value. We can reject the isotropic hypothesis for the data."
   ]
  },
  {
   "cell_type": "markdown",
   "id": "elementary-archive",
   "metadata": {},
   "source": [
    "## Problem 2b {-} "
   ]
  },
  {
   "cell_type": "code",
   "execution_count": null,
   "id": "aerial-creature",
   "metadata": {},
   "outputs": [],
   "source": [
    "Nexp = 10\n",
    "Nuniform = int(Npoints*0.8)\n",
    "Nha = int(Npoints*0.2)\n",
    "aphi = np.random.uniform(size = Nha)*(0.725-0.225)*np.pi + 0.225*np.pi\n",
    "atheta = np.random.uniform(size = Nha)*(1-0.3)*np.pi + 0.3*np.pi\n",
    "#@jit(forceobj = True)\n",
    "def simulate_KS_HA(Nexp):\n",
    "    KS_HA = np.empty(Nexp)\n",
    "    iso = ast.f_isotropic(x_phi)\n",
    "    for i in range(Nexp):\n",
    "        X_HA = ast.create_points3d(aphi, atheta)\n",
    "        X_iso = ast.sample_spherical_uniform(Nuniform)\n",
    "        X_HA = np.concatenate((X_HA, X_iso), axis = 1)\n",
    "        KS_HA[i] = np.max(np.abs(ast.cumulative_autocorrelation(X_HA, x_phi)-iso))\n",
    "    return KS_HA"
   ]
  },
  {
   "cell_type": "code",
   "execution_count": null,
   "id": "piano-marijuana",
   "metadata": {},
   "outputs": [],
   "source": [
    "%time KS_HA = simulate_KS_HA(100)"
   ]
  },
  {
   "cell_type": "code",
   "execution_count": null,
   "id": "french-prime",
   "metadata": {},
   "outputs": [],
   "source": [
    "fdA = vis.nice_histogram(\n",
    "    KS_HA, 100, data_label_hist='Hypotheses A', xlabel = 'KS',\n",
    "    plot_legend=True)\n",
    "fdA['ax'].axvline(KS_data, label = 'data')\n",
    "fdA['ax'].legend(fontsize = 25)\n",
    "fdA['fig']"
   ]
  },
  {
   "cell_type": "code",
   "execution_count": null,
   "id": "cardiovascular-outline",
   "metadata": {},
   "outputs": [],
   "source": [
    "#compute integral\n",
    "KSx, KSy = fdA['x'], fdA['y']\n",
    "data_mask = KSx>KS_data\n",
    "integral_abs = np.sum(KSy[data_mask])\n",
    "integral_iso = integral_abs/np.sum(KSy)\n",
    "print(integral_iso)"
   ]
  },
  {
   "cell_type": "code",
   "execution_count": null,
   "id": "smooth-biodiversity",
   "metadata": {},
   "outputs": [],
   "source": [
    "Nexp = 10\n",
    "NuniformB = int(Npoints*0.85)\n",
    "NHB = int(Npoints*0.15)\n",
    "bphi = np.random.uniform(size = NHB)*np.pi \n",
    "btheta = np.random.uniform(size = NHB)*0.5*np.pi + 0.5*np.pi\n",
    "@jit(forceobj = True)\n",
    "def simulate_KS_HB(Nexp):\n",
    "    KS_HB = np.empty(Nexp)\n",
    "    iso = ast.f_isotropic(x_phi)\n",
    "    for i in range(Nexp):\n",
    "        X_HB = ast.create_points3d(bphi, btheta)\n",
    "        X_iso = ast.sample_spherical_uniform(Nuniform)\n",
    "        X_HB = np.concatenate((X_HB, X_iso), axis = 1)\n",
    "        KS_HB[i] = np.max(np.abs(ast.cumulative_autocorrelation(X_HB, x_phi)-iso))\n",
    "    return KS_HB\n",
    "KS_HB = simulate_KS_HB(100)\n",
    "fdB = vis.nice_histogram(\n",
    "    KS_HB, 100, data_label_hist='Hypotheses A', xlabel = 'KS',\n",
    "    plot_legend=True)\n",
    "fdB['ax'].axvline(KS_data, label = 'data')\n",
    "fdB['ax'].legend(fontsize = 25)\n",
    "fdB['fig']"
   ]
  },
  {
   "cell_type": "code",
   "execution_count": null,
   "id": "environmental-techno",
   "metadata": {},
   "outputs": [],
   "source": [
    "#compute integral\n",
    "KSx, KSy = fdB['x'], fdB['y']\n",
    "data_mask = KSx>KS_data\n",
    "integral_abs = np.sum(KSy[data_mask])\n",
    "integral_iso = integral_abs/np.sum(KSy)\n",
    "print(integral_iso)"
   ]
  },
  {
   "cell_type": "markdown",
   "id": "precise-february",
   "metadata": {},
   "source": [
    "# Problem 3 {-} "
   ]
  },
  {
   "cell_type": "markdown",
   "id": "negative-baking",
   "metadata": {},
   "source": [
    "## Problem 3a {-} "
   ]
  },
  {
   "cell_type": "code",
   "execution_count": 121,
   "id": "pregnant-concrete",
   "metadata": {},
   "outputs": [],
   "source": [
    "X0test = X0[-4:,:]\n",
    "#lets measure distances in meters\n",
    "dist = 200\n",
    "R = 5e3\n",
    "def polar_to_cart(r, phi):\n",
    "    x = np.cos(phi)*r\n",
    "    y = np.sin(phi)*r\n",
    "    return x, y\n",
    "def cart_to_polar(x,y):\n",
    "    phi = np.sign(y)*(np.arctan(y/x)+np.pi/2)\n",
    "    r = x**2 + y**2\n",
    "    return r, phi\n",
    "\n",
    "def update_coordinates(X0):\n",
    "    \"\"\"samples random unit vector in 2d and adds it to the current vector\"\"\"\n",
    "    X_step = ast.sample_spherical_uniform(len(X0), 2).T\n",
    "    return X0+X_step\n",
    "def measure_dist(X):\n",
    "    \"\"\"Upper triangular contains the distances, \n",
    "    lower triangular and diagonal are set to inf\"\"\"\n",
    "    x, y = X[:,0],X[:,1]\n",
    "    xxa, xxb  = np.meshgrid(x, x)\n",
    "    yya, yyb = np.meshgrid(y,y)\n",
    "    Dist = np.sqrt( (xxa-xxb)**2+(yya-yyb)**2 ) #distance matrix\n",
    "    Dist = np.triu(Dist)#we want the distance only once\n",
    "    mask0 = Dist==0.\n",
    "    Dist[mask0] = np.inf \n",
    "    battle_indices = np.argwhere(Dist<=175)\n",
    "    return battle_indices\n",
    "#def battle(list_of_pairs):\n",
    "    \n",
    "#def ():\n",
    " #   pass"
   ]
  },
  {
   "cell_type": "code",
   "execution_count": 208,
   "id": "printable-night",
   "metadata": {},
   "outputs": [
    {
     "data": {
      "text/plain": [
       "200.0"
      ]
     },
     "execution_count": 208,
     "metadata": {},
     "output_type": "execute_result"
    }
   ],
   "source": [
    "Start = np.array([3600, -2000])\n",
    "Start_all = np.repeat(Start[:,np.newaxis], Nexp, axis=1).T\n",
    "ast.sample_spherical_uniform(1, 2).T*200"
   ]
  },
  {
   "cell_type": "code",
   "execution_count": 174,
   "id": "painted-setup",
   "metadata": {},
   "outputs": [
    {
     "data": {
      "text/plain": [
       "(2, 1)"
      ]
     },
     "execution_count": 174,
     "metadata": {},
     "output_type": "execute_result"
    }
   ],
   "source": [
    "ast.sample_spherical_uniform(1, 2).shape"
   ]
  },
  {
   "cell_type": "code",
   "execution_count": 205,
   "id": "renewable-ceramic",
   "metadata": {},
   "outputs": [
    {
     "data": {
      "text/plain": [
       "array([0, 0])"
      ]
     },
     "execution_count": 205,
     "metadata": {},
     "output_type": "execute_result"
    }
   ],
   "source": [
    "Start_all[0,:]"
   ]
  },
  {
   "cell_type": "code",
   "execution_count": null,
   "id": "nonprofit-validation",
   "metadata": {},
   "outputs": [],
   "source": [
    "Nexp = 2\n",
    "Start = np.array([3600, -2000])\n",
    "Start_all = np.repeat(Start[:,np.newaxis], Nexp, axis=1).T\n",
    "Distance_travelled = np.zeros(Nexp)\n",
    "Dist_from_origin = np.zeros(Nexp)\n",
    "for i in range(Nexp):\n",
    "    while (Dist_from_origin[i]<R) and (Distance_travelled[i]<10000):\n",
    "        Start_all[i,:] = Start_all[i,:] + ast.sample_spherical_uniform(1, 2).T\n",
    "        Dist_from_origin[i] = np.linalg.norm(Start_all[i,:])\n",
    "        Distance_travelled[i] += 1. "
   ]
  },
  {
   "cell_type": "code",
   "execution_count": 204,
   "id": "exceptional-commission",
   "metadata": {},
   "outputs": [],
   "source": [
    "Nexp = 2\n",
    "Ndays = 200\n",
    "Start = np.array([3600, -2000])\n",
    "Start_all = np.repeat(Start[:,np.newaxis], Nexp, axis=1).T\n",
    "Distance_travelled = np.zeros(Nexp)\n",
    "Dist_from_origin = np.zeros(Nexp) \n",
    "def run_exp(Start_all):\n",
    "    Distance_travelled = np.zeros(Nexp)\n",
    "    X = Start_all\n",
    "    for i in range(Ndays):\n",
    "        X = update_coordinates(X)\n",
    "        Dist_from_origin = np.linalg.norm(X, axis = 1)\n",
    "        mask_edge = Dist_from_origin>=R\n",
    "        Distance_travelled[mask_edge] = float(i)\n",
    "        X[mask_edge,:] = 0\n",
    "    return Distance_travelled, X"
   ]
  },
  {
   "cell_type": "markdown",
   "id": "verified-attitude",
   "metadata": {},
   "source": [
    "## Problem 3b {-} "
   ]
  },
  {
   "cell_type": "code",
   "execution_count": 137,
   "id": "remarkable-student",
   "metadata": {},
   "outputs": [],
   "source": [
    "url = \"https://www.nbi.dk/~koskinen/Teaching/AdvancedMethodsInAppliedStatistics2021/data/Exam_2021_Prob3_CrabStartPositions.txt\"\n",
    "X0 = np.loadtxt(url , skiprows = 0)*1e3"
   ]
  },
  {
   "cell_type": "markdown",
   "id": "gorgeous-essay",
   "metadata": {},
   "source": [
    "# Problem 4 {-} "
   ]
  },
  {
   "cell_type": "code",
   "execution_count": 330,
   "id": "printable-campaign",
   "metadata": {},
   "outputs": [],
   "source": [
    "Ndays = 500\n",
    "Asold = 5\n",
    "lam_lost = 23\n",
    "mu_A = 240\n",
    "sig_A = 10\n",
    "Nhours = 10\n",
    "Trading_time = []#np.empty(Ndays)\n",
    "A = np.zeros((Ndays, Nhours))\n",
    "#simulating is one choice, maybe better to look at the pdfs\n",
    "for i in range(Ndays):\n",
    "    A0 = 412\n",
    "    for j in range(Nhours):\n",
    "        A[i,j] = A0\n",
    "        p_exch = stats.norm.pdf(A0, loc = mu_A, scale = sig_A)\n",
    "        if p_exch>np.random.uniform():\n",
    "            Trading_time.append(j)\n",
    "            break\n",
    "        A0 -= (stats.poisson.rvs(lam_lost)+Asold)\n",
    "Trading_time = np.array(Trading_time)"
   ]
  },
  {
   "cell_type": "code",
   "execution_count": 336,
   "id": "independent-robinson",
   "metadata": {},
   "outputs": [
    {
     "name": "stderr",
     "output_type": "stream",
     "text": [
      "D:\\Programme\\Anaconda\\envs\\tfCPU\\lib\\site-packages\\ipykernel_launcher.py:6: UserWarning: FixedFormatter should only be used together with FixedLocator\n",
      "  \n"
     ]
    },
    {
     "data": {
      "image/png": "[encoded data removed]",
      "text/plain": [
       "<Figure size 1008x360 with 1 Axes>"
      ]
     },
     "execution_count": 336,
     "metadata": {},
     "output_type": "execute_result"
    }
   ],
   "source": [
    "bins = np.arange(-.5,Trading_time.max()+.5)#shift bins\n",
    "labels = ['8:00','9:00', '10:00', '11:00', '12:00', '13:00', \n",
    "          '14:00', '15:00', '16:00', '17:00','18:00']\n",
    "fd = vis.nice_histogram(np.array(Trading_time), bins, \n",
    "                        xlabel='Time [HH:MM]', figsize = (14,5))\n",
    "fd['ax'].set_xticklabels(labels)\n",
    "fd['ax'].set_xticks(np.arange(0,10))\n",
    "fd['fig']"
   ]
  },
  {
   "cell_type": "markdown",
   "id": "developed-woman",
   "metadata": {},
   "source": [
    "N pseudo-experiments were run, drawing random numbers from the poisson distribution to determine the amount of lost fish and trade with a probability described by the prior."
   ]
  },
  {
   "cell_type": "code",
   "execution_count": 377,
   "id": "sensitive-league",
   "metadata": {},
   "outputs": [],
   "source": [
    "#The probability for lossing N fish after t hours is given by:\n",
    "def p_loose(N_lost, t): return stats.poisson.pmf(N_lost, t*lam)\n",
    "def flikelihood_left(N_left, t): \n",
    "    N_sold = t*5\n",
    "    N_lost = 412 - N_left - N_sold\n",
    "    return p_loose(N_lost,t)\n",
    "def fprior_exch(N_left):\n",
    "    return stats.norm.pdf(N_left, 240, 10)\n",
    "def fposterior(N_left, t):\n",
    "    return flikelihood_left(N_left,t)*fprior_exch(N_left)"
   ]
  },
  {
   "cell_type": "code",
   "execution_count": 388,
   "id": "imported-survival",
   "metadata": {},
   "outputs": [],
   "source": [
    "hours = np.arange(10)\n",
    "fish_arr = np.arange(0,412)\n",
    "Posterior_landscape =[]\n",
    "for i in hours:\n",
    "    Posterior_landscape.append(fposterior(fish_arr, i))\n",
    "Posterior_landscape = np.array(Posterior_landscape)"
   ]
  },
  {
   "cell_type": "code",
   "execution_count": 411,
   "id": "objective-updating",
   "metadata": {},
   "outputs": [
    {
     "data": {
      "text/plain": [
       "array([0.00000000e+00, 6.56974093e-36, 1.26466603e-20, 1.47661251e-11,\n",
       "       3.55865849e-06, 2.57114823e-03, 2.48863391e-02, 8.25227680e-03,\n",
       "       1.76926605e-04, 3.85958585e-07])"
      ]
     },
     "execution_count": 411,
     "metadata": {},
     "output_type": "execute_result"
    }
   ],
   "source": [
    "np.sum(Posterior_landscape.T, axis = 0)"
   ]
  },
  {
   "cell_type": "code",
   "execution_count": 418,
   "id": "identical-camcorder",
   "metadata": {},
   "outputs": [
    {
     "data": {
      "image/png": "[encoded data removed]",
      "text/plain": [
       "<Figure size 576x432 with 2 Axes>"
      ]
     },
     "metadata": {},
     "output_type": "display_data"
    }
   ],
   "source": [
    "hh, ff = np.meshgrid(hours, fish_arr)\n",
    "fig, ax= plt.subplots(figsize = (8,6))\n",
    "im = ax.contourf(hh, ff, Posterior_landscape.T)\n",
    "ax.set_xlabel('Hours since 8:00')\n",
    "ax.set_ylabel('Fish Left')\n",
    "divider = make_axes_locatable(ax)\n",
    "cax0 = divider.append_axes(\"right\", size=\"5%\", pad=0.05)\n",
    "plt.colorbar(im, cax=cax0)\n",
    "fig.tight_layout()\n",
    "fig.savefig('Figs/P4a_posterior.png', dpi = 80)"
   ]
  },
  {
   "cell_type": "code",
   "execution_count": null,
   "id": "formed-methodology",
   "metadata": {},
   "outputs": [],
   "source": [
    "money0 = t0*6*5\n",
    "money1 = (T-t0)*10*3\n",
    "B_left = 120-\n",
    "money2 = B_left*4\n",
    "Money = money0 + money1 + money2"
   ]
  },
  {
   "cell_type": "code",
   "execution_count": null,
   "id": "visible-johnston",
   "metadata": {},
   "outputs": [],
   "source": [
    "t0 = money/6/5\n",
    "t0 = T-money1/10/3\n",
    "B_sold = (T-t0)*3\n",
    "B_lost = 120 - B_left - B_sold"
   ]
  },
  {
   "cell_type": "code",
   "execution_count": null,
   "id": "indirect-fraction",
   "metadata": {},
   "outputs": [],
   "source": [
    "def flikelihood_leftB(B_left, t0):\n",
    "    B_lost = 120-B_left-(T-t0)*3\n",
    "    return p_loose(B_lost, t1)"
   ]
  },
  {
   "cell_type": "markdown",
   "id": "square-stick",
   "metadata": {},
   "source": [
    "[Title](Figs/P4a_posterior.png)"
   ]
  },
  {
   "cell_type": "code",
   "execution_count": 420,
   "id": "physical-adams",
   "metadata": {},
   "outputs": [],
   "source": [
    "xaxis = np.arange(100,300)\n",
    "#vis.nice_plot(xaxis, , scatter=True)"
   ]
  },
  {
   "cell_type": "code",
   "execution_count": 355,
   "id": "looking-framework",
   "metadata": {},
   "outputs": [
    {
     "data": {
      "text/plain": [
       "0.05199803646987484"
      ]
     },
     "execution_count": 355,
     "metadata": {},
     "output_type": "execute_result"
    }
   ],
   "source": [
    "likelihood_left(389, 1)"
   ]
  },
  {
   "cell_type": "markdown",
   "id": "unexpected-transportation",
   "metadata": {},
   "source": [
    "# Problem 5 {-}"
   ]
  }
 ],
 "metadata": {
  "kernelspec": {
   "display_name": "Python 3",
   "language": "python",
   "name": "python3"
  },
  "language_info": {
   "codemirror_mode": {
    "name": "ipython",
    "version": 3
   },
   "file_extension": ".py",
   "mimetype": "text/x-python",
   "name": "python",
   "nbconvert_exporter": "python",
   "pygments_lexer": "ipython3",
   "version": "3.6.10"
  },
  "latex_envs": {
   "LaTeX_envs_menu_present": true,
   "autoclose": false,
   "autocomplete": true,
   "bibliofile": "biblio.bib",
   "cite_by": "apalike",
   "current_citInitial": 1,
   "eqLabelWithNumbers": true,
   "eqNumInitial": 1,
   "hotkeys": {
    "equation": "Ctrl-E",
    "itemize": "Ctrl-I"
   },
   "labels_anchors": false,
   "latex_user_defs": false,
   "report_style_numbering": false,
   "user_envs_cfg": false
  },
  "toc": {
   "base_numbering": 1,
   "nav_menu": {},
   "number_sections": true,
   "sideBar": true,
   "skip_h1_title": false,
   "title_cell": "Table of Contents",
   "title_sidebar": "Contents",
   "toc_cell": false,
   "toc_position": {},
   "toc_section_display": true,
   "toc_window_display": false
  },
  "toc-autonumbering": false,
  "toc-showcode": false,
  "toc-showmarkdowntxt": false,
  "toc-showtags": false,
  "varInspector": {
   "cols": {
    "lenName": 16,
    "lenType": 16,
    "lenVar": 40
   },
   "kernels_config": {
    "python": {
     "delete_cmd_postfix": "",
     "delete_cmd_prefix": "del ",
     "library": "var_list.py",
     "varRefreshCmd": "print(var_dic_list())"
    },
    "r": {
     "delete_cmd_postfix": ") ",
     "delete_cmd_prefix": "rm(",
     "library": "var_list.r",
     "varRefreshCmd": "cat(var_dic_list()) "
    }
   },
   "types_to_exclude": [
    "module",
    "function",
    "builtin_function_or_method",
    "instance",
    "_Feature"
   ],
   "window_display": false
  }
 },
 "nbformat": 4,
 "nbformat_minor": 5
}
