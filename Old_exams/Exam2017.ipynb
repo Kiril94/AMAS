{
 "cells": [
  {
   "cell_type": "markdown",
   "id": "stupid-laundry",
   "metadata": {},
   "source": [
    "Author: Kiril Klein"
   ]
  },
  {
   "cell_type": "code",
   "execution_count": 2,
   "id": "confidential-treasury",
   "metadata": {},
   "outputs": [],
   "source": [
    "import sys\n",
    "sys.path.append('../')"
   ]
  },
  {
   "cell_type": "code",
   "execution_count": 12,
   "id": "recorded-illness",
   "metadata": {},
   "outputs": [],
   "source": [
    "import warnings\n",
    "warnings.filterwarnings(\"ignore\")"
   ]
  },
  {
   "cell_type": "code",
   "execution_count": 3,
   "id": "union-naples",
   "metadata": {},
   "outputs": [],
   "source": [
    "import numpy as np\n",
    "import pandas as pd\n",
    "import seaborn as sns\n",
    "import matplotlib.pyplot as plt\n",
    "import toolbox as tb\n",
    "from toolbox import fits, vis\n",
    "from toolbox import as_toolbox as ast\n",
    "from toolbox.vis import Color_palette as Color_p\n",
    "import urllib\n",
    "from scipy import stats\n",
    "from toolbox.ExternalFunctions import NLLH"
   ]
  },
  {
   "cell_type": "code",
   "execution_count": 4,
   "id": "studied-harvey",
   "metadata": {},
   "outputs": [],
   "source": [
    "import importlib\n",
    "_=importlib.reload(vis)"
   ]
  },
  {
   "cell_type": "markdown",
   "id": "difficult-leonard",
   "metadata": {},
   "source": [
    "# Problem 2 {.unnumbered}"
   ]
  },
  {
   "cell_type": "code",
   "execution_count": 13,
   "id": "cutting-intention",
   "metadata": {},
   "outputs": [
    {
     "data": {
      "text/html": [
       "<div>\n",
       "<style scoped>\n",
       "    .dataframe tbody tr th:only-of-type {\n",
       "        vertical-align: middle;\n",
       "    }\n",
       "\n",
       "    .dataframe tbody tr th {\n",
       "        vertical-align: top;\n",
       "    }\n",
       "\n",
       "    .dataframe thead th {\n",
       "        text-align: right;\n",
       "    }\n",
       "</style>\n",
       "<table border=\"1\" class=\"dataframe\">\n",
       "  <thead>\n",
       "    <tr style=\"text-align: right;\">\n",
       "      <th></th>\n",
       "      <th>log(gamma)</th>\n",
       "      <th>sig(log(gamma))</th>\n",
       "      <th>pHT</th>\n",
       "      <th>sig(pHT)</th>\n",
       "    </tr>\n",
       "  </thead>\n",
       "  <tbody>\n",
       "    <tr>\n",
       "      <th>0</th>\n",
       "      <td>1.05</td>\n",
       "      <td>0.0</td>\n",
       "      <td>0.052</td>\n",
       "      <td>0.006</td>\n",
       "    </tr>\n",
       "    <tr>\n",
       "      <th>1</th>\n",
       "      <td>1.10</td>\n",
       "      <td>0.0</td>\n",
       "      <td>0.047</td>\n",
       "      <td>0.009</td>\n",
       "    </tr>\n",
       "    <tr>\n",
       "      <th>2</th>\n",
       "      <td>1.15</td>\n",
       "      <td>0.0</td>\n",
       "      <td>0.059</td>\n",
       "      <td>0.010</td>\n",
       "    </tr>\n",
       "  </tbody>\n",
       "</table>\n",
       "</div>"
      ],
      "text/plain": [
       "   log(gamma)  sig(log(gamma))    pHT  sig(pHT)\n",
       "0        1.05              0.0  0.052     0.006\n",
       "1        1.10              0.0  0.047     0.009\n",
       "2        1.15              0.0  0.059     0.010"
      ]
     },
     "execution_count": 13,
     "metadata": {},
     "output_type": "execute_result"
    }
   ],
   "source": [
    "Data = pd.read_csv(\n",
    "    \"https://www.nbi.dk/~koskinen/Teaching/AdvancedMethodsInAppliedStatistics2017/data/data_exam_prob2.txt\",\n",
    "    sep=r\"\\s*\", header = 0, engine='python')\n",
    "Data.head(3)"
   ]
  },
  {
   "cell_type": "code",
   "execution_count": 22,
   "id": "political-marina",
   "metadata": {},
   "outputs": [],
   "source": [
    "#We choose a p-value of 0.01"
   ]
  },
  {
   "cell_type": "code",
   "execution_count": 64,
   "id": "charitable-string",
   "metadata": {},
   "outputs": [
    {
     "data": {
      "image/png": "[encoded data removed]",
      "text/plain": [
       "<Figure size 720x360 with 1 Axes>"
      ]
     },
     "metadata": {},
     "output_type": "display_data"
    }
   ],
   "source": [
    "loggamma = Data.iloc[:,0]\n",
    "pht = Data.iloc[:,2]\n",
    "spht = Data.iloc[:,3]\n",
    "fig, ax = vis.nice_plot(loggamma, pht, spht, errorbar=True)"
   ]
  },
  {
   "cell_type": "markdown",
   "id": "weighted-malpractice",
   "metadata": {},
   "source": [
    "We choose an $\\alpha$ of 0.05 as a threshold, i.e. if the p-value is smaller, the hypothesis is rejected."
   ]
  },
  {
   "cell_type": "code",
   "execution_count": 70,
   "id": "elder-panama",
   "metadata": {},
   "outputs": [
    {
     "name": "stdout",
     "output_type": "stream",
     "text": [
      "pvalue = 0.3815  loggamma max = 2.300 \n",
      "pvalue = 0.3633  loggamma max = 2.350 \n",
      "pvalue = 0.2484  loggamma max = 2.400 \n",
      "pvalue = 0.2446  loggamma max = 2.450 \n",
      "pvalue = 0.0679  loggamma max = 2.500 \n",
      "pvalue = 0.0142  loggamma max = 2.550 \n",
      "pvalue = 0.0121  loggamma max = 2.600 \n",
      "pvalue = 0.0001  loggamma max = 2.650 \n"
     ]
    }
   ],
   "source": [
    "indices = np.arange(26,34)\n",
    "def const_func(x,a): return np.ones_like(x)*a\n",
    "P = []\n",
    "for i, ind in enumerate(indices):\n",
    "    x, y, sy = loggamma[:ind], pht[:ind], spht[:ind]\n",
    "    fig, ax,fdict = fits.chi2_fit_func(x, y, sy, const_func, np.array([0.05]),\n",
    "                                            kwargs = {'figsize':(12,10), 'show_plot':False})\n",
    "    P.append(fdict['pval'])\n",
    "    print(f\"pvalue = {fdict['pval']:3.4f}\", f\" loggamma max = {loggamma[ind-1]:3.3f} \")"
   ]
  },
  {
   "cell_type": "markdown",
   "id": "deluxe-executive",
   "metadata": {},
   "source": [
    "The hypothesis of a constant function holds for a $\\log(gamma)\\leq2.5$"
   ]
  }
 ],
 "metadata": {
  "kernelspec": {
   "display_name": "Python 3",
   "language": "python",
   "name": "python3"
  },
  "language_info": {
   "codemirror_mode": {
    "name": "ipython",
    "version": 3
   },
   "file_extension": ".py",
   "mimetype": "text/x-python",
   "name": "python",
   "nbconvert_exporter": "python",
   "pygments_lexer": "ipython3",
   "version": "3.6.10"
  },
  "latex_envs": {
   "LaTeX_envs_menu_present": true,
   "autoclose": false,
   "autocomplete": true,
   "bibliofile": "biblio.bib",
   "cite_by": "apalike",
   "current_citInitial": 1,
   "eqLabelWithNumbers": true,
   "eqNumInitial": 1,
   "hotkeys": {
    "equation": "Ctrl-E",
    "itemize": "Ctrl-I"
   },
   "labels_anchors": false,
   "latex_user_defs": false,
   "report_style_numbering": false,
   "user_envs_cfg": false
  },
  "toc": {
   "base_numbering": 1,
   "nav_menu": {},
   "number_sections": true,
   "sideBar": true,
   "skip_h1_title": false,
   "title_cell": "Table of Contents",
   "title_sidebar": "Contents",
   "toc_cell": false,
   "toc_position": {},
   "toc_section_display": true,
   "toc_window_display": false
  },
  "toc-autonumbering": false,
  "toc-showcode": false,
  "toc-showmarkdowntxt": false,
  "toc-showtags": false,
  "varInspector": {
   "cols": {
    "lenName": 16,
    "lenType": 16,
    "lenVar": 40
   },
   "kernels_config": {
    "python": {
     "delete_cmd_postfix": "",
     "delete_cmd_prefix": "del ",
     "library": "var_list.py",
     "varRefreshCmd": "print(var_dic_list())"
    },
    "r": {
     "delete_cmd_postfix": ") ",
     "delete_cmd_prefix": "rm(",
     "library": "var_list.r",
     "varRefreshCmd": "cat(var_dic_list()) "
    }
   },
   "types_to_exclude": [
    "module",
    "function",
    "builtin_function_or_method",
    "instance",
    "_Feature"
   ],
   "window_display": false
  }
 },
 "nbformat": 4,
 "nbformat_minor": 5
}
