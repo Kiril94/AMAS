{
 "cells": [
  {
   "cell_type": "code",
   "execution_count": 5,
   "metadata": {},
   "outputs": [],
   "source": [
    "import sys\n",
    "sys.path.insert(1, 'D:\\Master\\Blok3\\AAS') #add path of toolbox"
   ]
  },
  {
   "cell_type": "markdown",
   "metadata": {},
   "source": [
    "# MLE and errors"
   ]
  },
  {
   "cell_type": "code",
   "execution_count": 28,
   "metadata": {},
   "outputs": [],
   "source": [
    "import numpy as np\n",
    "from scipy import integrate, stats, interpolate\n",
    "from toolbox import vis, fits\n",
    "from toolbox import as_toolbox as ast\n",
    "import urllib\n",
    "import matplotlib.pyplot as plt\n",
    "import importlib as il\n",
    "from iminuit import Minuit\n",
    "import toolbox\n",
    "from scipy import optimize\n",
    "from toolbox.ExternalFunctions import UnbinnedLH\n",
    "import importlib"
   ]
  },
  {
   "cell_type": "markdown",
   "metadata": {},
   "source": [
    "# Ex. 3 from previous lecture "
   ]
  },
  {
   "cell_type": "code",
   "execution_count": 36,
   "metadata": {},
   "outputs": [],
   "source": [
    "f = urllib.request.urlopen(\n",
    "    'https://www.nbi.dk/~koskinen/Teaching/AdvancedMethodsInAppliedStatistics2021/data/MLE_Variance_data.txt')\n",
    "data = np.loadtxt(f)\n",
    "data0 = data[:,0]\n",
    "data1 = data[:,1]"
   ]
  },
  {
   "cell_type": "code",
   "execution_count": 58,
   "metadata": {},
   "outputs": [],
   "source": [
    "xmin, xmax = -1, 1\n",
    "def func_pdf(x, alpha, beta, N): \n",
    "    return N*(1 + alpha*x + beta*x**2)/(xmax + 1/2*alpha*xmax**2 \n",
    "                                      + 1/3*beta*xmax**3 \n",
    "                                      - xmin - 1/2*alpha*xmin**2 \n",
    "                                      - 1/3*beta*xmin**3)"
   ]
  },
  {
   "cell_type": "markdown",
   "metadata": {},
   "source": [
    "## unbinned log likelihood"
   ]
  },
  {
   "cell_type": "code",
   "execution_count": 59,
   "metadata": {},
   "outputs": [
    {
     "name": "stdout",
     "output_type": "stream",
     "text": [
      "┌──────────────────────────────────┬──────────────────────────────────────┐\n",
      "│ FCN = -1.074e+04                 │        Nfcn = 552 (552 total)        │\n",
      "│ EDM = 627 (Goal: 0.0001)         │                                      │\n",
      "├───────────────┬──────────────────┼──────────────────────────────────────┤\n",
      "│INVALID Minimum│ Valid Parameters │        No Parameters at limit        │\n",
      "├───────────────┴──────────────────┼──────────────────────────────────────┤\n",
      "│ Below EDM threshold (goal x 10)  │           ABOVE call limit           │\n",
      "├───────────────┬──────────────────┼───────────┬─────────────┬────────────┤\n",
      "│   Hesse ok    │  Has Covariance  │APPROXIMATE│  Pos. def.  │ Not forced │\n",
      "└───────────────┴──────────────────┴───────────┴─────────────┴────────────┘\n"
     ]
    }
   ],
   "source": [
    "#perform the fit using unbinned log likelihood\n",
    "ullh_f = UnbinnedLH(func_pdf, data[:,0])\n",
    "f_minuit = Minuit(ullh_f,  pedantic=False, print_level=1)\n",
    "f_minuit.migrad();       # This is where the minimisation is carried out!\n",
    "alpha_fit, beta_fit = f_minuit.args[:2]\n",
    "sig_alpha, sig_beta = f_minuit.errors['alpha'], f_minuit.errors['beta'] "
   ]
  },
  {
   "cell_type": "code",
   "execution_count": 60,
   "metadata": {},
   "outputs": [
    {
     "name": "stdout",
     "output_type": "stream",
     "text": [
      "┌──────────────────────────────────┬──────────────────────────────────────┐\n",
      "│ FCN = 61.23                      │         Nfcn = 86 (86 total)         │\n",
      "│ EDM = 4.68e-06 (Goal: 0.0002)    │                                      │\n",
      "├───────────────┬──────────────────┼──────────────────────────────────────┤\n",
      "│ Valid Minimum │ Valid Parameters │        No Parameters at limit        │\n",
      "├───────────────┴──────────────────┼──────────────────────────────────────┤\n",
      "│ Below EDM threshold (goal x 10)  │           Below call limit           │\n",
      "├───────────────┬──────────────────┼───────────┬─────────────┬────────────┤\n",
      "│   Hesse ok    │  Has Covariance  │ Accurate  │  Pos. def.  │ Not forced │\n",
      "└───────────────┴──────────────────┴───────────┴─────────────┴────────────┘\n"
     ]
    }
   ],
   "source": [
    "minuit_obj, x, y, sy = fits.hist_fit(func_pdf, data0, (0,0), 40)"
   ]
  },
  {
   "cell_type": "code",
   "execution_count": 61,
   "metadata": {},
   "outputs": [
    {
     "data": {
      "image/png": "[encoded data removed]",
      "text/plain": [
       "<Figure size 720x360 with 1 Axes>"
      ]
     },
     "execution_count": 61,
     "metadata": {},
     "output_type": "execute_result"
    }
   ],
   "source": [
    "alpha_fit, beta_fit, N_fit = minuit_obj.values['alpha'], minuit_obj.values['beta'], minuit_obj.values['N']\n",
    "x_axis = np.linspace(-1,1,200)\n",
    "ax, fig = vis.nice_plot(x,y, SY = sy, errorbar=True, show_plot=False)\n",
    "ax, fig = vis.nice_plot(x_axis , func_pdf(x_axis, alpha_fit, beta_fit, N_fit),figure = fig, axis =ax)\n",
    "fig"
   ]
  },
  {
   "cell_type": "code",
   "execution_count": 63,
   "metadata": {},
   "outputs": [
    {
     "data": {
      "text/plain": [
       "0.009854430289434403"
      ]
     },
     "execution_count": 63,
     "metadata": {},
     "output_type": "execute_result"
    }
   ],
   "source": [
    "chi2 = minuit_obj.fval\n",
    "stats.chi2.sf(chi2, df = len(x)-2 )"
   ]
  },
  {
   "cell_type": "markdown",
   "metadata": {},
   "source": [
    "# Ex 1 Compue LLH ratio "
   ]
  },
  {
   "cell_type": "code",
   "execution_count": 74,
   "metadata": {},
   "outputs": [],
   "source": [
    "def pdf0(x, alpha, beta, N): \n",
    "    return N*(1 + alpha*x + beta*x**2)/(xmax + 1/2*alpha*xmax**2 \n",
    "                                      + 1/3*beta*xmax**3 \n",
    "                                      - xmin - 1/2*alpha*xmin**2 \n",
    "                                      - 1/3*beta*xmin**3)\n",
    "def pdfA(x, alpha, beta,gamma, N):\n",
    "    return N*(1 + alpha*x + beta*x**2 - gamma*x**5)/(xmax + 1/2*alpha*xmax**2 \n",
    "                                      + 1/3*beta*xmax**3 - 1/6*gamma*xmax**6\n",
    "                                      - xmin - 1/2*alpha*xmin**2 \n",
    "                                      - 1/3*beta*xmin**3 + 1/6*gamma*xmax**6)"
   ]
  },
  {
   "cell_type": "code",
   "execution_count": 64,
   "metadata": {},
   "outputs": [],
   "source": [
    "f = urllib.request.urlopen(\n",
    "    'https://www.nbi.dk/~koskinen/Teaching/AdvancedMethodsInAppliedStatistics2021/data/LLH_Ratio_2_data.txt')\n",
    "data = np.loadtxt(f)\n",
    "data0 = data[:,0]\n",
    "data1 = data[:,1]"
   ]
  },
  {
   "cell_type": "code",
   "execution_count": 73,
   "metadata": {},
   "outputs": [
    {
     "data": {
      "image/png": "[encoded data removed]",
      "text/plain": [
       "<Figure size 864x432 with 1 Axes>"
      ]
     },
     "execution_count": 73,
     "metadata": {},
     "output_type": "execute_result"
    }
   ],
   "source": [
    "\n",
    "x, y, binwidth, fig, ax = vis.nice_histogram(data0, 50, show_plot=False)\n",
    "#x, y, binwidth, fig, ax = vis.nice_histogram(data1, 50, show_plot=False,axis = ax, figure=fig)\n",
    "fig"
   ]
  },
  {
   "cell_type": "code",
   "execution_count": 77,
   "metadata": {},
   "outputs": [],
   "source": [
    "ast.UNLLH"
   ]
  },
  {
   "cell_type": "code",
   "execution_count": 92,
   "metadata": {},
   "outputs": [
    {
     "name": "stdout",
     "output_type": "stream",
     "text": [
      "┌──────────────────────────────────┬──────────────────────────────────────┐\n",
      "│ FCN = -1.846e+05                 │         Nfcn = 51 (51 total)         │\n",
      "│ EDM = 5.72e-06 (Goal: 0.0002)    │                                      │\n",
      "├───────────────┬──────────────────┼──────────────────────────────────────┤\n",
      "│ Valid Minimum │ Valid Parameters │        No Parameters at limit        │\n",
      "├───────────────┴──────────────────┼──────────────────────────────────────┤\n",
      "│ Below EDM threshold (goal x 10)  │           Below call limit           │\n",
      "├───────────────┬──────────────────┼───────────┬─────────────┬────────────┤\n",
      "│   Hesse ok    │  Has Covariance  │ Accurate  │  Pos. def.  │ Not forced │\n",
      "└───────────────┴──────────────────┴───────────┴─────────────┴────────────┘\n"
     ]
    }
   ],
   "source": [
    "ullh_0 = ast.UNLLH(pdf0, data0)\n",
    "f_minuit = Minuit(ullh_0,  pedantic=False, N = len(data0), print_level=1, fix_N = True)\n",
    "f_minuit.migrad();       # This is where the minimisation is carried out!\n",
    "alpha_fit, beta_fit, N_fit = f_minuit.args\n",
    "sig_alpha, sig_beta = f_minuit.errors['alpha'], f_minuit.errors['beta'] \n",
    "UL0 = -ullh_0(alpha_fit, beta_fit, N_fit)"
   ]
  },
  {
   "cell_type": "code",
   "execution_count": 94,
   "metadata": {},
   "outputs": [
    {
     "name": "stdout",
     "output_type": "stream",
     "text": [
      "┌──────────────────────────────────┬──────────────────────────────────────┐\n",
      "│ FCN = -1.846e+05                 │         Nfcn = 95 (95 total)         │\n",
      "│ EDM = 4.39e-07 (Goal: 0.0002)    │                                      │\n",
      "├───────────────┬──────────────────┼──────────────────────────────────────┤\n",
      "│ Valid Minimum │ Valid Parameters │        No Parameters at limit        │\n",
      "├───────────────┴──────────────────┼──────────────────────────────────────┤\n",
      "│ Below EDM threshold (goal x 10)  │           Below call limit           │\n",
      "├───────────────┬──────────────────┼───────────┬─────────────┬────────────┤\n",
      "│   Hesse ok    │  Has Covariance  │ Accurate  │  Pos. def.  │ Not forced │\n",
      "└───────────────┴──────────────────┴───────────┴─────────────┴────────────┘\n"
     ]
    }
   ],
   "source": [
    "ullh_A = ast.UNLLH(pdfA, data0)\n",
    "f_minuit = Minuit(ullh_A,  pedantic=False, N = len(data0), print_level=1, fix_N = True)\n",
    "f_minuit.migrad();       # This is where the minimisation is carried out!\n",
    "alpha_fit, beta_fit, gamma_fit, N_fit = f_minuit.args\n",
    "sig_alpha, sig_beta = f_minuit.errors['alpha'], f_minuit.errors['beta'] \n",
    "ULalt = -ullh_A(alpha_fit, beta_fit, gamma_fit, N_fit)"
   ]
  },
  {
   "cell_type": "code",
   "execution_count": 102,
   "metadata": {},
   "outputs": [
    {
     "data": {
      "text/plain": [
       "0.22561698111206713"
      ]
     },
     "execution_count": 102,
     "metadata": {},
     "output_type": "execute_result"
    }
   ],
   "source": [
    "DLLH = -2*(UL0-ULalt)\n",
    "p_value = stats.chi2.sf(DLLH, 1)\n",
    "p_value#right"
   ]
  }
 ],
 "metadata": {
  "kernelspec": {
   "display_name": "Python 3",
   "language": "python",
   "name": "python3"
  },
  "language_info": {
   "codemirror_mode": {
    "name": "ipython",
    "version": 3
   },
   "file_extension": ".py",
   "mimetype": "text/x-python",
   "name": "python",
   "nbconvert_exporter": "python",
   "pygments_lexer": "ipython3",
   "version": "3.6.10"
  },
  "latex_envs": {
   "LaTeX_envs_menu_present": true,
   "autoclose": false,
   "autocomplete": true,
   "bibliofile": "biblio.bib",
   "cite_by": "apalike",
   "current_citInitial": 1,
   "eqLabelWithNumbers": true,
   "eqNumInitial": 1,
   "hotkeys": {
    "equation": "Ctrl-E",
    "itemize": "Ctrl-I"
   },
   "labels_anchors": false,
   "latex_user_defs": false,
   "report_style_numbering": false,
   "user_envs_cfg": false
  },
  "toc": {
   "base_numbering": 1,
   "nav_menu": {},
   "number_sections": true,
   "sideBar": true,
   "skip_h1_title": false,
   "title_cell": "Table of Contents",
   "title_sidebar": "Contents",
   "toc_cell": false,
   "toc_position": {},
   "toc_section_display": true,
   "toc_window_display": false
  },
  "varInspector": {
   "cols": {
    "lenName": 16,
    "lenType": 16,
    "lenVar": 40
   },
   "kernels_config": {
    "python": {
     "delete_cmd_postfix": "",
     "delete_cmd_prefix": "del ",
     "library": "var_list.py",
     "varRefreshCmd": "print(var_dic_list())"
    },
    "r": {
     "delete_cmd_postfix": ") ",
     "delete_cmd_prefix": "rm(",
     "library": "var_list.r",
     "varRefreshCmd": "cat(var_dic_list()) "
    }
   },
   "types_to_exclude": [
    "module",
    "function",
    "builtin_function_or_method",
    "instance",
    "_Feature"
   ],
   "window_display": false
  }
 },
 "nbformat": 4,
 "nbformat_minor": 4
}
