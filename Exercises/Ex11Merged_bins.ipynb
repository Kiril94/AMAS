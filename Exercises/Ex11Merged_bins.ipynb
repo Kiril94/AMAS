{
 "cells": [
  {
   "cell_type": "code",
   "execution_count": 21,
   "id": "hazardous-armenia",
   "metadata": {},
   "outputs": [],
   "source": [
    "import numpy as np\n",
    "import matplotlib.pyplot as plt\n",
    "from scipy import stats"
   ]
  },
  {
   "cell_type": "markdown",
   "id": "unauthorized-consequence",
   "metadata": {},
   "source": [
    "# Ex 1 "
   ]
  },
  {
   "cell_type": "code",
   "execution_count": 20,
   "id": "alpha-treasury",
   "metadata": {},
   "outputs": [
    {
     "data": {
      "image/png": "[encoded data removed]",
      "text/plain": [
       "<Figure size 432x288 with 3 Axes>"
      ]
     },
     "metadata": {
      "needs_background": "light"
     },
     "output_type": "display_data"
    }
   ],
   "source": [
    "Exp = np.array([[99,99,99], [99,100,99],[98,100,99]])\n",
    "Obs = np.array([[102,90,101], [97,103,92],[83,111,96]])\n",
    "Pull = (Exp-Obs)/np.sqrt(Exp)\n",
    "fig, ax = plt.subplots(1,2)\n",
    "cb = ax[0].imshow(Pull)\n",
    "fig.colorbar(cb, ax = ax[0], shrink = .8)\n",
    "pull1d = Pull.flatten()\n",
    "_=ax[1].hist(pull1d, 5)"
   ]
  },
  {
   "cell_type": "markdown",
   "id": "instant-envelope",
   "metadata": {},
   "source": [
    "## Extra "
   ]
  },
  {
   "cell_type": "code",
   "execution_count": 37,
   "id": "diagnostic-comparative",
   "metadata": {},
   "outputs": [
    {
     "data": {
      "image/png": "[encoded data removed]",
      "text/plain": [
       "<Figure size 864x216 with 6 Axes>"
      ]
     },
     "metadata": {
      "needs_background": "light"
     },
     "output_type": "display_data"
    }
   ],
   "source": [
    "num_exp = 6\n",
    "fig,ax= plt.subplots(1, num_exp, figsize = (12,3))\n",
    "for i in range(num_exp):\n",
    "    obs = stats.poisson.rvs(mu = Exp, size = (Exp.shape))\n",
    "    Pull = (Exp-obs)/np.sqrt(Exp)\n",
    "    pull1d = Pull.flatten()\n",
    "    ax[i].hist(pull1d, 5,histtype = 'step')"
   ]
  },
  {
   "cell_type": "markdown",
   "id": "emerging-pathology",
   "metadata": {},
   "source": [
    "# Ex 2 "
   ]
  },
  {
   "cell_type": "code",
   "execution_count": 39,
   "id": "purple-division",
   "metadata": {},
   "outputs": [],
   "source": [
    "Exp = np.array([100, 150, 200, 200, 200, 175, 150, 125])\n",
    "Obs = np.array([75, 162, 179, 160, 225, 215, 193, 117])\n",
    "def f_pull(e, o): return (e-o)/np.sqrt(e)"
   ]
  },
  {
   "cell_type": "code",
   "execution_count": 63,
   "id": "accessible-influence",
   "metadata": {},
   "outputs": [],
   "source": [
    "emerge2 = (Exp+np.roll(Exp,1))[1::2]\n",
    "omerge2 = (Obs+np.roll(Obs,1))[1::2]\n",
    "emerge3 = np.array([450, 575, 275])\n",
    "emerge4 = np.array([650, 650])\n",
    "omerge3 = np.array([Obs[:3].sum(), Obs[3:6].sum(), Obs[6:].sum()])\n",
    "omerge4 = np.array([Obs[:4].sum(), Obs[4:].sum()])"
   ]
  },
  {
   "cell_type": "code",
   "execution_count": 50,
   "id": "gothic-central",
   "metadata": {},
   "outputs": [
    {
     "data": {
      "text/plain": [
       "(-0.5, 7.5, 0.5, -0.5)"
      ]
     },
     "execution_count": 50,
     "metadata": {},
     "output_type": "execute_result"
    },
    {
     "data": {
      "image/png": "[encoded data removed]",
      "text/plain": [
       "<Figure size 432x288 with 1 Axes>"
      ]
     },
     "metadata": {
      "needs_background": "light"
     },
     "output_type": "display_data"
    }
   ],
   "source": [
    "first_pull = np.expand_dims(f_pull(Exp, Obs), 1)\n",
    "fig,ax= plt.subplots()\n",
    "ax.imshow(first_pull.T)\n",
    "\n",
    "for (i,j),label in np.ndenumerate(first_pull):\n",
    "    ax.text(i,j,round(label,3),ha='center',va='center')\n",
    "ax.axis('off')"
   ]
  }
 ],
 "metadata": {
  "kernelspec": {
   "display_name": "Python 3",
   "language": "python",
   "name": "python3"
  },
  "language_info": {
   "codemirror_mode": {
    "name": "ipython",
    "version": 3
   },
   "file_extension": ".py",
   "mimetype": "text/x-python",
   "name": "python",
   "nbconvert_exporter": "python",
   "pygments_lexer": "ipython3",
   "version": "3.6.10"
  },
  "latex_envs": {
   "LaTeX_envs_menu_present": true,
   "autoclose": false,
   "autocomplete": true,
   "bibliofile": "biblio.bib",
   "cite_by": "apalike",
   "current_citInitial": 1,
   "eqLabelWithNumbers": true,
   "eqNumInitial": 1,
   "hotkeys": {
    "equation": "Ctrl-E",
    "itemize": "Ctrl-I"
   },
   "labels_anchors": false,
   "latex_user_defs": false,
   "report_style_numbering": false,
   "user_envs_cfg": false
  },
  "toc": {
   "base_numbering": 1,
   "nav_menu": {},
   "number_sections": true,
   "sideBar": true,
   "skip_h1_title": false,
   "title_cell": "Table of Contents",
   "title_sidebar": "Contents",
   "toc_cell": false,
   "toc_position": {},
   "toc_section_display": true,
   "toc_window_display": false
  },
  "varInspector": {
   "cols": {
    "lenName": 16,
    "lenType": 16,
    "lenVar": 40
   },
   "kernels_config": {
    "python": {
     "delete_cmd_postfix": "",
     "delete_cmd_prefix": "del ",
     "library": "var_list.py",
     "varRefreshCmd": "print(var_dic_list())"
    },
    "r": {
     "delete_cmd_postfix": ") ",
     "delete_cmd_prefix": "rm(",
     "library": "var_list.r",
     "varRefreshCmd": "cat(var_dic_list()) "
    }
   },
   "types_to_exclude": [
    "module",
    "function",
    "builtin_function_or_method",
    "instance",
    "_Feature"
   ],
   "window_display": false
  }
 },
 "nbformat": 4,
 "nbformat_minor": 5
}
