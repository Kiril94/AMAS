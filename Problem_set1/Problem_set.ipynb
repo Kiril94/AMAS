{
 "cells": [
  {
   "cell_type": "code",
   "execution_count": 2,
   "id": "universal-linux",
   "metadata": {},
   "outputs": [],
   "source": [
    "import sys\n",
    "sys.path.insert(1, 'D:\\Master\\Blok3\\AAS') #add path of toolbox"
   ]
  },
  {
   "cell_type": "code",
   "execution_count": 3,
   "id": "curious-group",
   "metadata": {},
   "outputs": [],
   "source": [
    "import numpy as np\n",
    "import pandas as pd\n",
    "import matplotlib.pyplot as plt\n",
    "from matplotlib.ticker import MaxNLocator\n",
    "#custom modules\n",
    "from toolbox import vis"
   ]
  },
  {
   "cell_type": "markdown",
   "id": "insured-methodology",
   "metadata": {},
   "source": [
    "Load and look at the data"
   ]
  },
  {
   "cell_type": "code",
   "execution_count": 4,
   "id": "unknown-victorian",
   "metadata": {},
   "outputs": [
    {
     "data": {
      "text/html": [
       "<div>\n",
       "<style scoped>\n",
       "    .dataframe tbody tr th:only-of-type {\n",
       "        vertical-align: middle;\n",
       "    }\n",
       "\n",
       "    .dataframe tbody tr th {\n",
       "        vertical-align: top;\n",
       "    }\n",
       "\n",
       "    .dataframe thead th {\n",
       "        text-align: right;\n",
       "    }\n",
       "</style>\n",
       "<table border=\"1\" class=\"dataframe\">\n",
       "  <thead>\n",
       "    <tr style=\"text-align: right;\">\n",
       "      <th></th>\n",
       "      <th>Rk</th>\n",
       "      <th>Team</th>\n",
       "      <th>Conf</th>\n",
       "      <th>W-L</th>\n",
       "      <th>AdjEM</th>\n",
       "      <th>AdjO</th>\n",
       "      <th>Unnamed: 6</th>\n",
       "      <th>AdjD</th>\n",
       "      <th>Unnamed: 8</th>\n",
       "      <th>AdjT</th>\n",
       "      <th>...</th>\n",
       "      <th>Luck</th>\n",
       "      <th>Unnamed: 12</th>\n",
       "      <th>AdjEM.1</th>\n",
       "      <th>Unnamed: 14</th>\n",
       "      <th>OppO</th>\n",
       "      <th>Unnamed: 16</th>\n",
       "      <th>OppD</th>\n",
       "      <th>Unnamed: 18</th>\n",
       "      <th>AdjEM.2</th>\n",
       "      <th>Unnamed: 20</th>\n",
       "    </tr>\n",
       "  </thead>\n",
       "  <tbody>\n",
       "    <tr>\n",
       "      <th>0</th>\n",
       "      <td>1</td>\n",
       "      <td>Louisville 4</td>\n",
       "      <td>Amer</td>\n",
       "      <td>31-6</td>\n",
       "      <td>30.41</td>\n",
       "      <td>118.9</td>\n",
       "      <td>7</td>\n",
       "      <td>88.5</td>\n",
       "      <td>5</td>\n",
       "      <td>67.2</td>\n",
       "      <td>...</td>\n",
       "      <td>-0.045</td>\n",
       "      <td>278</td>\n",
       "      <td>4.31</td>\n",
       "      <td>95</td>\n",
       "      <td>107.0</td>\n",
       "      <td>100</td>\n",
       "      <td>102.7</td>\n",
       "      <td>93</td>\n",
       "      <td>-4.65</td>\n",
       "      <td>295</td>\n",
       "    </tr>\n",
       "    <tr>\n",
       "      <th>1</th>\n",
       "      <td>2</td>\n",
       "      <td>Arizona 1</td>\n",
       "      <td>P12</td>\n",
       "      <td>33-5</td>\n",
       "      <td>30.11</td>\n",
       "      <td>116.5</td>\n",
       "      <td>20</td>\n",
       "      <td>86.4</td>\n",
       "      <td>1</td>\n",
       "      <td>62.8</td>\n",
       "      <td>...</td>\n",
       "      <td>0.014</td>\n",
       "      <td>151</td>\n",
       "      <td>9.30</td>\n",
       "      <td>17</td>\n",
       "      <td>109.9</td>\n",
       "      <td>20</td>\n",
       "      <td>100.6</td>\n",
       "      <td>18</td>\n",
       "      <td>1.62</td>\n",
       "      <td>113</td>\n",
       "    </tr>\n",
       "    <tr>\n",
       "      <th>2</th>\n",
       "      <td>3</td>\n",
       "      <td>Florida 1</td>\n",
       "      <td>SEC</td>\n",
       "      <td>36-3</td>\n",
       "      <td>28.57</td>\n",
       "      <td>116.5</td>\n",
       "      <td>19</td>\n",
       "      <td>88.0</td>\n",
       "      <td>3</td>\n",
       "      <td>61.3</td>\n",
       "      <td>...</td>\n",
       "      <td>0.053</td>\n",
       "      <td>68</td>\n",
       "      <td>9.02</td>\n",
       "      <td>22</td>\n",
       "      <td>109.4</td>\n",
       "      <td>32</td>\n",
       "      <td>100.4</td>\n",
       "      <td>14</td>\n",
       "      <td>2.39</td>\n",
       "      <td>94</td>\n",
       "    </tr>\n",
       "    <tr>\n",
       "      <th>3</th>\n",
       "      <td>4</td>\n",
       "      <td>Virginia 1</td>\n",
       "      <td>ACC</td>\n",
       "      <td>2021-07-30 00:00:00</td>\n",
       "      <td>26.46</td>\n",
       "      <td>114.8</td>\n",
       "      <td>27</td>\n",
       "      <td>88.3</td>\n",
       "      <td>4</td>\n",
       "      <td>59.5</td>\n",
       "      <td>...</td>\n",
       "      <td>0.012</td>\n",
       "      <td>154</td>\n",
       "      <td>8.67</td>\n",
       "      <td>28</td>\n",
       "      <td>109.4</td>\n",
       "      <td>31</td>\n",
       "      <td>100.8</td>\n",
       "      <td>27</td>\n",
       "      <td>1.57</td>\n",
       "      <td>114</td>\n",
       "    </tr>\n",
       "    <tr>\n",
       "      <th>4</th>\n",
       "      <td>5</td>\n",
       "      <td>Wisconsin 2</td>\n",
       "      <td>B10</td>\n",
       "      <td>2021-08-30 00:00:00</td>\n",
       "      <td>25.89</td>\n",
       "      <td>122.0</td>\n",
       "      <td>4</td>\n",
       "      <td>96.1</td>\n",
       "      <td>35</td>\n",
       "      <td>62.4</td>\n",
       "      <td>...</td>\n",
       "      <td>0.019</td>\n",
       "      <td>133</td>\n",
       "      <td>11.44</td>\n",
       "      <td>3</td>\n",
       "      <td>110.2</td>\n",
       "      <td>13</td>\n",
       "      <td>98.8</td>\n",
       "      <td>2</td>\n",
       "      <td>3.33</td>\n",
       "      <td>68</td>\n",
       "    </tr>\n",
       "  </tbody>\n",
       "</table>\n",
       "<p>5 rows × 21 columns</p>\n",
       "</div>"
      ],
      "text/plain": [
       "   Rk          Team  Conf                  W-L  AdjEM   AdjO  Unnamed: 6  \\\n",
       "0   1  Louisville 4  Amer                 31-6  30.41  118.9           7   \n",
       "1   2     Arizona 1   P12                 33-5  30.11  116.5          20   \n",
       "2   3     Florida 1   SEC                 36-3  28.57  116.5          19   \n",
       "3   4    Virginia 1   ACC  2021-07-30 00:00:00  26.46  114.8          27   \n",
       "4   5   Wisconsin 2   B10  2021-08-30 00:00:00  25.89  122.0           4   \n",
       "\n",
       "   AdjD  Unnamed: 8  AdjT  ...   Luck  Unnamed: 12  AdjEM.1  Unnamed: 14  \\\n",
       "0  88.5           5  67.2  ... -0.045          278     4.31           95   \n",
       "1  86.4           1  62.8  ...  0.014          151     9.30           17   \n",
       "2  88.0           3  61.3  ...  0.053           68     9.02           22   \n",
       "3  88.3           4  59.5  ...  0.012          154     8.67           28   \n",
       "4  96.1          35  62.4  ...  0.019          133    11.44            3   \n",
       "\n",
       "    OppO  Unnamed: 16   OppD  Unnamed: 18  AdjEM.2  Unnamed: 20  \n",
       "0  107.0          100  102.7           93    -4.65          295  \n",
       "1  109.9           20  100.6           18     1.62          113  \n",
       "2  109.4           32  100.4           14     2.39           94  \n",
       "3  109.4           31  100.8           27     1.57          114  \n",
       "4  110.2           13   98.8            2     3.33           68  \n",
       "\n",
       "[5 rows x 21 columns]"
      ]
     },
     "execution_count": 4,
     "metadata": {},
     "output_type": "execute_result"
    }
   ],
   "source": [
    "df14 = pd.read_excel('data2014.xlsx', engine='openpyxl', header = 1)\n",
    "df09 = pd.read_excel('data2009.xlsx', engine='openpyxl', header = 0)\n",
    "df14.head()"
   ]
  },
  {
   "cell_type": "markdown",
   "id": "joint-stopping",
   "metadata": {},
   "source": [
    "Columns starting with 'Unnamed' are irrelevant."
   ]
  },
  {
   "cell_type": "markdown",
   "id": "agreed-peeing",
   "metadata": {},
   "source": [
    "# Histogram of Adjusted Difference"
   ]
  },
  {
   "cell_type": "markdown",
   "id": "unlikely-bankruptcy",
   "metadata": {},
   "source": [
    "Select entries from conferences ACC, SEC, B10, BSky, A10."
   ]
  },
  {
   "cell_type": "code",
   "execution_count": 5,
   "id": "living-cattle",
   "metadata": {},
   "outputs": [
    {
     "data": {
      "text/html": [
       "<div>\n",
       "<style scoped>\n",
       "    .dataframe tbody tr th:only-of-type {\n",
       "        vertical-align: middle;\n",
       "    }\n",
       "\n",
       "    .dataframe tbody tr th {\n",
       "        vertical-align: top;\n",
       "    }\n",
       "\n",
       "    .dataframe thead th {\n",
       "        text-align: right;\n",
       "    }\n",
       "</style>\n",
       "<table border=\"1\" class=\"dataframe\">\n",
       "  <thead>\n",
       "    <tr style=\"text-align: right;\">\n",
       "      <th></th>\n",
       "      <th>Rk</th>\n",
       "      <th>Team</th>\n",
       "      <th>Conf</th>\n",
       "      <th>W-L</th>\n",
       "      <th>AdjEM</th>\n",
       "      <th>AdjO</th>\n",
       "      <th>Unnamed: 6</th>\n",
       "      <th>AdjD</th>\n",
       "      <th>Unnamed: 8</th>\n",
       "      <th>AdjT</th>\n",
       "      <th>...</th>\n",
       "      <th>Luck</th>\n",
       "      <th>Unnamed: 12</th>\n",
       "      <th>AdjEM.1</th>\n",
       "      <th>Unnamed: 14</th>\n",
       "      <th>OppO</th>\n",
       "      <th>Unnamed: 16</th>\n",
       "      <th>OppD</th>\n",
       "      <th>Unnamed: 18</th>\n",
       "      <th>AdjEM.2</th>\n",
       "      <th>Unnamed: 20</th>\n",
       "    </tr>\n",
       "  </thead>\n",
       "  <tbody>\n",
       "    <tr>\n",
       "      <th>2</th>\n",
       "      <td>3</td>\n",
       "      <td>Florida 1</td>\n",
       "      <td>SEC</td>\n",
       "      <td>36-3</td>\n",
       "      <td>28.57</td>\n",
       "      <td>116.5</td>\n",
       "      <td>19</td>\n",
       "      <td>88.0</td>\n",
       "      <td>3</td>\n",
       "      <td>61.3</td>\n",
       "      <td>...</td>\n",
       "      <td>0.053</td>\n",
       "      <td>68</td>\n",
       "      <td>9.02</td>\n",
       "      <td>22</td>\n",
       "      <td>109.4</td>\n",
       "      <td>32</td>\n",
       "      <td>100.4</td>\n",
       "      <td>14</td>\n",
       "      <td>2.39</td>\n",
       "      <td>94</td>\n",
       "    </tr>\n",
       "    <tr>\n",
       "      <th>3</th>\n",
       "      <td>4</td>\n",
       "      <td>Virginia 1</td>\n",
       "      <td>ACC</td>\n",
       "      <td>2021-07-30 00:00:00</td>\n",
       "      <td>26.46</td>\n",
       "      <td>114.8</td>\n",
       "      <td>27</td>\n",
       "      <td>88.3</td>\n",
       "      <td>4</td>\n",
       "      <td>59.5</td>\n",
       "      <td>...</td>\n",
       "      <td>0.012</td>\n",
       "      <td>154</td>\n",
       "      <td>8.67</td>\n",
       "      <td>28</td>\n",
       "      <td>109.4</td>\n",
       "      <td>31</td>\n",
       "      <td>100.8</td>\n",
       "      <td>27</td>\n",
       "      <td>1.57</td>\n",
       "      <td>114</td>\n",
       "    </tr>\n",
       "    <tr>\n",
       "      <th>4</th>\n",
       "      <td>5</td>\n",
       "      <td>Wisconsin 2</td>\n",
       "      <td>B10</td>\n",
       "      <td>2021-08-30 00:00:00</td>\n",
       "      <td>25.89</td>\n",
       "      <td>122.0</td>\n",
       "      <td>4</td>\n",
       "      <td>96.1</td>\n",
       "      <td>35</td>\n",
       "      <td>62.4</td>\n",
       "      <td>...</td>\n",
       "      <td>0.019</td>\n",
       "      <td>133</td>\n",
       "      <td>11.44</td>\n",
       "      <td>3</td>\n",
       "      <td>110.2</td>\n",
       "      <td>13</td>\n",
       "      <td>98.8</td>\n",
       "      <td>2</td>\n",
       "      <td>3.33</td>\n",
       "      <td>68</td>\n",
       "    </tr>\n",
       "    <tr>\n",
       "      <th>7</th>\n",
       "      <td>8</td>\n",
       "      <td>Duke 3</td>\n",
       "      <td>ACC</td>\n",
       "      <td>2021-09-26 00:00:00</td>\n",
       "      <td>24.25</td>\n",
       "      <td>124.7</td>\n",
       "      <td>1</td>\n",
       "      <td>100.4</td>\n",
       "      <td>86</td>\n",
       "      <td>64.6</td>\n",
       "      <td>...</td>\n",
       "      <td>-0.035</td>\n",
       "      <td>255</td>\n",
       "      <td>8.76</td>\n",
       "      <td>25</td>\n",
       "      <td>109.2</td>\n",
       "      <td>34</td>\n",
       "      <td>100.5</td>\n",
       "      <td>17</td>\n",
       "      <td>2.40</td>\n",
       "      <td>93</td>\n",
       "    </tr>\n",
       "    <tr>\n",
       "      <th>8</th>\n",
       "      <td>9</td>\n",
       "      <td>Michigan St. 4</td>\n",
       "      <td>B10</td>\n",
       "      <td>2021-09-29 00:00:00</td>\n",
       "      <td>23.92</td>\n",
       "      <td>118.6</td>\n",
       "      <td>13</td>\n",
       "      <td>94.7</td>\n",
       "      <td>21</td>\n",
       "      <td>64.4</td>\n",
       "      <td>...</td>\n",
       "      <td>-0.003</td>\n",
       "      <td>192</td>\n",
       "      <td>10.44</td>\n",
       "      <td>6</td>\n",
       "      <td>110.2</td>\n",
       "      <td>15</td>\n",
       "      <td>99.7</td>\n",
       "      <td>5</td>\n",
       "      <td>0.57</td>\n",
       "      <td>144</td>\n",
       "    </tr>\n",
       "  </tbody>\n",
       "</table>\n",
       "<p>5 rows × 21 columns</p>\n",
       "</div>"
      ],
      "text/plain": [
       "   Rk            Team Conf                  W-L  AdjEM   AdjO  Unnamed: 6  \\\n",
       "2   3       Florida 1  SEC                 36-3  28.57  116.5          19   \n",
       "3   4      Virginia 1  ACC  2021-07-30 00:00:00  26.46  114.8          27   \n",
       "4   5     Wisconsin 2  B10  2021-08-30 00:00:00  25.89  122.0           4   \n",
       "7   8          Duke 3  ACC  2021-09-26 00:00:00  24.25  124.7           1   \n",
       "8   9  Michigan St. 4  B10  2021-09-29 00:00:00  23.92  118.6          13   \n",
       "\n",
       "    AdjD  Unnamed: 8  AdjT  ...   Luck  Unnamed: 12  AdjEM.1  Unnamed: 14  \\\n",
       "2   88.0           3  61.3  ...  0.053           68     9.02           22   \n",
       "3   88.3           4  59.5  ...  0.012          154     8.67           28   \n",
       "4   96.1          35  62.4  ...  0.019          133    11.44            3   \n",
       "7  100.4          86  64.6  ... -0.035          255     8.76           25   \n",
       "8   94.7          21  64.4  ... -0.003          192    10.44            6   \n",
       "\n",
       "    OppO  Unnamed: 16   OppD  Unnamed: 18  AdjEM.2  Unnamed: 20  \n",
       "2  109.4           32  100.4           14     2.39           94  \n",
       "3  109.4           31  100.8           27     1.57          114  \n",
       "4  110.2           13   98.8            2     3.33           68  \n",
       "7  109.2           34  100.5           17     2.40           93  \n",
       "8  110.2           15   99.7            5     0.57          144  \n",
       "\n",
       "[5 rows x 21 columns]"
      ]
     },
     "execution_count": 5,
     "metadata": {},
     "output_type": "execute_result"
    }
   ],
   "source": [
    "Conferences = ['ACC', 'SEC', 'B10', 'BSky', 'A10']\n",
    "df14_5conf = df14[df14.Conf.isin(Conferences)]\n",
    "df14_5conf.head()"
   ]
  },
  {
   "cell_type": "markdown",
   "id": "specialized-victoria",
   "metadata": {},
   "source": [
    "Ensure binnning is the same for different conferences."
   ]
  },
  {
   "cell_type": "code",
   "execution_count": 6,
   "id": "appointed-chester",
   "metadata": {},
   "outputs": [],
   "source": [
    "num_bins = 51\n",
    "max_adjd = df14_5conf['AdjD'].max()\n",
    "min_adjd = df14_5conf['AdjD'].min()\n",
    "bins_adjd = np.arange(min_adjd, max_adjd, (max_adjd-min_adjd)/num_bins)"
   ]
  },
  {
   "cell_type": "code",
   "execution_count": 7,
   "id": "cultural-default",
   "metadata": {},
   "outputs": [
    {
     "data": {
      "image/png": "[encoded data removed]",
      "text/plain": [
       "<Figure size 1080x576 with 1 Axes>"
      ]
     },
     "execution_count": 7,
     "metadata": {},
     "output_type": "execute_result"
    }
   ],
   "source": [
    "#choose colors, style and histtype\n",
    "colors = vis.Color_palette(0)\n",
    "colors[0] = 'seagreen'\n",
    "colors[1] = 'orange'\n",
    "colors[2] = 'b'\n",
    "colors[4] = 'k'\n",
    "histtypes = ['bar', 'step', 'step', 'bar', 'step']\n",
    "histlinestyles = ['solid','solid','dashed','solid','dashed']\n",
    "alphas = [.5, .8,.7,.5,.9,.9]\n",
    "\n",
    "#actual plot\n",
    "fig, ax = plt.subplots(figsize = (15,8))\n",
    "for i in range(len(Conferences)):\n",
    "    df_temp = df14_5conf[df14_5conf.Conf.isin([Conferences[i]])]\n",
    "    ser_temp = df_temp.AdjD\n",
    "    save_fig = False\n",
    "    if i == len(Conferences)-1:\n",
    "        save_fig = True\n",
    "    x, y, sy, binwidth, fig, ax = vis.nice_histogram(ser_temp, bins_adjd, show_plot = False, \n",
    "                                                    axis = ax, save = save_fig, figname='ex1.pdf',\n",
    "                                                    figure = fig, data_label_hist = Conferences[i], \n",
    "                                                    color_hist = colors[i], plot_errors = False,\n",
    "                                                    plot_hist = True, legend_loc=2, histtype = histtypes[i],\n",
    "                                                    hist_alpha = alphas[i], hist_linestyle = histlinestyles[i],\n",
    "                                                    legend_fs = 25, xlabel = 'AdjD', hist_linewidth=2)\n",
    "    ax.yaxis.set_major_locator(MaxNLocator(integer=True))\n",
    "fig"
   ]
  },
  {
   "cell_type": "markdown",
   "id": "sporting-danish",
   "metadata": {},
   "source": [
    "#  Difference in AdjO, Mean and Median"
   ]
  },
  {
   "cell_type": "markdown",
   "id": "valued-alfred",
   "metadata": {},
   "source": [
    "## Difference in AdjO"
   ]
  },
  {
   "cell_type": "markdown",
   "id": "average-sleep",
   "metadata": {},
   "source": [
    "The goal is to plot difference in AdjO between 2014 and 2009 vs AdjO in 2009.\n",
    "Choose relevant columns and rename them to enable merging of dataframes."
   ]
  },
  {
   "cell_type": "code",
   "execution_count": 8,
   "id": "piano-mitchell",
   "metadata": {},
   "outputs": [
    {
     "data": {
      "text/html": [
       "<div>\n",
       "<style scoped>\n",
       "    .dataframe tbody tr th:only-of-type {\n",
       "        vertical-align: middle;\n",
       "    }\n",
       "\n",
       "    .dataframe tbody tr th {\n",
       "        vertical-align: top;\n",
       "    }\n",
       "\n",
       "    .dataframe thead th {\n",
       "        text-align: right;\n",
       "    }\n",
       "</style>\n",
       "<table border=\"1\" class=\"dataframe\">\n",
       "  <thead>\n",
       "    <tr style=\"text-align: right;\">\n",
       "      <th></th>\n",
       "      <th>Team</th>\n",
       "      <th>Conf14</th>\n",
       "      <th>AdjO14</th>\n",
       "    </tr>\n",
       "  </thead>\n",
       "  <tbody>\n",
       "    <tr>\n",
       "      <th>0</th>\n",
       "      <td>Louisville 4</td>\n",
       "      <td>Amer</td>\n",
       "      <td>118.9</td>\n",
       "    </tr>\n",
       "    <tr>\n",
       "      <th>1</th>\n",
       "      <td>Arizona 1</td>\n",
       "      <td>P12</td>\n",
       "      <td>116.5</td>\n",
       "    </tr>\n",
       "    <tr>\n",
       "      <th>2</th>\n",
       "      <td>Florida 1</td>\n",
       "      <td>SEC</td>\n",
       "      <td>116.5</td>\n",
       "    </tr>\n",
       "    <tr>\n",
       "      <th>3</th>\n",
       "      <td>Virginia 1</td>\n",
       "      <td>ACC</td>\n",
       "      <td>114.8</td>\n",
       "    </tr>\n",
       "    <tr>\n",
       "      <th>4</th>\n",
       "      <td>Wisconsin 2</td>\n",
       "      <td>B10</td>\n",
       "      <td>122.0</td>\n",
       "    </tr>\n",
       "  </tbody>\n",
       "</table>\n",
       "</div>"
      ],
      "text/plain": [
       "           Team Conf14  AdjO14\n",
       "0  Louisville 4   Amer   118.9\n",
       "1     Arizona 1    P12   116.5\n",
       "2     Florida 1    SEC   116.5\n",
       "3    Virginia 1    ACC   114.8\n",
       "4   Wisconsin 2    B10   122.0"
      ]
     },
     "execution_count": 8,
     "metadata": {},
     "output_type": "execute_result"
    }
   ],
   "source": [
    "df09_sub = df09[['Team', 'Conf', 'AdjO']]\n",
    "df14_sub = df14[['Team', 'Conf', 'AdjO']]\n",
    "df09_sub = df09_sub.rename(columns={\"AdjO\": \"AdjO09\", \"Conf\":\"Conf09\"})\n",
    "df14_sub = df14_sub.rename(columns={\"AdjO\": \"AdjO14\", \"Conf\":\"Conf14\"})\n",
    "df14_sub.head()"
   ]
  },
  {
   "cell_type": "markdown",
   "id": "suspended-investor",
   "metadata": {},
   "source": [
    "Merge dataframes"
   ]
  },
  {
   "cell_type": "code",
   "execution_count": 9,
   "id": "robust-birthday",
   "metadata": {},
   "outputs": [
    {
     "data": {
      "text/html": [
       "<div>\n",
       "<style scoped>\n",
       "    .dataframe tbody tr th:only-of-type {\n",
       "        vertical-align: middle;\n",
       "    }\n",
       "\n",
       "    .dataframe tbody tr th {\n",
       "        vertical-align: top;\n",
       "    }\n",
       "\n",
       "    .dataframe thead th {\n",
       "        text-align: right;\n",
       "    }\n",
       "</style>\n",
       "<table border=\"1\" class=\"dataframe\">\n",
       "  <thead>\n",
       "    <tr style=\"text-align: right;\">\n",
       "      <th></th>\n",
       "      <th>Team</th>\n",
       "      <th>Conf09</th>\n",
       "      <th>AdjO09</th>\n",
       "      <th>Conf14</th>\n",
       "      <th>AdjO14</th>\n",
       "    </tr>\n",
       "  </thead>\n",
       "  <tbody>\n",
       "    <tr>\n",
       "      <th>0</th>\n",
       "      <td>Syracuse 3</td>\n",
       "      <td>BE</td>\n",
       "      <td>117.0</td>\n",
       "      <td>ACC</td>\n",
       "      <td>114.6</td>\n",
       "    </tr>\n",
       "    <tr>\n",
       "      <th>1</th>\n",
       "      <td>Texas 7</td>\n",
       "      <td>B12</td>\n",
       "      <td>112.2</td>\n",
       "      <td>B12</td>\n",
       "      <td>111.8</td>\n",
       "    </tr>\n",
       "    <tr>\n",
       "      <th>2</th>\n",
       "      <td>Utah 5</td>\n",
       "      <td>MWC</td>\n",
       "      <td>110.8</td>\n",
       "      <td>P12</td>\n",
       "      <td>110.7</td>\n",
       "    </tr>\n",
       "    <tr>\n",
       "      <th>3</th>\n",
       "      <td>Florida 1</td>\n",
       "      <td>SEC</td>\n",
       "      <td>115.1</td>\n",
       "      <td>SEC</td>\n",
       "      <td>116.5</td>\n",
       "    </tr>\n",
       "    <tr>\n",
       "      <th>4</th>\n",
       "      <td>Houston</td>\n",
       "      <td>CUSA</td>\n",
       "      <td>109.2</td>\n",
       "      <td>Amer</td>\n",
       "      <td>111.1</td>\n",
       "    </tr>\n",
       "  </tbody>\n",
       "</table>\n",
       "</div>"
      ],
      "text/plain": [
       "         Team Conf09  AdjO09 Conf14  AdjO14\n",
       "0  Syracuse 3     BE   117.0    ACC   114.6\n",
       "1     Texas 7    B12   112.2    B12   111.8\n",
       "2      Utah 5    MWC   110.8    P12   110.7\n",
       "3   Florida 1    SEC   115.1    SEC   116.5\n",
       "4     Houston   CUSA   109.2   Amer   111.1"
      ]
     },
     "execution_count": 9,
     "metadata": {},
     "output_type": "execute_result"
    }
   ],
   "source": [
    "df_comb = pd.merge(df09_sub, df14_sub, left_on='Team', right_on='Team', how = 'inner')\n",
    "df_comb.head() #some teams changed conference, we therefore use the conference of 2014\n",
    "#For plot colours we will use conference of 2014"
   ]
  },
  {
   "cell_type": "markdown",
   "id": "fifty-restoration",
   "metadata": {},
   "source": [
    "Compute the difference."
   ]
  },
  {
   "cell_type": "code",
   "execution_count": 10,
   "id": "meaning-synthetic",
   "metadata": {},
   "outputs": [
    {
     "data": {
      "text/html": [
       "<div>\n",
       "<style scoped>\n",
       "    .dataframe tbody tr th:only-of-type {\n",
       "        vertical-align: middle;\n",
       "    }\n",
       "\n",
       "    .dataframe tbody tr th {\n",
       "        vertical-align: top;\n",
       "    }\n",
       "\n",
       "    .dataframe thead th {\n",
       "        text-align: right;\n",
       "    }\n",
       "</style>\n",
       "<table border=\"1\" class=\"dataframe\">\n",
       "  <thead>\n",
       "    <tr style=\"text-align: right;\">\n",
       "      <th></th>\n",
       "      <th>Team</th>\n",
       "      <th>Conf09</th>\n",
       "      <th>AdjO09</th>\n",
       "      <th>Conf14</th>\n",
       "      <th>AdjO14</th>\n",
       "      <th>AdjO_diff</th>\n",
       "    </tr>\n",
       "  </thead>\n",
       "  <tbody>\n",
       "    <tr>\n",
       "      <th>0</th>\n",
       "      <td>Syracuse 3</td>\n",
       "      <td>BE</td>\n",
       "      <td>117.0</td>\n",
       "      <td>ACC</td>\n",
       "      <td>114.6</td>\n",
       "      <td>-2.4</td>\n",
       "    </tr>\n",
       "    <tr>\n",
       "      <th>1</th>\n",
       "      <td>Texas 7</td>\n",
       "      <td>B12</td>\n",
       "      <td>112.2</td>\n",
       "      <td>B12</td>\n",
       "      <td>111.8</td>\n",
       "      <td>-0.4</td>\n",
       "    </tr>\n",
       "    <tr>\n",
       "      <th>2</th>\n",
       "      <td>Utah 5</td>\n",
       "      <td>MWC</td>\n",
       "      <td>110.8</td>\n",
       "      <td>P12</td>\n",
       "      <td>110.7</td>\n",
       "      <td>-0.1</td>\n",
       "    </tr>\n",
       "    <tr>\n",
       "      <th>3</th>\n",
       "      <td>Florida 1</td>\n",
       "      <td>SEC</td>\n",
       "      <td>115.1</td>\n",
       "      <td>SEC</td>\n",
       "      <td>116.5</td>\n",
       "      <td>1.4</td>\n",
       "    </tr>\n",
       "    <tr>\n",
       "      <th>4</th>\n",
       "      <td>Houston</td>\n",
       "      <td>CUSA</td>\n",
       "      <td>109.2</td>\n",
       "      <td>Amer</td>\n",
       "      <td>111.1</td>\n",
       "      <td>1.9</td>\n",
       "    </tr>\n",
       "  </tbody>\n",
       "</table>\n",
       "</div>"
      ],
      "text/plain": [
       "         Team Conf09  AdjO09 Conf14  AdjO14  AdjO_diff\n",
       "0  Syracuse 3     BE   117.0    ACC   114.6       -2.4\n",
       "1     Texas 7    B12   112.2    B12   111.8       -0.4\n",
       "2      Utah 5    MWC   110.8    P12   110.7       -0.1\n",
       "3   Florida 1    SEC   115.1    SEC   116.5        1.4\n",
       "4     Houston   CUSA   109.2   Amer   111.1        1.9"
      ]
     },
     "execution_count": 10,
     "metadata": {},
     "output_type": "execute_result"
    }
   ],
   "source": [
    "df_comb['AdjO_diff'] = df_comb['AdjO14']-df_comb['AdjO09']\n",
    "df_comb.head()"
   ]
  },
  {
   "cell_type": "markdown",
   "id": "advance-serbia",
   "metadata": {},
   "source": [
    "We see that some teams have changed conferences. For the plot we choose the color of the 2014 conference."
   ]
  },
  {
   "cell_type": "code",
   "execution_count": 11,
   "id": "acute-cornell",
   "metadata": {},
   "outputs": [
    {
     "data": {
      "image/png": "[encoded data removed]",
      "text/plain": [
       "<Figure size 1080x576 with 1 Axes>"
      ]
     },
     "execution_count": 11,
     "metadata": {},
     "output_type": "execute_result"
    }
   ],
   "source": [
    "fig, ax = plt.subplots(figsize = (15,8))\n",
    "for i in range(len(Conferences)):\n",
    "    df_temp = df_comb[df_comb.Conf14.isin([Conferences[i]])]\n",
    "    save_fig = False\n",
    "    if i == len(Conferences)-1:\n",
    "        save_fig = True\n",
    "    ax, fig = vis.nice_plot(df_temp['AdjO09'], df_temp['AdjO_diff'], show_plot = False, scatter = True, \n",
    "                                                        axis = ax, save_plot = save_fig, figname='ex2.pdf',\n",
    "                                                        figure = fig, data_label = Conferences[i],                                                 \n",
    "                                                        legend_loc=3, color = colors[i], alpha = alphas[i],                                     \n",
    "                                                        legend_fs = 25, xlabel = 'AdjO 2009', \n",
    "                                                        ylabel = 'Difference AdjO', scr_markersize = 200)\n",
    "fig"
   ]
  },
  {
   "cell_type": "markdown",
   "id": "macro-process",
   "metadata": {},
   "source": [
    "## Compute Mean and Median "
   ]
  },
  {
   "cell_type": "markdown",
   "id": "verified-reason",
   "metadata": {},
   "source": [
    "Split data into 5 conferences and rest."
   ]
  },
  {
   "cell_type": "code",
   "execution_count": 12,
   "id": "recent-taxation",
   "metadata": {},
   "outputs": [
    {
     "data": {
      "text/html": [
       "<div>\n",
       "<style scoped>\n",
       "    .dataframe tbody tr th:only-of-type {\n",
       "        vertical-align: middle;\n",
       "    }\n",
       "\n",
       "    .dataframe tbody tr th {\n",
       "        vertical-align: top;\n",
       "    }\n",
       "\n",
       "    .dataframe thead th {\n",
       "        text-align: right;\n",
       "    }\n",
       "</style>\n",
       "<table border=\"1\" class=\"dataframe\">\n",
       "  <thead>\n",
       "    <tr style=\"text-align: right;\">\n",
       "      <th></th>\n",
       "      <th>Team</th>\n",
       "      <th>Conf09</th>\n",
       "      <th>AdjO09</th>\n",
       "      <th>Conf14</th>\n",
       "      <th>AdjO14</th>\n",
       "      <th>AdjO_diff</th>\n",
       "    </tr>\n",
       "  </thead>\n",
       "  <tbody>\n",
       "    <tr>\n",
       "      <th>0</th>\n",
       "      <td>Syracuse 3</td>\n",
       "      <td>BE</td>\n",
       "      <td>117.0</td>\n",
       "      <td>ACC</td>\n",
       "      <td>114.6</td>\n",
       "      <td>-2.4</td>\n",
       "    </tr>\n",
       "    <tr>\n",
       "      <th>3</th>\n",
       "      <td>Florida 1</td>\n",
       "      <td>SEC</td>\n",
       "      <td>115.1</td>\n",
       "      <td>SEC</td>\n",
       "      <td>116.5</td>\n",
       "      <td>1.4</td>\n",
       "    </tr>\n",
       "    <tr>\n",
       "      <th>6</th>\n",
       "      <td>Dayton 11</td>\n",
       "      <td>A10</td>\n",
       "      <td>103.3</td>\n",
       "      <td>A10</td>\n",
       "      <td>113.8</td>\n",
       "      <td>10.5</td>\n",
       "    </tr>\n",
       "    <tr>\n",
       "      <th>7</th>\n",
       "      <td>Vanderbilt</td>\n",
       "      <td>SEC</td>\n",
       "      <td>107.6</td>\n",
       "      <td>SEC</td>\n",
       "      <td>104.1</td>\n",
       "      <td>-3.5</td>\n",
       "    </tr>\n",
       "    <tr>\n",
       "      <th>11</th>\n",
       "      <td>Mississippi</td>\n",
       "      <td>SEC</td>\n",
       "      <td>111.4</td>\n",
       "      <td>SEC</td>\n",
       "      <td>111.2</td>\n",
       "      <td>-0.2</td>\n",
       "    </tr>\n",
       "  </tbody>\n",
       "</table>\n",
       "</div>"
      ],
      "text/plain": [
       "           Team Conf09  AdjO09 Conf14  AdjO14  AdjO_diff\n",
       "0    Syracuse 3     BE   117.0    ACC   114.6       -2.4\n",
       "3     Florida 1    SEC   115.1    SEC   116.5        1.4\n",
       "6     Dayton 11    A10   103.3    A10   113.8       10.5\n",
       "7    Vanderbilt    SEC   107.6    SEC   104.1       -3.5\n",
       "11  Mississippi    SEC   111.4    SEC   111.2       -0.2"
      ]
     },
     "execution_count": 12,
     "metadata": {},
     "output_type": "execute_result"
    }
   ],
   "source": [
    "df_comb_red = df_comb[df_comb.Conf14.isin(Conferences)]\n",
    "df_comb_rest = df_comb[~df_comb.Conf14.isin(Conferences)]\n",
    "df_comb_red.head()"
   ]
  },
  {
   "cell_type": "code",
   "execution_count": 13,
   "id": "metric-universal",
   "metadata": {},
   "outputs": [],
   "source": [
    "#Compute mean and median\n",
    "Mean5 = df_comb_red.groupby('Conf14').mean()\n",
    "Med5 = df_comb_red.groupby('Conf14').median()\n",
    "MeanRest = df_comb_rest['AdjO_diff'].mean()\n",
    "MedRest = df_comb_rest['AdjO_diff'].median()\n",
    "Mean = Mean5['AdjO_diff'].append(pd.Series([MeanRest], index = ['Rest']))\n",
    "Median = Med5['AdjO_diff'].append(pd.Series([MedRest], index = ['Rest']))"
   ]
  },
  {
   "cell_type": "code",
   "execution_count": 14,
   "id": "internal-cause",
   "metadata": {},
   "outputs": [
    {
     "name": "stderr",
     "output_type": "stream",
     "text": [
      "No handles with labels found to put in legend.\n",
      "No handles with labels found to put in legend.\n",
      "No handles with labels found to put in legend.\n",
      "No handles with labels found to put in legend.\n"
     ]
    },
    {
     "data": {
      "image/png": "[encoded data removed]",
      "text/plain": [
       "<Figure size 1080x648 with 1 Axes>"
      ]
     },
     "execution_count": 14,
     "metadata": {},
     "output_type": "execute_result"
    }
   ],
   "source": [
    "Conferences = ['ACC', 'SEC', 'B10', 'BSky', 'A10']\n",
    "Conferences.append('Rest')\n",
    "colors[5] = 'dimgrey'\n",
    "#Add table\n",
    "median_list = [round(m,2) for m in list(Median)]\n",
    "mean_list = [round(m,2) for m in list(Mean)]\n",
    "cellText = [mean_list, median_list]\n",
    "collabels = Conferences\n",
    "rowlabels = ['Mean', 'Median']\n",
    "\n",
    "x_axis = np.arange(len(Conferences))\n",
    "\n",
    "fig, ax = plt.subplots(figsize = (15,9))\n",
    "\n",
    "for i in range(len(Conferences)):\n",
    "    label_mean = None\n",
    "    if i == len(Conferences)-1:\n",
    "        ax.set_xticks(x_axis)\n",
    "        ax.set_xticklabels(Conferences)\n",
    "    if i ==4:\n",
    "        label_mean  = 'Mean'\n",
    "    ax, fig = vis.nice_plot(x_axis[i], Mean[Conferences[i]], show_plot = False, scatter = True, \n",
    "                                    axis = ax, \n",
    "                                    figure = fig, data_label = label_mean,                                                 \n",
    "                                    legend_loc=3, color = colors[i], alpha = alphas[i],                                     \n",
    "                                    legend_fs = 25, xlabel = 'Conference', \n",
    "                                    scr_markersize = 200)\n",
    "for i in range(len(Conferences)):\n",
    "    label_med = None\n",
    "    if i == len(Conferences)-1:\n",
    "        ax.set_xticks(x_axis)\n",
    "        ax.set_xticklabels(Conferences)\n",
    "        kwargs = {'fontsize':25, 'alpha':.7}\n",
    "        ax.table(cellText = cellText, rowLabels = rowlabels, colLabels = collabels, \n",
    "                bbox = [0,-0.4,1,.4], **kwargs)#tale\n",
    "    if i ==4:\n",
    "        label_med = 'Median'\n",
    "    ax, fig = vis.nice_plot(x_axis[i], Median[Conferences[i]], show_plot = False, scatter = True, \n",
    "                                    axis = ax, \n",
    "                                    figure = fig, data_label = label_med,                                                 \n",
    "                                    legend_loc=2, color = colors[i], alpha = alphas[i],                                     \n",
    "                                    legend_fs = 25, xlabel = 'Conference', \n",
    "                                    scr_markersize = 500, scr_markerstyle='x')\n",
    "    ax.set_title('Mean/Median of the Difference of AdjO', fontsize = 25,  color = 'grey')\n",
    "    ax.set_xlim((-.5,5.5))\n",
    "    ax.set_xticks([])\n",
    "    ax.set_xlabel('')\n",
    "    #fig.tight_layout()\n",
    "    fig.savefig('ex2_2.pdf')\n",
    "fig"
   ]
  },
  {
   "cell_type": "markdown",
   "id": "convenient-amateur",
   "metadata": {},
   "source": [
    "# Include Conference BE and repeat 1 and 2"
   ]
  },
  {
   "cell_type": "markdown",
   "id": "promising-modem",
   "metadata": {},
   "source": [
    "## Repeat Ex. 1 "
   ]
  },
  {
   "cell_type": "code",
   "execution_count": 15,
   "id": "tropical-capitol",
   "metadata": {},
   "outputs": [],
   "source": [
    "Conferences = ['ACC', 'SEC', 'B10', 'BSky', 'A10', 'BE']\n",
    "df14_5conf = df14[df14.Conf.isin(Conferences)]\n",
    "\n",
    "num_bins = 51\n",
    "max_adjd = df14_5conf['AdjD'].max()\n",
    "min_adjd = df14_5conf['AdjD'].min()\n",
    "bins_adjd = np.arange(min_adjd, max_adjd, (max_adjd-min_adjd)/num_bins )"
   ]
  },
  {
   "cell_type": "code",
   "execution_count": 16,
   "id": "honest-sociology",
   "metadata": {},
   "outputs": [
    {
     "data": {
      "image/png": "[encoded data removed]",
      "text/plain": [
       "<Figure size 1080x576 with 1 Axes>"
      ]
     },
     "execution_count": 16,
     "metadata": {},
     "output_type": "execute_result"
    }
   ],
   "source": [
    "colors = vis.Color_palette(0)\n",
    "colors[0] = 'seagreen'\n",
    "colors[1] = 'orange'\n",
    "colors[2] = 'b'\n",
    "colors[4] = 'k'\n",
    "colors[5] = 'darkviolet'\n",
    "histtypes = ['bar', 'step', 'step', 'bar', 'step', 'step', 'step']\n",
    "histlinestyles = ['solid','solid','dashed','solid','dashed', 'dashed', 'dashed']\n",
    "alphas = [.5, .8,.7,.5,.9, .9,.9]\n",
    "#actual plot\n",
    "fig, ax = plt.subplots(figsize = (15,8))\n",
    "for i in range(len(Conferences)):\n",
    "    df_temp = df14_5conf[df14_5conf.Conf.isin([Conferences[i]])]\n",
    "    ser_temp = df_temp.AdjD\n",
    "    save_fig = False\n",
    "    if i == len(Conferences)-1:\n",
    "        save_fig = True\n",
    "    x, y, sy, binwidth, fig, ax = vis.nice_histogram(ser_temp, bins_adjd, show_plot = False, \n",
    "                                                             axis = ax, save = save_fig, figname='ex3_1.pdf',\n",
    "                                                            figure = fig, data_label_hist = Conferences[i], \n",
    "                                                             color_hist = colors[i], plot_errors = False,\n",
    "                                                            plot_hist = True, legend_loc=2, histtype = histtypes[i],\n",
    "                                                            hist_alpha = alphas[i], hist_linestyle = histlinestyles[i],\n",
    "                                                            legend_fs = 25, xlabel = 'AdjD')\n",
    "    ax.yaxis.set_major_locator(MaxNLocator(integer=True))\n",
    "fig"
   ]
  },
  {
   "cell_type": "markdown",
   "id": "anonymous-length",
   "metadata": {},
   "source": [
    "## Repeat Ex. 2.1"
   ]
  },
  {
   "cell_type": "code",
   "execution_count": 17,
   "id": "practical-pharmacology",
   "metadata": {},
   "outputs": [
    {
     "data": {
      "image/png": "[encoded data removed]",
      "text/plain": [
       "<Figure size 1080x576 with 1 Axes>"
      ]
     },
     "execution_count": 17,
     "metadata": {},
     "output_type": "execute_result"
    }
   ],
   "source": [
    "fig, ax = plt.subplots(figsize = (15,8))\n",
    "for i in range(len(Conferences)):\n",
    "    df_temp = df_comb[df_comb.Conf14.isin([Conferences[i]])]\n",
    "    save_fig = False\n",
    "    if i == len(Conferences)-1:\n",
    "        save_fig = True\n",
    "    ax, fig = vis.nice_plot(df_temp['AdjO09'], df_temp['AdjO_diff'], show_plot = False, scatter = True, \n",
    "                                    axis = ax, save_plot = save_fig, figname='ex3_2_1.pdf',\n",
    "                                    figure = fig, data_label = Conferences[i],                                                 \n",
    "                                    legend_loc=3, color = colors[i], alpha = alphas[i],                                     \n",
    "                                    legend_fs = 25, xlabel = 'AdjO 2009', \n",
    "                                    ylabel = 'Difference AdjO', scr_markersize = 200,\n",
    "                                    dpi =80)\n",
    "fig"
   ]
  },
  {
   "cell_type": "markdown",
   "id": "blind-screw",
   "metadata": {},
   "source": [
    "## Repeat Ex. 2.2 "
   ]
  },
  {
   "cell_type": "code",
   "execution_count": 19,
   "id": "random-adult",
   "metadata": {},
   "outputs": [],
   "source": [
    "#split data in conferences\n",
    "df_comb_red = df_comb[df_comb.Conf14.isin(Conferences)]\n",
    "df_comb_rest = df_comb[~df_comb.Conf14.isin(Conferences)]\n",
    "\n",
    "#Compute mean and median\n",
    "Mean5 = df_comb_red.groupby('Conf14').mean()\n",
    "Med5 = df_comb_red.groupby('Conf14').median()\n",
    "MeanRest = df_comb_rest['AdjO_diff'].mean()\n",
    "MedRest = df_comb_rest['AdjO_diff'].median()\n",
    "Mean = Mean5['AdjO_diff'].append(pd.Series([MeanRest], index = ['Rest']))\n",
    "Median = Med5['AdjO_diff'].append(pd.Series([MedRest], index = ['Rest']))"
   ]
  },
  {
   "cell_type": "code",
   "execution_count": null,
   "id": "mediterranean-carter",
   "metadata": {},
   "outputs": [],
   "source": [
    "fig, ax = plt.subplots(figsize = (15,9))\n",
    "#Add table\n",
    "median_list = [round(m,2) for m in list(Median)]\n",
    "mean_list = [round(m,2) for m in list(Mean)]\n",
    "cellText = [mean_list, median_list]\n",
    "colors[6] = 'dimgrey'\n",
    "rowlabels = ['Mean', 'Median']\n",
    "\n",
    "Conferences = ['ACC', 'SEC', 'B10', 'BSky', 'A10', 'BE', 'Rest']\n",
    "collabels = Conferences\n",
    "\n",
    "x_axis = np.arange(len(Conferences))\n",
    "\n",
    "for i in range(len(Conferences)):\n",
    "    label_mean = None\n",
    "    if i == len(Conferences)-1:\n",
    "        ax.set_xticks(x_axis)\n",
    "        ax.set_xticklabels(Conferences)\n",
    "    if i ==4:\n",
    "        label_mean  = 'Mean'\n",
    "    ax, fig = vis.nice_plot(x_axis[i], Mean[Conferences[i]], show_plot = False, scatter = True, \n",
    "                                    axis = ax, \n",
    "                                    figure = fig, data_label = label_mean,                                                 \n",
    "                                    legend_loc=3, color = colors[i], alpha = alphas[i],                                     \n",
    "                                    legend_fs = 25, xlabel = 'Conference', \n",
    "                                    scr_markersize = 200)\n",
    "for i in range(len(Conferences)):\n",
    "    label_med = None\n",
    "    if i == len(Conferences)-1:\n",
    "        ax.set_xticks(x_axis)\n",
    "        ax.set_xticklabels(Conferences)\n",
    "        kwargs = {'fontsize':25, 'alpha':.7}\n",
    "        ax.table(cellText = cellText, rowLabels = rowlabels, colLabels = collabels, \n",
    "                bbox = [0,-0.4,1,.4], **kwargs)#tale\n",
    "    if i ==4:\n",
    "        label_med = 'Median'\n",
    "    ax, fig = vis.nice_plot(x_axis[i], Median[Conferences[i]], show_plot = False, scatter = True, \n",
    "                                    axis = ax, \n",
    "                                    figure = fig, data_label = label_med,                                                 \n",
    "                                    legend_loc=2, color = colors[i], alpha = alphas[i],                                     \n",
    "                                    legend_fs = 25, xlabel = 'Conference', \n",
    "                                    scr_markersize = 500, scr_markerstyle='x')\n",
    "    ax.set_title('Mean/Median of the Difference of AdjO', fontsize = 25,  color = 'grey')\n",
    "    ax.set_xlim((-.5,6.5))\n",
    "    ax.set_xticks([])\n",
    "    ax.set_xlabel('')\n",
    "    #fig.tight_layout()\n",
    "    fig.savefig('ex3_2_2.pdf')\n",
    "fig"
   ]
  },
  {
   "cell_type": "markdown",
   "id": "associate-playing",
   "metadata": {},
   "source": [
    "# Extra "
   ]
  },
  {
   "cell_type": "code",
   "execution_count": null,
   "id": "posted-utilization",
   "metadata": {},
   "outputs": [],
   "source": [
    "import PyPDF2, re"
   ]
  },
  {
   "cell_type": "markdown",
   "id": "radio-supplier",
   "metadata": {},
   "source": [
    "Functions to clean the text and extract names in a list"
   ]
  },
  {
   "cell_type": "code",
   "execution_count": null,
   "id": "important-dialogue",
   "metadata": {},
   "outputs": [],
   "source": [
    "def remove_digits(text):\n",
    "    return ''.join([i for i in text if not i.isdigit()])\n",
    "\n",
    "def clean_text(text):\n",
    "    imax = 5000\n",
    "    i = 0\n",
    "    pattern  = '\\n'+'[A-Z0-9]'+'\\n'\n",
    "    m = re.search(pattern, text, 1)\n",
    "    while (not(m==None) and (i<imax) ):\n",
    "        spec_pattern = '\\n'+m.group(0)[1]+'\\n'\n",
    "        text = text.replace(spec_pattern, ' '+m.group(0)[1])\n",
    "        m = re.search(pattern, text, 1)\n",
    "        i+=1   \n",
    "    return text\n",
    "\n",
    "def remove_organisations(text):\n",
    "    imax = 5000\n",
    "    i = 0\n",
    "    text = re.sub(r\"\\([^()]*\\)\", \"\", text)\n",
    "    return text\n",
    "\n",
    "def remove_lower(text): return re.sub(',[a-z]', '', text)\n",
    "\n",
    "def clear_page(text):\n",
    "    text = text.replace('\\n,\\n', ' ')\n",
    "    text = remove_digits(text)\n",
    "    #Remove header\n",
    "    text = clean_text(text)\n",
    "    text = remove_organisations(text)\n",
    "    text = text.replace(',,', ',')\n",
    "    text = text.replace('  ', ',')\n",
    "    text = text.replace(' \\n', ',')\n",
    "    text = text.replace('\\n', '')\n",
    "    text = remove_lower(text)\n",
    "    text = text.replace(' ', '')\n",
    "    text = text.replace(',.', ',L.')\n",
    "    text = text.replace(',AND', ',')\n",
    "    #one could also remove the apostrophs in the names, \n",
    "    #but for now we leave it as it is, which would change the order\n",
    "    return text"
   ]
  },
  {
   "cell_type": "code",
   "execution_count": null,
   "id": "meaningful-inclusion",
   "metadata": {},
   "outputs": [],
   "source": [
    "pdfReader = PyPDF2.PdfFileReader('authors.pdf')\n",
    "Text = []\n",
    "for i in range(11):\n",
    "    pageObj = pdfReader.getPage(i)\n",
    "    p = pageObj.extractText()[1:]\n",
    "    if i==0:\n",
    "        start_index = p.find('P.A\\nBBOTT')\n",
    "        p = p[start_index:]\n",
    "    p = clear_page(p)\n",
    "    Text.append(p)\n",
    "stop_index = Text[10].find('LIGO,CaliforniaInstituteof')\n",
    "Text[10] = Text[10][:stop_index]\n",
    "Text[10] = Text[10].replace('ANDP.A.WOUDT', 'P.A.WOUDT')"
   ]
  },
  {
   "cell_type": "markdown",
   "id": "finnish-avatar",
   "metadata": {},
   "source": [
    "Example of cleaned text"
   ]
  },
  {
   "cell_type": "code",
   "execution_count": null,
   "id": "sweet-assist",
   "metadata": {},
   "outputs": [],
   "source": [
    "Text[0][:500]"
   ]
  },
  {
   "cell_type": "code",
   "execution_count": null,
   "id": "advised-worker",
   "metadata": {},
   "outputs": [],
   "source": [
    "Text_all = []\n",
    "for i in range(len(Text)):\n",
    "    Text[i] = Text[i].split(',')\n",
    "#remove last entry, which is empty\n",
    "for i in range(10):\n",
    "    Text[i] = Text[i][:-1]"
   ]
  },
  {
   "cell_type": "markdown",
   "id": "smooth-isolation",
   "metadata": {},
   "source": [
    "Delete empty entries"
   ]
  },
  {
   "cell_type": "code",
   "execution_count": null,
   "id": "accompanied-corrections",
   "metadata": {},
   "outputs": [],
   "source": [
    "Text_arr = np.array([])\n",
    "for i in range(11):\n",
    "    Text_arr = np.concatenate((Text_arr, np.array(Text[i]) ) )\n",
    "Text_arr = Text_arr.flatten()\n",
    "Text_arr.shape\n",
    "Text_arr = np.delete(Text_arr, obj = np.where(Text_arr ==''))"
   ]
  },
  {
   "cell_type": "code",
   "execution_count": null,
   "id": "inclusive-message",
   "metadata": {},
   "outputs": [],
   "source": [
    "Text_arr.shape #total number of names"
   ]
  },
  {
   "cell_type": "code",
   "execution_count": null,
   "id": "collective-ottawa",
   "metadata": {},
   "outputs": [],
   "source": [
    "names_unique, unique_indices, unique_counts = np.unique(Text_arr, return_index = True, return_counts = True)\n",
    "#np.unique returns an already sorted array\n",
    "names_unique, names_unique.shape, Text_arr.shape"
   ]
  },
  {
   "cell_type": "markdown",
   "id": "impressed-olympus",
   "metadata": {},
   "source": [
    "There are 3478 unique names"
   ]
  },
  {
   "cell_type": "markdown",
   "id": "straight-probability",
   "metadata": {},
   "source": [
    "The two names in the middle are:"
   ]
  },
  {
   "cell_type": "code",
   "execution_count": null,
   "id": "decimal-sierra",
   "metadata": {},
   "outputs": [],
   "source": [
    "names_unique[int(len(names_unique)/2)], names_unique[int(len(names_unique)/2-1)]"
   ]
  },
  {
   "cell_type": "code",
   "execution_count": null,
   "id": "tender-league",
   "metadata": {},
   "outputs": [],
   "source": []
  }
 ],
 "metadata": {
  "kernelspec": {
   "display_name": "Python 3",
   "language": "python",
   "name": "python3"
  },
  "language_info": {
   "codemirror_mode": {
    "name": "ipython",
    "version": 3
   },
   "file_extension": ".py",
   "mimetype": "text/x-python",
   "name": "python",
   "nbconvert_exporter": "python",
   "pygments_lexer": "ipython3",
   "version": "3.6.10"
  },
  "latex_envs": {
   "LaTeX_envs_menu_present": true,
   "autoclose": false,
   "autocomplete": true,
   "bibliofile": "biblio.bib",
   "cite_by": "apalike",
   "current_citInitial": 1,
   "eqLabelWithNumbers": true,
   "eqNumInitial": 1,
   "hotkeys": {
    "equation": "Ctrl-E",
    "itemize": "Ctrl-I"
   },
   "labels_anchors": false,
   "latex_user_defs": false,
   "report_style_numbering": false,
   "user_envs_cfg": false
  },
  "toc": {
   "base_numbering": 1,
   "nav_menu": {},
   "number_sections": true,
   "sideBar": true,
   "skip_h1_title": false,
   "title_cell": "Table of Contents",
   "title_sidebar": "Contents",
   "toc_cell": false,
   "toc_position": {},
   "toc_section_display": true,
   "toc_window_display": false
  },
  "varInspector": {
   "cols": {
    "lenName": 16,
    "lenType": 16,
    "lenVar": 40
   },
   "kernels_config": {
    "python": {
     "delete_cmd_postfix": "",
     "delete_cmd_prefix": "del ",
     "library": "var_list.py",
     "varRefreshCmd": "print(var_dic_list())"
    },
    "r": {
     "delete_cmd_postfix": ") ",
     "delete_cmd_prefix": "rm(",
     "library": "var_list.r",
     "varRefreshCmd": "cat(var_dic_list()) "
    }
   },
   "types_to_exclude": [
    "module",
    "function",
    "builtin_function_or_method",
    "instance",
    "_Feature"
   ],
   "window_display": false
  }
 },
 "nbformat": 4,
 "nbformat_minor": 5
}
